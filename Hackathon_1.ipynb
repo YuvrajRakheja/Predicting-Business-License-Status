{
  "nbformat": 4,
  "nbformat_minor": 0,
  "metadata": {
    "colab": {
      "name": "Hackathon-1.ipynb",
      "provenance": [],
      "collapsed_sections": [],
      "authorship_tag": "ABX9TyOMBIvmYLAEoh8bAOeoYBWa",
      "include_colab_link": true
    },
    "kernelspec": {
      "name": "python3",
      "display_name": "Python 3"
    },
    "language_info": {
      "name": "python"
    }
  },
  "cells": [
    {
      "cell_type": "markdown",
      "metadata": {
        "id": "view-in-github",
        "colab_type": "text"
      },
      "source": [
        "<a href=\"https://colab.research.google.com/github/YuvrajRakheja/Predicting-Business-License-Status/blob/main/Hackathon_1.ipynb\" target=\"_parent\"><img src=\"https://colab.research.google.com/assets/colab-badge.svg\" alt=\"Open In Colab\"/></a>"
      ]
    },
    {
      "cell_type": "markdown",
      "source": [
        "\n",
        "Importing Libraries"
      ],
      "metadata": {
        "id": "qOgvzVe_IjbG"
      }
    },
    {
      "cell_type": "code",
      "execution_count": null,
      "metadata": {
        "id": "g4qzUWgmIiAG"
      },
      "outputs": [],
      "source": [
        "import pandas as pd\n",
        "import numpy as np\n",
        "import matplotlib.pyplot as plt\n",
        "import seaborn as sns"
      ]
    },
    {
      "cell_type": "markdown",
      "source": [
        "Importing Dataset from Drive\n",
        "\n",
        "\n",
        "\n"
      ],
      "metadata": {
        "id": "L7tCi5nfIrQk"
      }
    },
    {
      "cell_type": "code",
      "source": [
        "!wget https://github.com/yuvraj51/Hackathon/raw/main/drive-download-20220316T145053Z-001.zip\n",
        "!unzip /content/drive-download-20220316T145053Z-001.zip"
      ],
      "metadata": {
        "colab": {
          "base_uri": "https://localhost:8080/"
        },
        "id": "KFUjEBrmIr6U",
        "outputId": "118dfac9-55c7-4bde-89e5-2ff042c740c7"
      },
      "execution_count": null,
      "outputs": [
        {
          "output_type": "stream",
          "name": "stdout",
          "text": [
            "--2022-03-16 20:59:35--  https://github.com/yuvraj51/Hackathon/raw/main/drive-download-20220316T145053Z-001.zip\n",
            "Resolving github.com (github.com)... 140.82.114.4\n",
            "Connecting to github.com (github.com)|140.82.114.4|:443... connected.\n",
            "HTTP request sent, awaiting response... 302 Found\n",
            "Location: https://raw.githubusercontent.com/yuvraj51/Hackathon/main/drive-download-20220316T145053Z-001.zip [following]\n",
            "--2022-03-16 20:59:36--  https://raw.githubusercontent.com/yuvraj51/Hackathon/main/drive-download-20220316T145053Z-001.zip\n",
            "Resolving raw.githubusercontent.com (raw.githubusercontent.com)... 185.199.108.133, 185.199.109.133, 185.199.110.133, ...\n",
            "Connecting to raw.githubusercontent.com (raw.githubusercontent.com)|185.199.108.133|:443... connected.\n",
            "HTTP request sent, awaiting response... 200 OK\n",
            "Length: 15134830 (14M) [application/zip]\n",
            "Saving to: ‘drive-download-20220316T145053Z-001.zip.5’\n",
            "\n",
            "drive-download-2022 100%[===================>]  14.43M  --.-KB/s    in 0.08s   \n",
            "\n",
            "2022-03-16 20:59:36 (175 MB/s) - ‘drive-download-20220316T145053Z-001.zip.5’ saved [15134830/15134830]\n",
            "\n",
            "Archive:  /content/drive-download-20220316T145053Z-001.zip\n",
            "replace sample_submission.csv? [y]es, [n]o, [A]ll, [N]one, [r]ename: "
          ]
        }
      ]
    },
    {
      "cell_type": "code",
      "source": [
        "train = pd.read_csv(\"/content/train_file.csv\")\n",
        "train.head()"
      ],
      "metadata": {
        "colab": {
          "base_uri": "https://localhost:8080/",
          "height": 530
        },
        "id": "XhBgnLNAIsBc",
        "outputId": "b785afd1-c8fb-4264-f231-e8f911fc24b1"
      },
      "execution_count": null,
      "outputs": [
        {
          "output_type": "stream",
          "name": "stderr",
          "text": [
            "/usr/local/lib/python3.7/dist-packages/IPython/core/interactiveshell.py:2882: DtypeWarning: Columns (9) have mixed types.Specify dtype option on import or set low_memory=False.\n",
            "  exec(code_obj, self.user_global_ns, self.user_ns)\n"
          ]
        },
        {
          "output_type": "execute_result",
          "data": {
            "text/plain": [
              "                 ID  LICENSE ID  ACCOUNT NUMBER  SITE NUMBER                    LEGAL NAME        DOING BUSINESS AS NAME                     ADDRESS      CITY STATE ZIP CODE  WARD  PRECINCT WARD PRECINCT  POLICE DISTRICT  LICENSE CODE       LICENSE DESCRIPTION  LICENSE NUMBER APPLICATION TYPE APPLICATION CREATED DATE APPLICATION REQUIREMENTS COMPLETE         PAYMENT DATE CONDITIONAL APPROVAL LICENSE TERM START DATE LICENSE TERM EXPIRATION DATE LICENSE APPROVED FOR ISSUANCE          DATE ISSUED LICENSE STATUS CHANGE DATE   SSA   LATITUDE  LONGITUDE                                           LOCATION LICENSE STATUS\n",
              "0    35342-20020816     1256593           32811            1                  CARMEN CAHUE         CLAUDIA'S BRIDAL SHOP  2625 S CENTRAL PARK AVE  1   CHICAGO    IL  60623.0  22.0      28.0         22-28             10.0          1010  Limited Business License         35342.0            RENEW                      NaN               2002-06-28T00:00:00  2002-08-21T00:00:00                    N     2002-08-16T00:00:00          2003-08-15T00:00:00           2002-08-21T00:00:00  2006-04-11T00:00:00                        NaN  25.0  41.843613 -87.714618  {'latitude': '41.843612879431845', 'longitude'...            AAI\n",
              "1  1358463-20051116     1639294          262311           29           ISLA TROPICAL, INC.                 ISLA TROPICAL         2825 W MONTROSE AVE   CHICAGO    IL    60618  33.0      23.0         33-23             17.0          1315     Mobile Food Dispenser       1358463.0            RENEW                      NaN               2005-09-22T00:00:00  2005-11-03T00:00:00                    N     2005-11-16T00:00:00          2006-11-15T00:00:00           2006-04-05T00:00:00  2006-06-12T00:00:00        2006-06-15T00:00:00  60.0  41.961132 -87.699626  {'latitude': '41.96113244107215', 'longitude':...            AAC\n",
              "2  1980233-20090722     1980233          345008            1                DJS REMODELING          DJS REMODELING, INC.           1605  CLAVEY RD 1  HIGHLAND    IL    60035   NaN       NaN           NaN              NaN          1011               Home Repair       1980233.0            ISSUE      2009-06-29T00:00:00               2009-07-22T00:00:00  2009-07-22T00:00:00                    N     2009-07-22T00:00:00          2011-07-15T00:00:00           2009-07-22T00:00:00  2009-07-22T00:00:00                        NaN   NaN        NaN        NaN                                                NaN            AAI\n",
              "3  1476582-20040211     1476582          273121            1      ALL-BRY CONSTRUCTION CO.      ALL-BRY CONSTRUCTION CO.              8  NORTH TRAIL    LEMONT    IL    60439   NaN       NaN           NaN              NaN          1010  Limited Business License       1476582.0            ISSUE      2004-02-10T00:00:00               2004-02-10T00:00:00  2004-02-10T00:00:00                    N     2004-02-11T00:00:00          2005-02-15T00:00:00           2004-02-10T00:00:00  2004-02-11T00:00:00                        NaN   NaN        NaN        NaN                                                NaN            AAI\n",
              "4  1141408-20080516     1896750          213785            1  MCDONOUGH MECHANICAL SERVICE  MCDONOUGH MECHANICAL SERVICE             4081  JOSEPH DR  WAUKEGAN    IL    60087   NaN       NaN           NaN              NaN          1010  Limited Business License       1141408.0            RENEW                      NaN               2008-03-24T00:00:00  2008-06-04T00:00:00                    N     2008-05-16T00:00:00          2010-05-15T00:00:00           2008-06-04T00:00:00  2008-06-05T00:00:00                        NaN   NaN        NaN        NaN                                                NaN            AAI"
            ],
            "text/html": [
              "\n",
              "  <div id=\"df-3273fc58-9569-4f7b-ab11-f258f8942253\">\n",
              "    <div class=\"colab-df-container\">\n",
              "      <div>\n",
              "<style scoped>\n",
              "    .dataframe tbody tr th:only-of-type {\n",
              "        vertical-align: middle;\n",
              "    }\n",
              "\n",
              "    .dataframe tbody tr th {\n",
              "        vertical-align: top;\n",
              "    }\n",
              "\n",
              "    .dataframe thead th {\n",
              "        text-align: right;\n",
              "    }\n",
              "</style>\n",
              "<table border=\"1\" class=\"dataframe\">\n",
              "  <thead>\n",
              "    <tr style=\"text-align: right;\">\n",
              "      <th></th>\n",
              "      <th>ID</th>\n",
              "      <th>LICENSE ID</th>\n",
              "      <th>ACCOUNT NUMBER</th>\n",
              "      <th>SITE NUMBER</th>\n",
              "      <th>LEGAL NAME</th>\n",
              "      <th>DOING BUSINESS AS NAME</th>\n",
              "      <th>ADDRESS</th>\n",
              "      <th>CITY</th>\n",
              "      <th>STATE</th>\n",
              "      <th>ZIP CODE</th>\n",
              "      <th>WARD</th>\n",
              "      <th>PRECINCT</th>\n",
              "      <th>WARD PRECINCT</th>\n",
              "      <th>POLICE DISTRICT</th>\n",
              "      <th>LICENSE CODE</th>\n",
              "      <th>LICENSE DESCRIPTION</th>\n",
              "      <th>LICENSE NUMBER</th>\n",
              "      <th>APPLICATION TYPE</th>\n",
              "      <th>APPLICATION CREATED DATE</th>\n",
              "      <th>APPLICATION REQUIREMENTS COMPLETE</th>\n",
              "      <th>PAYMENT DATE</th>\n",
              "      <th>CONDITIONAL APPROVAL</th>\n",
              "      <th>LICENSE TERM START DATE</th>\n",
              "      <th>LICENSE TERM EXPIRATION DATE</th>\n",
              "      <th>LICENSE APPROVED FOR ISSUANCE</th>\n",
              "      <th>DATE ISSUED</th>\n",
              "      <th>LICENSE STATUS CHANGE DATE</th>\n",
              "      <th>SSA</th>\n",
              "      <th>LATITUDE</th>\n",
              "      <th>LONGITUDE</th>\n",
              "      <th>LOCATION</th>\n",
              "      <th>LICENSE STATUS</th>\n",
              "    </tr>\n",
              "  </thead>\n",
              "  <tbody>\n",
              "    <tr>\n",
              "      <th>0</th>\n",
              "      <td>35342-20020816</td>\n",
              "      <td>1256593</td>\n",
              "      <td>32811</td>\n",
              "      <td>1</td>\n",
              "      <td>CARMEN CAHUE</td>\n",
              "      <td>CLAUDIA'S BRIDAL SHOP</td>\n",
              "      <td>2625 S CENTRAL PARK AVE  1</td>\n",
              "      <td>CHICAGO</td>\n",
              "      <td>IL</td>\n",
              "      <td>60623.0</td>\n",
              "      <td>22.0</td>\n",
              "      <td>28.0</td>\n",
              "      <td>22-28</td>\n",
              "      <td>10.0</td>\n",
              "      <td>1010</td>\n",
              "      <td>Limited Business License</td>\n",
              "      <td>35342.0</td>\n",
              "      <td>RENEW</td>\n",
              "      <td>NaN</td>\n",
              "      <td>2002-06-28T00:00:00</td>\n",
              "      <td>2002-08-21T00:00:00</td>\n",
              "      <td>N</td>\n",
              "      <td>2002-08-16T00:00:00</td>\n",
              "      <td>2003-08-15T00:00:00</td>\n",
              "      <td>2002-08-21T00:00:00</td>\n",
              "      <td>2006-04-11T00:00:00</td>\n",
              "      <td>NaN</td>\n",
              "      <td>25.0</td>\n",
              "      <td>41.843613</td>\n",
              "      <td>-87.714618</td>\n",
              "      <td>{'latitude': '41.843612879431845', 'longitude'...</td>\n",
              "      <td>AAI</td>\n",
              "    </tr>\n",
              "    <tr>\n",
              "      <th>1</th>\n",
              "      <td>1358463-20051116</td>\n",
              "      <td>1639294</td>\n",
              "      <td>262311</td>\n",
              "      <td>29</td>\n",
              "      <td>ISLA TROPICAL, INC.</td>\n",
              "      <td>ISLA TROPICAL</td>\n",
              "      <td>2825 W MONTROSE AVE</td>\n",
              "      <td>CHICAGO</td>\n",
              "      <td>IL</td>\n",
              "      <td>60618</td>\n",
              "      <td>33.0</td>\n",
              "      <td>23.0</td>\n",
              "      <td>33-23</td>\n",
              "      <td>17.0</td>\n",
              "      <td>1315</td>\n",
              "      <td>Mobile Food Dispenser</td>\n",
              "      <td>1358463.0</td>\n",
              "      <td>RENEW</td>\n",
              "      <td>NaN</td>\n",
              "      <td>2005-09-22T00:00:00</td>\n",
              "      <td>2005-11-03T00:00:00</td>\n",
              "      <td>N</td>\n",
              "      <td>2005-11-16T00:00:00</td>\n",
              "      <td>2006-11-15T00:00:00</td>\n",
              "      <td>2006-04-05T00:00:00</td>\n",
              "      <td>2006-06-12T00:00:00</td>\n",
              "      <td>2006-06-15T00:00:00</td>\n",
              "      <td>60.0</td>\n",
              "      <td>41.961132</td>\n",
              "      <td>-87.699626</td>\n",
              "      <td>{'latitude': '41.96113244107215', 'longitude':...</td>\n",
              "      <td>AAC</td>\n",
              "    </tr>\n",
              "    <tr>\n",
              "      <th>2</th>\n",
              "      <td>1980233-20090722</td>\n",
              "      <td>1980233</td>\n",
              "      <td>345008</td>\n",
              "      <td>1</td>\n",
              "      <td>DJS REMODELING</td>\n",
              "      <td>DJS REMODELING, INC.</td>\n",
              "      <td>1605  CLAVEY RD 1</td>\n",
              "      <td>HIGHLAND</td>\n",
              "      <td>IL</td>\n",
              "      <td>60035</td>\n",
              "      <td>NaN</td>\n",
              "      <td>NaN</td>\n",
              "      <td>NaN</td>\n",
              "      <td>NaN</td>\n",
              "      <td>1011</td>\n",
              "      <td>Home Repair</td>\n",
              "      <td>1980233.0</td>\n",
              "      <td>ISSUE</td>\n",
              "      <td>2009-06-29T00:00:00</td>\n",
              "      <td>2009-07-22T00:00:00</td>\n",
              "      <td>2009-07-22T00:00:00</td>\n",
              "      <td>N</td>\n",
              "      <td>2009-07-22T00:00:00</td>\n",
              "      <td>2011-07-15T00:00:00</td>\n",
              "      <td>2009-07-22T00:00:00</td>\n",
              "      <td>2009-07-22T00:00:00</td>\n",
              "      <td>NaN</td>\n",
              "      <td>NaN</td>\n",
              "      <td>NaN</td>\n",
              "      <td>NaN</td>\n",
              "      <td>NaN</td>\n",
              "      <td>AAI</td>\n",
              "    </tr>\n",
              "    <tr>\n",
              "      <th>3</th>\n",
              "      <td>1476582-20040211</td>\n",
              "      <td>1476582</td>\n",
              "      <td>273121</td>\n",
              "      <td>1</td>\n",
              "      <td>ALL-BRY CONSTRUCTION CO.</td>\n",
              "      <td>ALL-BRY CONSTRUCTION CO.</td>\n",
              "      <td>8  NORTH TRAIL</td>\n",
              "      <td>LEMONT</td>\n",
              "      <td>IL</td>\n",
              "      <td>60439</td>\n",
              "      <td>NaN</td>\n",
              "      <td>NaN</td>\n",
              "      <td>NaN</td>\n",
              "      <td>NaN</td>\n",
              "      <td>1010</td>\n",
              "      <td>Limited Business License</td>\n",
              "      <td>1476582.0</td>\n",
              "      <td>ISSUE</td>\n",
              "      <td>2004-02-10T00:00:00</td>\n",
              "      <td>2004-02-10T00:00:00</td>\n",
              "      <td>2004-02-10T00:00:00</td>\n",
              "      <td>N</td>\n",
              "      <td>2004-02-11T00:00:00</td>\n",
              "      <td>2005-02-15T00:00:00</td>\n",
              "      <td>2004-02-10T00:00:00</td>\n",
              "      <td>2004-02-11T00:00:00</td>\n",
              "      <td>NaN</td>\n",
              "      <td>NaN</td>\n",
              "      <td>NaN</td>\n",
              "      <td>NaN</td>\n",
              "      <td>NaN</td>\n",
              "      <td>AAI</td>\n",
              "    </tr>\n",
              "    <tr>\n",
              "      <th>4</th>\n",
              "      <td>1141408-20080516</td>\n",
              "      <td>1896750</td>\n",
              "      <td>213785</td>\n",
              "      <td>1</td>\n",
              "      <td>MCDONOUGH MECHANICAL SERVICE</td>\n",
              "      <td>MCDONOUGH MECHANICAL SERVICE</td>\n",
              "      <td>4081  JOSEPH DR</td>\n",
              "      <td>WAUKEGAN</td>\n",
              "      <td>IL</td>\n",
              "      <td>60087</td>\n",
              "      <td>NaN</td>\n",
              "      <td>NaN</td>\n",
              "      <td>NaN</td>\n",
              "      <td>NaN</td>\n",
              "      <td>1010</td>\n",
              "      <td>Limited Business License</td>\n",
              "      <td>1141408.0</td>\n",
              "      <td>RENEW</td>\n",
              "      <td>NaN</td>\n",
              "      <td>2008-03-24T00:00:00</td>\n",
              "      <td>2008-06-04T00:00:00</td>\n",
              "      <td>N</td>\n",
              "      <td>2008-05-16T00:00:00</td>\n",
              "      <td>2010-05-15T00:00:00</td>\n",
              "      <td>2008-06-04T00:00:00</td>\n",
              "      <td>2008-06-05T00:00:00</td>\n",
              "      <td>NaN</td>\n",
              "      <td>NaN</td>\n",
              "      <td>NaN</td>\n",
              "      <td>NaN</td>\n",
              "      <td>NaN</td>\n",
              "      <td>AAI</td>\n",
              "    </tr>\n",
              "  </tbody>\n",
              "</table>\n",
              "</div>\n",
              "      <button class=\"colab-df-convert\" onclick=\"convertToInteractive('df-3273fc58-9569-4f7b-ab11-f258f8942253')\"\n",
              "              title=\"Convert this dataframe to an interactive table.\"\n",
              "              style=\"display:none;\">\n",
              "        \n",
              "  <svg xmlns=\"http://www.w3.org/2000/svg\" height=\"24px\"viewBox=\"0 0 24 24\"\n",
              "       width=\"24px\">\n",
              "    <path d=\"M0 0h24v24H0V0z\" fill=\"none\"/>\n",
              "    <path d=\"M18.56 5.44l.94 2.06.94-2.06 2.06-.94-2.06-.94-.94-2.06-.94 2.06-2.06.94zm-11 1L8.5 8.5l.94-2.06 2.06-.94-2.06-.94L8.5 2.5l-.94 2.06-2.06.94zm10 10l.94 2.06.94-2.06 2.06-.94-2.06-.94-.94-2.06-.94 2.06-2.06.94z\"/><path d=\"M17.41 7.96l-1.37-1.37c-.4-.4-.92-.59-1.43-.59-.52 0-1.04.2-1.43.59L10.3 9.45l-7.72 7.72c-.78.78-.78 2.05 0 2.83L4 21.41c.39.39.9.59 1.41.59.51 0 1.02-.2 1.41-.59l7.78-7.78 2.81-2.81c.8-.78.8-2.07 0-2.86zM5.41 20L4 18.59l7.72-7.72 1.47 1.35L5.41 20z\"/>\n",
              "  </svg>\n",
              "      </button>\n",
              "      \n",
              "  <style>\n",
              "    .colab-df-container {\n",
              "      display:flex;\n",
              "      flex-wrap:wrap;\n",
              "      gap: 12px;\n",
              "    }\n",
              "\n",
              "    .colab-df-convert {\n",
              "      background-color: #E8F0FE;\n",
              "      border: none;\n",
              "      border-radius: 50%;\n",
              "      cursor: pointer;\n",
              "      display: none;\n",
              "      fill: #1967D2;\n",
              "      height: 32px;\n",
              "      padding: 0 0 0 0;\n",
              "      width: 32px;\n",
              "    }\n",
              "\n",
              "    .colab-df-convert:hover {\n",
              "      background-color: #E2EBFA;\n",
              "      box-shadow: 0px 1px 2px rgba(60, 64, 67, 0.3), 0px 1px 3px 1px rgba(60, 64, 67, 0.15);\n",
              "      fill: #174EA6;\n",
              "    }\n",
              "\n",
              "    [theme=dark] .colab-df-convert {\n",
              "      background-color: #3B4455;\n",
              "      fill: #D2E3FC;\n",
              "    }\n",
              "\n",
              "    [theme=dark] .colab-df-convert:hover {\n",
              "      background-color: #434B5C;\n",
              "      box-shadow: 0px 1px 3px 1px rgba(0, 0, 0, 0.15);\n",
              "      filter: drop-shadow(0px 1px 2px rgba(0, 0, 0, 0.3));\n",
              "      fill: #FFFFFF;\n",
              "    }\n",
              "  </style>\n",
              "\n",
              "      <script>\n",
              "        const buttonEl =\n",
              "          document.querySelector('#df-3273fc58-9569-4f7b-ab11-f258f8942253 button.colab-df-convert');\n",
              "        buttonEl.style.display =\n",
              "          google.colab.kernel.accessAllowed ? 'block' : 'none';\n",
              "\n",
              "        async function convertToInteractive(key) {\n",
              "          const element = document.querySelector('#df-3273fc58-9569-4f7b-ab11-f258f8942253');\n",
              "          const dataTable =\n",
              "            await google.colab.kernel.invokeFunction('convertToInteractive',\n",
              "                                                     [key], {});\n",
              "          if (!dataTable) return;\n",
              "\n",
              "          const docLinkHtml = 'Like what you see? Visit the ' +\n",
              "            '<a target=\"_blank\" href=https://colab.research.google.com/notebooks/data_table.ipynb>data table notebook</a>'\n",
              "            + ' to learn more about interactive tables.';\n",
              "          element.innerHTML = '';\n",
              "          dataTable['output_type'] = 'display_data';\n",
              "          await google.colab.output.renderOutput(dataTable, element);\n",
              "          const docLink = document.createElement('div');\n",
              "          docLink.innerHTML = docLinkHtml;\n",
              "          element.appendChild(docLink);\n",
              "        }\n",
              "      </script>\n",
              "    </div>\n",
              "  </div>\n",
              "  "
            ]
          },
          "metadata": {},
          "execution_count": 181
        }
      ]
    },
    {
      "cell_type": "code",
      "source": [
        "train.shape"
      ],
      "metadata": {
        "colab": {
          "base_uri": "https://localhost:8080/"
        },
        "id": "Z569qy2lI7gD",
        "outputId": "00940883-c350-4e68-bf12-9d42b80deeba"
      },
      "execution_count": null,
      "outputs": [
        {
          "output_type": "execute_result",
          "data": {
            "text/plain": [
              "(85895, 32)"
            ]
          },
          "metadata": {},
          "execution_count": 182
        }
      ]
    },
    {
      "cell_type": "code",
      "source": [
        "train.info()"
      ],
      "metadata": {
        "colab": {
          "base_uri": "https://localhost:8080/"
        },
        "id": "gBYqlzUcSs1Z",
        "outputId": "666843d4-218e-48f3-a35e-6eae70de002e"
      },
      "execution_count": null,
      "outputs": [
        {
          "output_type": "stream",
          "name": "stdout",
          "text": [
            "<class 'pandas.core.frame.DataFrame'>\n",
            "RangeIndex: 85895 entries, 0 to 85894\n",
            "Data columns (total 32 columns):\n",
            " #   Column                             Non-Null Count  Dtype  \n",
            "---  ------                             --------------  -----  \n",
            " 0   ID                                 85895 non-null  object \n",
            " 1   LICENSE ID                         85895 non-null  int64  \n",
            " 2   ACCOUNT NUMBER                     85895 non-null  int64  \n",
            " 3   SITE NUMBER                        85895 non-null  int64  \n",
            " 4   LEGAL NAME                         85895 non-null  object \n",
            " 5   DOING BUSINESS AS NAME             85894 non-null  object \n",
            " 6   ADDRESS                            85895 non-null  object \n",
            " 7   CITY                               85895 non-null  object \n",
            " 8   STATE                              85895 non-null  object \n",
            " 9   ZIP CODE                           85864 non-null  object \n",
            " 10  WARD                               36194 non-null  float64\n",
            " 11  PRECINCT                           29194 non-null  float64\n",
            " 12  WARD PRECINCT                      36195 non-null  object \n",
            " 13  POLICE DISTRICT                    31883 non-null  float64\n",
            " 14  LICENSE CODE                       85895 non-null  int64  \n",
            " 15  LICENSE DESCRIPTION                85895 non-null  object \n",
            " 16  LICENSE NUMBER                     85894 non-null  float64\n",
            " 17  APPLICATION TYPE                   85895 non-null  object \n",
            " 18  APPLICATION CREATED DATE           21235 non-null  object \n",
            " 19  APPLICATION REQUIREMENTS COMPLETE  85681 non-null  object \n",
            " 20  PAYMENT DATE                       84606 non-null  object \n",
            " 21  CONDITIONAL APPROVAL               85895 non-null  object \n",
            " 22  LICENSE TERM START DATE            85667 non-null  object \n",
            " 23  LICENSE TERM EXPIRATION DATE       85877 non-null  object \n",
            " 24  LICENSE APPROVED FOR ISSUANCE      79106 non-null  object \n",
            " 25  DATE ISSUED                        85895 non-null  object \n",
            " 26  LICENSE STATUS CHANGE DATE         30495 non-null  object \n",
            " 27  SSA                                9449 non-null   float64\n",
            " 28  LATITUDE                           38649 non-null  float64\n",
            " 29  LONGITUDE                          38649 non-null  float64\n",
            " 30  LOCATION                           38649 non-null  object \n",
            " 31  LICENSE STATUS                     85895 non-null  object \n",
            "dtypes: float64(7), int64(4), object(21)\n",
            "memory usage: 21.0+ MB\n"
          ]
        }
      ]
    },
    {
      "cell_type": "code",
      "source": [
        "train.describe()"
      ],
      "metadata": {
        "colab": {
          "base_uri": "https://localhost:8080/",
          "height": 300
        },
        "id": "1Z__jgb8S1PA",
        "outputId": "a6a60340-7fce-4fbc-c013-f413ee1fb90a"
      },
      "execution_count": null,
      "outputs": [
        {
          "output_type": "execute_result",
          "data": {
            "text/plain": [
              "         LICENSE ID  ACCOUNT NUMBER   SITE NUMBER          WARD      PRECINCT  POLICE DISTRICT  LICENSE CODE  LICENSE NUMBER          SSA      LATITUDE     LONGITUDE\n",
              "count  8.589500e+04    85895.000000  85895.000000  36194.000000  29194.000000     31883.000000  85895.000000    8.589400e+04  9449.000000  38649.000000  38649.000000\n",
              "mean   1.751303e+06   196695.421701      2.556028     28.528927     54.632973        13.529812   1111.736620    1.228151e+06    29.152080     41.880952    -87.681165\n",
              "std    3.358780e+05   126819.343760      8.655706     13.921710    163.174955         7.275874    250.020872    7.431487e+05    17.419898      0.079617      0.056248\n",
              "min    3.079300e+04       10.000000      1.000000      1.000000      1.000000         1.000000   1002.000000    1.290000e+02     1.000000     41.644694    -87.915285\n",
              "25%    1.469024e+06    54615.000000      1.000000     17.000000     12.000000         8.000000   1010.000000    8.710900e+04    17.000000     41.834312    -87.719150\n",
              "50%    1.778754e+06   248313.000000      1.000000     30.000000     26.000000        14.000000   1010.000000    1.442202e+06    28.000000     41.892679    -87.673321\n",
              "75%    2.067578e+06   300243.500000      2.000000     42.000000     41.000000        19.000000   1011.000000    1.816581e+06    40.000000     41.938624    -87.639509\n",
              "max    2.456551e+06   397444.000000    417.000000     50.000000    999.000000       181.000000   8340.000000    2.391410e+06    69.000000     42.022660    -87.525872"
            ],
            "text/html": [
              "\n",
              "  <div id=\"df-331b12c1-7bce-4886-a396-f057007bad0e\">\n",
              "    <div class=\"colab-df-container\">\n",
              "      <div>\n",
              "<style scoped>\n",
              "    .dataframe tbody tr th:only-of-type {\n",
              "        vertical-align: middle;\n",
              "    }\n",
              "\n",
              "    .dataframe tbody tr th {\n",
              "        vertical-align: top;\n",
              "    }\n",
              "\n",
              "    .dataframe thead th {\n",
              "        text-align: right;\n",
              "    }\n",
              "</style>\n",
              "<table border=\"1\" class=\"dataframe\">\n",
              "  <thead>\n",
              "    <tr style=\"text-align: right;\">\n",
              "      <th></th>\n",
              "      <th>LICENSE ID</th>\n",
              "      <th>ACCOUNT NUMBER</th>\n",
              "      <th>SITE NUMBER</th>\n",
              "      <th>WARD</th>\n",
              "      <th>PRECINCT</th>\n",
              "      <th>POLICE DISTRICT</th>\n",
              "      <th>LICENSE CODE</th>\n",
              "      <th>LICENSE NUMBER</th>\n",
              "      <th>SSA</th>\n",
              "      <th>LATITUDE</th>\n",
              "      <th>LONGITUDE</th>\n",
              "    </tr>\n",
              "  </thead>\n",
              "  <tbody>\n",
              "    <tr>\n",
              "      <th>count</th>\n",
              "      <td>8.589500e+04</td>\n",
              "      <td>85895.000000</td>\n",
              "      <td>85895.000000</td>\n",
              "      <td>36194.000000</td>\n",
              "      <td>29194.000000</td>\n",
              "      <td>31883.000000</td>\n",
              "      <td>85895.000000</td>\n",
              "      <td>8.589400e+04</td>\n",
              "      <td>9449.000000</td>\n",
              "      <td>38649.000000</td>\n",
              "      <td>38649.000000</td>\n",
              "    </tr>\n",
              "    <tr>\n",
              "      <th>mean</th>\n",
              "      <td>1.751303e+06</td>\n",
              "      <td>196695.421701</td>\n",
              "      <td>2.556028</td>\n",
              "      <td>28.528927</td>\n",
              "      <td>54.632973</td>\n",
              "      <td>13.529812</td>\n",
              "      <td>1111.736620</td>\n",
              "      <td>1.228151e+06</td>\n",
              "      <td>29.152080</td>\n",
              "      <td>41.880952</td>\n",
              "      <td>-87.681165</td>\n",
              "    </tr>\n",
              "    <tr>\n",
              "      <th>std</th>\n",
              "      <td>3.358780e+05</td>\n",
              "      <td>126819.343760</td>\n",
              "      <td>8.655706</td>\n",
              "      <td>13.921710</td>\n",
              "      <td>163.174955</td>\n",
              "      <td>7.275874</td>\n",
              "      <td>250.020872</td>\n",
              "      <td>7.431487e+05</td>\n",
              "      <td>17.419898</td>\n",
              "      <td>0.079617</td>\n",
              "      <td>0.056248</td>\n",
              "    </tr>\n",
              "    <tr>\n",
              "      <th>min</th>\n",
              "      <td>3.079300e+04</td>\n",
              "      <td>10.000000</td>\n",
              "      <td>1.000000</td>\n",
              "      <td>1.000000</td>\n",
              "      <td>1.000000</td>\n",
              "      <td>1.000000</td>\n",
              "      <td>1002.000000</td>\n",
              "      <td>1.290000e+02</td>\n",
              "      <td>1.000000</td>\n",
              "      <td>41.644694</td>\n",
              "      <td>-87.915285</td>\n",
              "    </tr>\n",
              "    <tr>\n",
              "      <th>25%</th>\n",
              "      <td>1.469024e+06</td>\n",
              "      <td>54615.000000</td>\n",
              "      <td>1.000000</td>\n",
              "      <td>17.000000</td>\n",
              "      <td>12.000000</td>\n",
              "      <td>8.000000</td>\n",
              "      <td>1010.000000</td>\n",
              "      <td>8.710900e+04</td>\n",
              "      <td>17.000000</td>\n",
              "      <td>41.834312</td>\n",
              "      <td>-87.719150</td>\n",
              "    </tr>\n",
              "    <tr>\n",
              "      <th>50%</th>\n",
              "      <td>1.778754e+06</td>\n",
              "      <td>248313.000000</td>\n",
              "      <td>1.000000</td>\n",
              "      <td>30.000000</td>\n",
              "      <td>26.000000</td>\n",
              "      <td>14.000000</td>\n",
              "      <td>1010.000000</td>\n",
              "      <td>1.442202e+06</td>\n",
              "      <td>28.000000</td>\n",
              "      <td>41.892679</td>\n",
              "      <td>-87.673321</td>\n",
              "    </tr>\n",
              "    <tr>\n",
              "      <th>75%</th>\n",
              "      <td>2.067578e+06</td>\n",
              "      <td>300243.500000</td>\n",
              "      <td>2.000000</td>\n",
              "      <td>42.000000</td>\n",
              "      <td>41.000000</td>\n",
              "      <td>19.000000</td>\n",
              "      <td>1011.000000</td>\n",
              "      <td>1.816581e+06</td>\n",
              "      <td>40.000000</td>\n",
              "      <td>41.938624</td>\n",
              "      <td>-87.639509</td>\n",
              "    </tr>\n",
              "    <tr>\n",
              "      <th>max</th>\n",
              "      <td>2.456551e+06</td>\n",
              "      <td>397444.000000</td>\n",
              "      <td>417.000000</td>\n",
              "      <td>50.000000</td>\n",
              "      <td>999.000000</td>\n",
              "      <td>181.000000</td>\n",
              "      <td>8340.000000</td>\n",
              "      <td>2.391410e+06</td>\n",
              "      <td>69.000000</td>\n",
              "      <td>42.022660</td>\n",
              "      <td>-87.525872</td>\n",
              "    </tr>\n",
              "  </tbody>\n",
              "</table>\n",
              "</div>\n",
              "      <button class=\"colab-df-convert\" onclick=\"convertToInteractive('df-331b12c1-7bce-4886-a396-f057007bad0e')\"\n",
              "              title=\"Convert this dataframe to an interactive table.\"\n",
              "              style=\"display:none;\">\n",
              "        \n",
              "  <svg xmlns=\"http://www.w3.org/2000/svg\" height=\"24px\"viewBox=\"0 0 24 24\"\n",
              "       width=\"24px\">\n",
              "    <path d=\"M0 0h24v24H0V0z\" fill=\"none\"/>\n",
              "    <path d=\"M18.56 5.44l.94 2.06.94-2.06 2.06-.94-2.06-.94-.94-2.06-.94 2.06-2.06.94zm-11 1L8.5 8.5l.94-2.06 2.06-.94-2.06-.94L8.5 2.5l-.94 2.06-2.06.94zm10 10l.94 2.06.94-2.06 2.06-.94-2.06-.94-.94-2.06-.94 2.06-2.06.94z\"/><path d=\"M17.41 7.96l-1.37-1.37c-.4-.4-.92-.59-1.43-.59-.52 0-1.04.2-1.43.59L10.3 9.45l-7.72 7.72c-.78.78-.78 2.05 0 2.83L4 21.41c.39.39.9.59 1.41.59.51 0 1.02-.2 1.41-.59l7.78-7.78 2.81-2.81c.8-.78.8-2.07 0-2.86zM5.41 20L4 18.59l7.72-7.72 1.47 1.35L5.41 20z\"/>\n",
              "  </svg>\n",
              "      </button>\n",
              "      \n",
              "  <style>\n",
              "    .colab-df-container {\n",
              "      display:flex;\n",
              "      flex-wrap:wrap;\n",
              "      gap: 12px;\n",
              "    }\n",
              "\n",
              "    .colab-df-convert {\n",
              "      background-color: #E8F0FE;\n",
              "      border: none;\n",
              "      border-radius: 50%;\n",
              "      cursor: pointer;\n",
              "      display: none;\n",
              "      fill: #1967D2;\n",
              "      height: 32px;\n",
              "      padding: 0 0 0 0;\n",
              "      width: 32px;\n",
              "    }\n",
              "\n",
              "    .colab-df-convert:hover {\n",
              "      background-color: #E2EBFA;\n",
              "      box-shadow: 0px 1px 2px rgba(60, 64, 67, 0.3), 0px 1px 3px 1px rgba(60, 64, 67, 0.15);\n",
              "      fill: #174EA6;\n",
              "    }\n",
              "\n",
              "    [theme=dark] .colab-df-convert {\n",
              "      background-color: #3B4455;\n",
              "      fill: #D2E3FC;\n",
              "    }\n",
              "\n",
              "    [theme=dark] .colab-df-convert:hover {\n",
              "      background-color: #434B5C;\n",
              "      box-shadow: 0px 1px 3px 1px rgba(0, 0, 0, 0.15);\n",
              "      filter: drop-shadow(0px 1px 2px rgba(0, 0, 0, 0.3));\n",
              "      fill: #FFFFFF;\n",
              "    }\n",
              "  </style>\n",
              "\n",
              "      <script>\n",
              "        const buttonEl =\n",
              "          document.querySelector('#df-331b12c1-7bce-4886-a396-f057007bad0e button.colab-df-convert');\n",
              "        buttonEl.style.display =\n",
              "          google.colab.kernel.accessAllowed ? 'block' : 'none';\n",
              "\n",
              "        async function convertToInteractive(key) {\n",
              "          const element = document.querySelector('#df-331b12c1-7bce-4886-a396-f057007bad0e');\n",
              "          const dataTable =\n",
              "            await google.colab.kernel.invokeFunction('convertToInteractive',\n",
              "                                                     [key], {});\n",
              "          if (!dataTable) return;\n",
              "\n",
              "          const docLinkHtml = 'Like what you see? Visit the ' +\n",
              "            '<a target=\"_blank\" href=https://colab.research.google.com/notebooks/data_table.ipynb>data table notebook</a>'\n",
              "            + ' to learn more about interactive tables.';\n",
              "          element.innerHTML = '';\n",
              "          dataTable['output_type'] = 'display_data';\n",
              "          await google.colab.output.renderOutput(dataTable, element);\n",
              "          const docLink = document.createElement('div');\n",
              "          docLink.innerHTML = docLinkHtml;\n",
              "          element.appendChild(docLink);\n",
              "        }\n",
              "      </script>\n",
              "    </div>\n",
              "  </div>\n",
              "  "
            ]
          },
          "metadata": {},
          "execution_count": 184
        }
      ]
    },
    {
      "cell_type": "code",
      "source": [
        "train.isna().sum()"
      ],
      "metadata": {
        "colab": {
          "base_uri": "https://localhost:8080/"
        },
        "id": "UA_JgVg7S1Ll",
        "outputId": "855a4cfd-7bac-4fbe-fc8e-7d07aa4b719e"
      },
      "execution_count": null,
      "outputs": [
        {
          "output_type": "execute_result",
          "data": {
            "text/plain": [
              "ID                                       0\n",
              "LICENSE ID                               0\n",
              "ACCOUNT NUMBER                           0\n",
              "SITE NUMBER                              0\n",
              "LEGAL NAME                               0\n",
              "DOING BUSINESS AS NAME                   1\n",
              "ADDRESS                                  0\n",
              "CITY                                     0\n",
              "STATE                                    0\n",
              "ZIP CODE                                31\n",
              "WARD                                 49701\n",
              "PRECINCT                             56701\n",
              "WARD PRECINCT                        49700\n",
              "POLICE DISTRICT                      54012\n",
              "LICENSE CODE                             0\n",
              "LICENSE DESCRIPTION                      0\n",
              "LICENSE NUMBER                           1\n",
              "APPLICATION TYPE                         0\n",
              "APPLICATION CREATED DATE             64660\n",
              "APPLICATION REQUIREMENTS COMPLETE      214\n",
              "PAYMENT DATE                          1289\n",
              "CONDITIONAL APPROVAL                     0\n",
              "LICENSE TERM START DATE                228\n",
              "LICENSE TERM EXPIRATION DATE            18\n",
              "LICENSE APPROVED FOR ISSUANCE         6789\n",
              "DATE ISSUED                              0\n",
              "LICENSE STATUS CHANGE DATE           55400\n",
              "SSA                                  76446\n",
              "LATITUDE                             47246\n",
              "LONGITUDE                            47246\n",
              "LOCATION                             47246\n",
              "LICENSE STATUS                           0\n",
              "dtype: int64"
            ]
          },
          "metadata": {},
          "execution_count": 185
        }
      ]
    },
    {
      "cell_type": "code",
      "source": [
        "test = pd.read_csv(\"test_file.csv\")\n",
        "test.head()"
      ],
      "metadata": {
        "colab": {
          "base_uri": "https://localhost:8080/",
          "height": 496
        },
        "id": "iD6i9YPQSkIH",
        "outputId": "d7be6ac7-70fe-4612-baac-88d1f2077432"
      },
      "execution_count": null,
      "outputs": [
        {
          "output_type": "execute_result",
          "data": {
            "text/plain": [
              "                 ID  LICENSE ID  ACCOUNT NUMBER  SITE NUMBER              LEGAL NAME DOING BUSINESS AS NAME                   ADDRESS     CITY STATE  ZIP CODE  WARD  PRECINCT WARD PRECINCT  POLICE DISTRICT  LICENSE CODE                LICENSE DESCRIPTION  LICENSE NUMBER APPLICATION TYPE APPLICATION CREATED DATE APPLICATION REQUIREMENTS COMPLETE         PAYMENT DATE CONDITIONAL APPROVAL LICENSE TERM START DATE LICENSE TERM EXPIRATION DATE LICENSE APPROVED FOR ISSUANCE          DATE ISSUED LICENSE STATUS CHANGE DATE   SSA   LATITUDE  LONGITUDE                                           LOCATION\n",
              "0  1516615-20120216     2132209          280120            1          RS HOMES I LLC         RS HOMES I LLC    350 W HUBBARD ST 3 300  CHICAGO    IL   60610.0  42.0      67.0         42-67             18.0          1020  Residential Real Estate Developer       1516615.0            RENEW                      NaN               2011-12-15T00:00:00  2012-01-19T00:00:00                    N     2012-02-16T00:00:00          2014-02-15T00:00:00           2012-01-19T00:00:00  2012-01-20T00:00:00        2012-12-29T00:00:00   NaN  41.890047 -87.637467  {'latitude': '41.89004724888915', 'longitude':...\n",
              "1    69813-20110616     2090759           65043            1      CSX INTERMODAL INC         CSX INTERMODAL        2101 W 59TH ST 1ST  CHICAGO    IL   60636.0  16.0       5.0          16-5              7.0          1010           Limited Business License         69813.0            RENEW                      NaN               2011-04-15T00:00:00  2012-11-02T00:00:00                    N     2011-06-16T00:00:00          2013-06-15T00:00:00           2012-11-02T00:00:00  2012-11-05T00:00:00        2012-12-29T00:00:00   NaN  41.786485 -87.676665  {'latitude': '41.786485235679486', 'longitude'...\n",
              "2  1519227-20041116     1541990          281270            1   LOCOMIBILE  LOFTS LLC   LOCOMOBILE LOFTS LLC     1133 S WABASH AVE 1ST  CHICAGO    IL   60605.0   4.0       8.0           4-8              1.0          1020  Residential Real Estate Developer       1519227.0            RENEW                      NaN               2004-09-27T00:00:00  2004-12-06T00:00:00                    N     2004-11-16T00:00:00          2005-11-15T00:00:00           2004-12-06T00:00:00  2004-12-07T00:00:00                        NaN   NaN  41.868269 -87.625695  {'latitude': '41.86826924843568', 'longitude':...\n",
              "3  1922025-20100816     2041053          335243            1         ANNA F. JAMISON        ANNA F. JAMISON  13156 S FORRESTVILLE AVE  CHICAGO    IL   60827.0   9.0      33.0          9-33              5.0          1607         Peddler, non-food, special       1922025.0            RENEW                      NaN               2010-06-15T00:00:00  2010-11-04T00:00:00                    N     2010-08-16T00:00:00          2012-08-15T00:00:00                           NaN  2010-11-04T00:00:00        2012-12-31T00:00:00   NaN  41.655762 -87.608686  {'latitude': '41.65576175146191', 'longitude':...\n",
              "4  1675683-20070816     1837158          283018            3  MARINCA A. COVARRUBIAS                DETAILS         4208 S ARCHER AVE  CHICAGO    IL   60632.0  15.0      26.0         15-26              9.0          1010           Limited Business License       1675683.0            RENEW                      NaN               2007-06-21T00:00:00  2007-08-15T00:00:00                    N     2007-08-16T00:00:00          2009-06-15T00:00:00           2007-08-15T00:00:00  2007-08-16T00:00:00        2008-03-26T00:00:00  39.0  41.816969 -87.699785  {'latitude': '41.81696910012824', 'longitude':..."
            ],
            "text/html": [
              "\n",
              "  <div id=\"df-342b45b8-6cb7-4f80-9cfc-5c934331be46\">\n",
              "    <div class=\"colab-df-container\">\n",
              "      <div>\n",
              "<style scoped>\n",
              "    .dataframe tbody tr th:only-of-type {\n",
              "        vertical-align: middle;\n",
              "    }\n",
              "\n",
              "    .dataframe tbody tr th {\n",
              "        vertical-align: top;\n",
              "    }\n",
              "\n",
              "    .dataframe thead th {\n",
              "        text-align: right;\n",
              "    }\n",
              "</style>\n",
              "<table border=\"1\" class=\"dataframe\">\n",
              "  <thead>\n",
              "    <tr style=\"text-align: right;\">\n",
              "      <th></th>\n",
              "      <th>ID</th>\n",
              "      <th>LICENSE ID</th>\n",
              "      <th>ACCOUNT NUMBER</th>\n",
              "      <th>SITE NUMBER</th>\n",
              "      <th>LEGAL NAME</th>\n",
              "      <th>DOING BUSINESS AS NAME</th>\n",
              "      <th>ADDRESS</th>\n",
              "      <th>CITY</th>\n",
              "      <th>STATE</th>\n",
              "      <th>ZIP CODE</th>\n",
              "      <th>WARD</th>\n",
              "      <th>PRECINCT</th>\n",
              "      <th>WARD PRECINCT</th>\n",
              "      <th>POLICE DISTRICT</th>\n",
              "      <th>LICENSE CODE</th>\n",
              "      <th>LICENSE DESCRIPTION</th>\n",
              "      <th>LICENSE NUMBER</th>\n",
              "      <th>APPLICATION TYPE</th>\n",
              "      <th>APPLICATION CREATED DATE</th>\n",
              "      <th>APPLICATION REQUIREMENTS COMPLETE</th>\n",
              "      <th>PAYMENT DATE</th>\n",
              "      <th>CONDITIONAL APPROVAL</th>\n",
              "      <th>LICENSE TERM START DATE</th>\n",
              "      <th>LICENSE TERM EXPIRATION DATE</th>\n",
              "      <th>LICENSE APPROVED FOR ISSUANCE</th>\n",
              "      <th>DATE ISSUED</th>\n",
              "      <th>LICENSE STATUS CHANGE DATE</th>\n",
              "      <th>SSA</th>\n",
              "      <th>LATITUDE</th>\n",
              "      <th>LONGITUDE</th>\n",
              "      <th>LOCATION</th>\n",
              "    </tr>\n",
              "  </thead>\n",
              "  <tbody>\n",
              "    <tr>\n",
              "      <th>0</th>\n",
              "      <td>1516615-20120216</td>\n",
              "      <td>2132209</td>\n",
              "      <td>280120</td>\n",
              "      <td>1</td>\n",
              "      <td>RS HOMES I LLC</td>\n",
              "      <td>RS HOMES I LLC</td>\n",
              "      <td>350 W HUBBARD ST 3 300</td>\n",
              "      <td>CHICAGO</td>\n",
              "      <td>IL</td>\n",
              "      <td>60610.0</td>\n",
              "      <td>42.0</td>\n",
              "      <td>67.0</td>\n",
              "      <td>42-67</td>\n",
              "      <td>18.0</td>\n",
              "      <td>1020</td>\n",
              "      <td>Residential Real Estate Developer</td>\n",
              "      <td>1516615.0</td>\n",
              "      <td>RENEW</td>\n",
              "      <td>NaN</td>\n",
              "      <td>2011-12-15T00:00:00</td>\n",
              "      <td>2012-01-19T00:00:00</td>\n",
              "      <td>N</td>\n",
              "      <td>2012-02-16T00:00:00</td>\n",
              "      <td>2014-02-15T00:00:00</td>\n",
              "      <td>2012-01-19T00:00:00</td>\n",
              "      <td>2012-01-20T00:00:00</td>\n",
              "      <td>2012-12-29T00:00:00</td>\n",
              "      <td>NaN</td>\n",
              "      <td>41.890047</td>\n",
              "      <td>-87.637467</td>\n",
              "      <td>{'latitude': '41.89004724888915', 'longitude':...</td>\n",
              "    </tr>\n",
              "    <tr>\n",
              "      <th>1</th>\n",
              "      <td>69813-20110616</td>\n",
              "      <td>2090759</td>\n",
              "      <td>65043</td>\n",
              "      <td>1</td>\n",
              "      <td>CSX INTERMODAL INC</td>\n",
              "      <td>CSX INTERMODAL</td>\n",
              "      <td>2101 W 59TH ST 1ST</td>\n",
              "      <td>CHICAGO</td>\n",
              "      <td>IL</td>\n",
              "      <td>60636.0</td>\n",
              "      <td>16.0</td>\n",
              "      <td>5.0</td>\n",
              "      <td>16-5</td>\n",
              "      <td>7.0</td>\n",
              "      <td>1010</td>\n",
              "      <td>Limited Business License</td>\n",
              "      <td>69813.0</td>\n",
              "      <td>RENEW</td>\n",
              "      <td>NaN</td>\n",
              "      <td>2011-04-15T00:00:00</td>\n",
              "      <td>2012-11-02T00:00:00</td>\n",
              "      <td>N</td>\n",
              "      <td>2011-06-16T00:00:00</td>\n",
              "      <td>2013-06-15T00:00:00</td>\n",
              "      <td>2012-11-02T00:00:00</td>\n",
              "      <td>2012-11-05T00:00:00</td>\n",
              "      <td>2012-12-29T00:00:00</td>\n",
              "      <td>NaN</td>\n",
              "      <td>41.786485</td>\n",
              "      <td>-87.676665</td>\n",
              "      <td>{'latitude': '41.786485235679486', 'longitude'...</td>\n",
              "    </tr>\n",
              "    <tr>\n",
              "      <th>2</th>\n",
              "      <td>1519227-20041116</td>\n",
              "      <td>1541990</td>\n",
              "      <td>281270</td>\n",
              "      <td>1</td>\n",
              "      <td>LOCOMIBILE  LOFTS LLC</td>\n",
              "      <td>LOCOMOBILE LOFTS LLC</td>\n",
              "      <td>1133 S WABASH AVE 1ST</td>\n",
              "      <td>CHICAGO</td>\n",
              "      <td>IL</td>\n",
              "      <td>60605.0</td>\n",
              "      <td>4.0</td>\n",
              "      <td>8.0</td>\n",
              "      <td>4-8</td>\n",
              "      <td>1.0</td>\n",
              "      <td>1020</td>\n",
              "      <td>Residential Real Estate Developer</td>\n",
              "      <td>1519227.0</td>\n",
              "      <td>RENEW</td>\n",
              "      <td>NaN</td>\n",
              "      <td>2004-09-27T00:00:00</td>\n",
              "      <td>2004-12-06T00:00:00</td>\n",
              "      <td>N</td>\n",
              "      <td>2004-11-16T00:00:00</td>\n",
              "      <td>2005-11-15T00:00:00</td>\n",
              "      <td>2004-12-06T00:00:00</td>\n",
              "      <td>2004-12-07T00:00:00</td>\n",
              "      <td>NaN</td>\n",
              "      <td>NaN</td>\n",
              "      <td>41.868269</td>\n",
              "      <td>-87.625695</td>\n",
              "      <td>{'latitude': '41.86826924843568', 'longitude':...</td>\n",
              "    </tr>\n",
              "    <tr>\n",
              "      <th>3</th>\n",
              "      <td>1922025-20100816</td>\n",
              "      <td>2041053</td>\n",
              "      <td>335243</td>\n",
              "      <td>1</td>\n",
              "      <td>ANNA F. JAMISON</td>\n",
              "      <td>ANNA F. JAMISON</td>\n",
              "      <td>13156 S FORRESTVILLE AVE</td>\n",
              "      <td>CHICAGO</td>\n",
              "      <td>IL</td>\n",
              "      <td>60827.0</td>\n",
              "      <td>9.0</td>\n",
              "      <td>33.0</td>\n",
              "      <td>9-33</td>\n",
              "      <td>5.0</td>\n",
              "      <td>1607</td>\n",
              "      <td>Peddler, non-food, special</td>\n",
              "      <td>1922025.0</td>\n",
              "      <td>RENEW</td>\n",
              "      <td>NaN</td>\n",
              "      <td>2010-06-15T00:00:00</td>\n",
              "      <td>2010-11-04T00:00:00</td>\n",
              "      <td>N</td>\n",
              "      <td>2010-08-16T00:00:00</td>\n",
              "      <td>2012-08-15T00:00:00</td>\n",
              "      <td>NaN</td>\n",
              "      <td>2010-11-04T00:00:00</td>\n",
              "      <td>2012-12-31T00:00:00</td>\n",
              "      <td>NaN</td>\n",
              "      <td>41.655762</td>\n",
              "      <td>-87.608686</td>\n",
              "      <td>{'latitude': '41.65576175146191', 'longitude':...</td>\n",
              "    </tr>\n",
              "    <tr>\n",
              "      <th>4</th>\n",
              "      <td>1675683-20070816</td>\n",
              "      <td>1837158</td>\n",
              "      <td>283018</td>\n",
              "      <td>3</td>\n",
              "      <td>MARINCA A. COVARRUBIAS</td>\n",
              "      <td>DETAILS</td>\n",
              "      <td>4208 S ARCHER AVE</td>\n",
              "      <td>CHICAGO</td>\n",
              "      <td>IL</td>\n",
              "      <td>60632.0</td>\n",
              "      <td>15.0</td>\n",
              "      <td>26.0</td>\n",
              "      <td>15-26</td>\n",
              "      <td>9.0</td>\n",
              "      <td>1010</td>\n",
              "      <td>Limited Business License</td>\n",
              "      <td>1675683.0</td>\n",
              "      <td>RENEW</td>\n",
              "      <td>NaN</td>\n",
              "      <td>2007-06-21T00:00:00</td>\n",
              "      <td>2007-08-15T00:00:00</td>\n",
              "      <td>N</td>\n",
              "      <td>2007-08-16T00:00:00</td>\n",
              "      <td>2009-06-15T00:00:00</td>\n",
              "      <td>2007-08-15T00:00:00</td>\n",
              "      <td>2007-08-16T00:00:00</td>\n",
              "      <td>2008-03-26T00:00:00</td>\n",
              "      <td>39.0</td>\n",
              "      <td>41.816969</td>\n",
              "      <td>-87.699785</td>\n",
              "      <td>{'latitude': '41.81696910012824', 'longitude':...</td>\n",
              "    </tr>\n",
              "  </tbody>\n",
              "</table>\n",
              "</div>\n",
              "      <button class=\"colab-df-convert\" onclick=\"convertToInteractive('df-342b45b8-6cb7-4f80-9cfc-5c934331be46')\"\n",
              "              title=\"Convert this dataframe to an interactive table.\"\n",
              "              style=\"display:none;\">\n",
              "        \n",
              "  <svg xmlns=\"http://www.w3.org/2000/svg\" height=\"24px\"viewBox=\"0 0 24 24\"\n",
              "       width=\"24px\">\n",
              "    <path d=\"M0 0h24v24H0V0z\" fill=\"none\"/>\n",
              "    <path d=\"M18.56 5.44l.94 2.06.94-2.06 2.06-.94-2.06-.94-.94-2.06-.94 2.06-2.06.94zm-11 1L8.5 8.5l.94-2.06 2.06-.94-2.06-.94L8.5 2.5l-.94 2.06-2.06.94zm10 10l.94 2.06.94-2.06 2.06-.94-2.06-.94-.94-2.06-.94 2.06-2.06.94z\"/><path d=\"M17.41 7.96l-1.37-1.37c-.4-.4-.92-.59-1.43-.59-.52 0-1.04.2-1.43.59L10.3 9.45l-7.72 7.72c-.78.78-.78 2.05 0 2.83L4 21.41c.39.39.9.59 1.41.59.51 0 1.02-.2 1.41-.59l7.78-7.78 2.81-2.81c.8-.78.8-2.07 0-2.86zM5.41 20L4 18.59l7.72-7.72 1.47 1.35L5.41 20z\"/>\n",
              "  </svg>\n",
              "      </button>\n",
              "      \n",
              "  <style>\n",
              "    .colab-df-container {\n",
              "      display:flex;\n",
              "      flex-wrap:wrap;\n",
              "      gap: 12px;\n",
              "    }\n",
              "\n",
              "    .colab-df-convert {\n",
              "      background-color: #E8F0FE;\n",
              "      border: none;\n",
              "      border-radius: 50%;\n",
              "      cursor: pointer;\n",
              "      display: none;\n",
              "      fill: #1967D2;\n",
              "      height: 32px;\n",
              "      padding: 0 0 0 0;\n",
              "      width: 32px;\n",
              "    }\n",
              "\n",
              "    .colab-df-convert:hover {\n",
              "      background-color: #E2EBFA;\n",
              "      box-shadow: 0px 1px 2px rgba(60, 64, 67, 0.3), 0px 1px 3px 1px rgba(60, 64, 67, 0.15);\n",
              "      fill: #174EA6;\n",
              "    }\n",
              "\n",
              "    [theme=dark] .colab-df-convert {\n",
              "      background-color: #3B4455;\n",
              "      fill: #D2E3FC;\n",
              "    }\n",
              "\n",
              "    [theme=dark] .colab-df-convert:hover {\n",
              "      background-color: #434B5C;\n",
              "      box-shadow: 0px 1px 3px 1px rgba(0, 0, 0, 0.15);\n",
              "      filter: drop-shadow(0px 1px 2px rgba(0, 0, 0, 0.3));\n",
              "      fill: #FFFFFF;\n",
              "    }\n",
              "  </style>\n",
              "\n",
              "      <script>\n",
              "        const buttonEl =\n",
              "          document.querySelector('#df-342b45b8-6cb7-4f80-9cfc-5c934331be46 button.colab-df-convert');\n",
              "        buttonEl.style.display =\n",
              "          google.colab.kernel.accessAllowed ? 'block' : 'none';\n",
              "\n",
              "        async function convertToInteractive(key) {\n",
              "          const element = document.querySelector('#df-342b45b8-6cb7-4f80-9cfc-5c934331be46');\n",
              "          const dataTable =\n",
              "            await google.colab.kernel.invokeFunction('convertToInteractive',\n",
              "                                                     [key], {});\n",
              "          if (!dataTable) return;\n",
              "\n",
              "          const docLinkHtml = 'Like what you see? Visit the ' +\n",
              "            '<a target=\"_blank\" href=https://colab.research.google.com/notebooks/data_table.ipynb>data table notebook</a>'\n",
              "            + ' to learn more about interactive tables.';\n",
              "          element.innerHTML = '';\n",
              "          dataTable['output_type'] = 'display_data';\n",
              "          await google.colab.output.renderOutput(dataTable, element);\n",
              "          const docLink = document.createElement('div');\n",
              "          docLink.innerHTML = docLinkHtml;\n",
              "          element.appendChild(docLink);\n",
              "        }\n",
              "      </script>\n",
              "    </div>\n",
              "  </div>\n",
              "  "
            ]
          },
          "metadata": {},
          "execution_count": 186
        }
      ]
    },
    {
      "cell_type": "code",
      "source": [
        "test.shape"
      ],
      "metadata": {
        "colab": {
          "base_uri": "https://localhost:8080/"
        },
        "id": "jTNi_rSQS6pO",
        "outputId": "3ece3c79-d618-43ad-e412-926c51ef2b58"
      },
      "execution_count": null,
      "outputs": [
        {
          "output_type": "execute_result",
          "data": {
            "text/plain": [
              "(57239, 31)"
            ]
          },
          "metadata": {},
          "execution_count": 187
        }
      ]
    },
    {
      "cell_type": "code",
      "source": [
        "test.describe()"
      ],
      "metadata": {
        "colab": {
          "base_uri": "https://localhost:8080/",
          "height": 300
        },
        "id": "zNfb61GvTEmZ",
        "outputId": "e038bd30-944f-4170-8030-6db35d4406c0"
      },
      "execution_count": null,
      "outputs": [
        {
          "output_type": "execute_result",
          "data": {
            "text/plain": [
              "         LICENSE ID  ACCOUNT NUMBER   SITE NUMBER      ZIP CODE          WARD      PRECINCT  POLICE DISTRICT  LICENSE CODE  LICENSE NUMBER           SSA      LATITUDE     LONGITUDE\n",
              "count  5.723900e+04    57239.000000  57239.000000  57227.000000  56613.000000  55661.000000      55764.00000  57239.000000    5.723900e+04  15908.000000  56329.000000  56329.000000\n",
              "mean   1.867003e+06   187884.083719      4.518685  60580.682982     28.072987     27.203105         13.16369   1243.865197    1.208141e+06     29.852653     41.879834    -87.678037\n",
              "std    3.788378e+05   139139.743948     19.860738   2088.082252     14.587923     20.639461          7.11839    683.092249    8.530084e+05     17.447423      0.078721      0.055403\n",
              "min    9.803000e+03       10.000000      1.000000   1830.000000      1.000000      1.000000          0.00000   1002.000000    4.300000e+01      1.000000     41.644712    -87.933977\n",
              "25%    1.553288e+06    41316.000000      1.000000  60612.000000     16.000000     12.000000          8.00000   1010.000000    6.149350e+04     17.000000     41.834519    -87.713276\n",
              "50%    1.912282e+06   222091.000000      1.000000  60624.000000     30.000000     26.000000         14.00000   1010.000000    1.473632e+06     29.000000     41.891538    -87.669686\n",
              "75%    2.137864e+06   312884.000000      2.000000  60641.000000     42.000000     41.000000         18.00000   1275.000000    1.928348e+06     43.000000     41.938297    -87.635921\n",
              "max    2.615886e+06   429413.000000    507.000000  98003.000000     50.000000    999.000000         25.00000   8344.000000    2.615886e+06     69.000000     42.022630    -87.525872"
            ],
            "text/html": [
              "\n",
              "  <div id=\"df-f233aa7e-3845-461e-b796-2bbab5ea6046\">\n",
              "    <div class=\"colab-df-container\">\n",
              "      <div>\n",
              "<style scoped>\n",
              "    .dataframe tbody tr th:only-of-type {\n",
              "        vertical-align: middle;\n",
              "    }\n",
              "\n",
              "    .dataframe tbody tr th {\n",
              "        vertical-align: top;\n",
              "    }\n",
              "\n",
              "    .dataframe thead th {\n",
              "        text-align: right;\n",
              "    }\n",
              "</style>\n",
              "<table border=\"1\" class=\"dataframe\">\n",
              "  <thead>\n",
              "    <tr style=\"text-align: right;\">\n",
              "      <th></th>\n",
              "      <th>LICENSE ID</th>\n",
              "      <th>ACCOUNT NUMBER</th>\n",
              "      <th>SITE NUMBER</th>\n",
              "      <th>ZIP CODE</th>\n",
              "      <th>WARD</th>\n",
              "      <th>PRECINCT</th>\n",
              "      <th>POLICE DISTRICT</th>\n",
              "      <th>LICENSE CODE</th>\n",
              "      <th>LICENSE NUMBER</th>\n",
              "      <th>SSA</th>\n",
              "      <th>LATITUDE</th>\n",
              "      <th>LONGITUDE</th>\n",
              "    </tr>\n",
              "  </thead>\n",
              "  <tbody>\n",
              "    <tr>\n",
              "      <th>count</th>\n",
              "      <td>5.723900e+04</td>\n",
              "      <td>57239.000000</td>\n",
              "      <td>57239.000000</td>\n",
              "      <td>57227.000000</td>\n",
              "      <td>56613.000000</td>\n",
              "      <td>55661.000000</td>\n",
              "      <td>55764.00000</td>\n",
              "      <td>57239.000000</td>\n",
              "      <td>5.723900e+04</td>\n",
              "      <td>15908.000000</td>\n",
              "      <td>56329.000000</td>\n",
              "      <td>56329.000000</td>\n",
              "    </tr>\n",
              "    <tr>\n",
              "      <th>mean</th>\n",
              "      <td>1.867003e+06</td>\n",
              "      <td>187884.083719</td>\n",
              "      <td>4.518685</td>\n",
              "      <td>60580.682982</td>\n",
              "      <td>28.072987</td>\n",
              "      <td>27.203105</td>\n",
              "      <td>13.16369</td>\n",
              "      <td>1243.865197</td>\n",
              "      <td>1.208141e+06</td>\n",
              "      <td>29.852653</td>\n",
              "      <td>41.879834</td>\n",
              "      <td>-87.678037</td>\n",
              "    </tr>\n",
              "    <tr>\n",
              "      <th>std</th>\n",
              "      <td>3.788378e+05</td>\n",
              "      <td>139139.743948</td>\n",
              "      <td>19.860738</td>\n",
              "      <td>2088.082252</td>\n",
              "      <td>14.587923</td>\n",
              "      <td>20.639461</td>\n",
              "      <td>7.11839</td>\n",
              "      <td>683.092249</td>\n",
              "      <td>8.530084e+05</td>\n",
              "      <td>17.447423</td>\n",
              "      <td>0.078721</td>\n",
              "      <td>0.055403</td>\n",
              "    </tr>\n",
              "    <tr>\n",
              "      <th>min</th>\n",
              "      <td>9.803000e+03</td>\n",
              "      <td>10.000000</td>\n",
              "      <td>1.000000</td>\n",
              "      <td>1830.000000</td>\n",
              "      <td>1.000000</td>\n",
              "      <td>1.000000</td>\n",
              "      <td>0.00000</td>\n",
              "      <td>1002.000000</td>\n",
              "      <td>4.300000e+01</td>\n",
              "      <td>1.000000</td>\n",
              "      <td>41.644712</td>\n",
              "      <td>-87.933977</td>\n",
              "    </tr>\n",
              "    <tr>\n",
              "      <th>25%</th>\n",
              "      <td>1.553288e+06</td>\n",
              "      <td>41316.000000</td>\n",
              "      <td>1.000000</td>\n",
              "      <td>60612.000000</td>\n",
              "      <td>16.000000</td>\n",
              "      <td>12.000000</td>\n",
              "      <td>8.00000</td>\n",
              "      <td>1010.000000</td>\n",
              "      <td>6.149350e+04</td>\n",
              "      <td>17.000000</td>\n",
              "      <td>41.834519</td>\n",
              "      <td>-87.713276</td>\n",
              "    </tr>\n",
              "    <tr>\n",
              "      <th>50%</th>\n",
              "      <td>1.912282e+06</td>\n",
              "      <td>222091.000000</td>\n",
              "      <td>1.000000</td>\n",
              "      <td>60624.000000</td>\n",
              "      <td>30.000000</td>\n",
              "      <td>26.000000</td>\n",
              "      <td>14.00000</td>\n",
              "      <td>1010.000000</td>\n",
              "      <td>1.473632e+06</td>\n",
              "      <td>29.000000</td>\n",
              "      <td>41.891538</td>\n",
              "      <td>-87.669686</td>\n",
              "    </tr>\n",
              "    <tr>\n",
              "      <th>75%</th>\n",
              "      <td>2.137864e+06</td>\n",
              "      <td>312884.000000</td>\n",
              "      <td>2.000000</td>\n",
              "      <td>60641.000000</td>\n",
              "      <td>42.000000</td>\n",
              "      <td>41.000000</td>\n",
              "      <td>18.00000</td>\n",
              "      <td>1275.000000</td>\n",
              "      <td>1.928348e+06</td>\n",
              "      <td>43.000000</td>\n",
              "      <td>41.938297</td>\n",
              "      <td>-87.635921</td>\n",
              "    </tr>\n",
              "    <tr>\n",
              "      <th>max</th>\n",
              "      <td>2.615886e+06</td>\n",
              "      <td>429413.000000</td>\n",
              "      <td>507.000000</td>\n",
              "      <td>98003.000000</td>\n",
              "      <td>50.000000</td>\n",
              "      <td>999.000000</td>\n",
              "      <td>25.00000</td>\n",
              "      <td>8344.000000</td>\n",
              "      <td>2.615886e+06</td>\n",
              "      <td>69.000000</td>\n",
              "      <td>42.022630</td>\n",
              "      <td>-87.525872</td>\n",
              "    </tr>\n",
              "  </tbody>\n",
              "</table>\n",
              "</div>\n",
              "      <button class=\"colab-df-convert\" onclick=\"convertToInteractive('df-f233aa7e-3845-461e-b796-2bbab5ea6046')\"\n",
              "              title=\"Convert this dataframe to an interactive table.\"\n",
              "              style=\"display:none;\">\n",
              "        \n",
              "  <svg xmlns=\"http://www.w3.org/2000/svg\" height=\"24px\"viewBox=\"0 0 24 24\"\n",
              "       width=\"24px\">\n",
              "    <path d=\"M0 0h24v24H0V0z\" fill=\"none\"/>\n",
              "    <path d=\"M18.56 5.44l.94 2.06.94-2.06 2.06-.94-2.06-.94-.94-2.06-.94 2.06-2.06.94zm-11 1L8.5 8.5l.94-2.06 2.06-.94-2.06-.94L8.5 2.5l-.94 2.06-2.06.94zm10 10l.94 2.06.94-2.06 2.06-.94-2.06-.94-.94-2.06-.94 2.06-2.06.94z\"/><path d=\"M17.41 7.96l-1.37-1.37c-.4-.4-.92-.59-1.43-.59-.52 0-1.04.2-1.43.59L10.3 9.45l-7.72 7.72c-.78.78-.78 2.05 0 2.83L4 21.41c.39.39.9.59 1.41.59.51 0 1.02-.2 1.41-.59l7.78-7.78 2.81-2.81c.8-.78.8-2.07 0-2.86zM5.41 20L4 18.59l7.72-7.72 1.47 1.35L5.41 20z\"/>\n",
              "  </svg>\n",
              "      </button>\n",
              "      \n",
              "  <style>\n",
              "    .colab-df-container {\n",
              "      display:flex;\n",
              "      flex-wrap:wrap;\n",
              "      gap: 12px;\n",
              "    }\n",
              "\n",
              "    .colab-df-convert {\n",
              "      background-color: #E8F0FE;\n",
              "      border: none;\n",
              "      border-radius: 50%;\n",
              "      cursor: pointer;\n",
              "      display: none;\n",
              "      fill: #1967D2;\n",
              "      height: 32px;\n",
              "      padding: 0 0 0 0;\n",
              "      width: 32px;\n",
              "    }\n",
              "\n",
              "    .colab-df-convert:hover {\n",
              "      background-color: #E2EBFA;\n",
              "      box-shadow: 0px 1px 2px rgba(60, 64, 67, 0.3), 0px 1px 3px 1px rgba(60, 64, 67, 0.15);\n",
              "      fill: #174EA6;\n",
              "    }\n",
              "\n",
              "    [theme=dark] .colab-df-convert {\n",
              "      background-color: #3B4455;\n",
              "      fill: #D2E3FC;\n",
              "    }\n",
              "\n",
              "    [theme=dark] .colab-df-convert:hover {\n",
              "      background-color: #434B5C;\n",
              "      box-shadow: 0px 1px 3px 1px rgba(0, 0, 0, 0.15);\n",
              "      filter: drop-shadow(0px 1px 2px rgba(0, 0, 0, 0.3));\n",
              "      fill: #FFFFFF;\n",
              "    }\n",
              "  </style>\n",
              "\n",
              "      <script>\n",
              "        const buttonEl =\n",
              "          document.querySelector('#df-f233aa7e-3845-461e-b796-2bbab5ea6046 button.colab-df-convert');\n",
              "        buttonEl.style.display =\n",
              "          google.colab.kernel.accessAllowed ? 'block' : 'none';\n",
              "\n",
              "        async function convertToInteractive(key) {\n",
              "          const element = document.querySelector('#df-f233aa7e-3845-461e-b796-2bbab5ea6046');\n",
              "          const dataTable =\n",
              "            await google.colab.kernel.invokeFunction('convertToInteractive',\n",
              "                                                     [key], {});\n",
              "          if (!dataTable) return;\n",
              "\n",
              "          const docLinkHtml = 'Like what you see? Visit the ' +\n",
              "            '<a target=\"_blank\" href=https://colab.research.google.com/notebooks/data_table.ipynb>data table notebook</a>'\n",
              "            + ' to learn more about interactive tables.';\n",
              "          element.innerHTML = '';\n",
              "          dataTable['output_type'] = 'display_data';\n",
              "          await google.colab.output.renderOutput(dataTable, element);\n",
              "          const docLink = document.createElement('div');\n",
              "          docLink.innerHTML = docLinkHtml;\n",
              "          element.appendChild(docLink);\n",
              "        }\n",
              "      </script>\n",
              "    </div>\n",
              "  </div>\n",
              "  "
            ]
          },
          "metadata": {},
          "execution_count": 188
        }
      ]
    },
    {
      "cell_type": "code",
      "source": [
        "test.isna().sum()\n",
        "#checking for null data"
      ],
      "metadata": {
        "colab": {
          "base_uri": "https://localhost:8080/"
        },
        "id": "ySP6WsbOTJJg",
        "outputId": "4edc8650-1ac0-4bab-8e92-195bf5a36bcc"
      },
      "execution_count": null,
      "outputs": [
        {
          "output_type": "execute_result",
          "data": {
            "text/plain": [
              "ID                                       0\n",
              "LICENSE ID                               0\n",
              "ACCOUNT NUMBER                           0\n",
              "SITE NUMBER                              0\n",
              "LEGAL NAME                               0\n",
              "DOING BUSINESS AS NAME                   2\n",
              "ADDRESS                                  0\n",
              "CITY                                     0\n",
              "STATE                                    0\n",
              "ZIP CODE                                12\n",
              "WARD                                   626\n",
              "PRECINCT                              1578\n",
              "WARD PRECINCT                          616\n",
              "POLICE DISTRICT                       1475\n",
              "LICENSE CODE                             0\n",
              "LICENSE DESCRIPTION                      0\n",
              "LICENSE NUMBER                           0\n",
              "APPLICATION TYPE                         0\n",
              "APPLICATION CREATED DATE             44587\n",
              "APPLICATION REQUIREMENTS COMPLETE      428\n",
              "PAYMENT DATE                          1051\n",
              "CONDITIONAL APPROVAL                     0\n",
              "LICENSE TERM START DATE                118\n",
              "LICENSE TERM EXPIRATION DATE             6\n",
              "LICENSE APPROVED FOR ISSUANCE         2379\n",
              "DATE ISSUED                              0\n",
              "LICENSE STATUS CHANGE DATE           23246\n",
              "SSA                                  41331\n",
              "LATITUDE                               910\n",
              "LONGITUDE                              910\n",
              "LOCATION                               910\n",
              "dtype: int64"
            ]
          },
          "metadata": {},
          "execution_count": 189
        }
      ]
    },
    {
      "cell_type": "code",
      "source": [
        "train.columns"
      ],
      "metadata": {
        "colab": {
          "base_uri": "https://localhost:8080/"
        },
        "id": "d8NmNS9LTLtv",
        "outputId": "037bcdd3-6135-4ea7-a6dd-833d24f8233b"
      },
      "execution_count": null,
      "outputs": [
        {
          "output_type": "execute_result",
          "data": {
            "text/plain": [
              "Index(['ID', 'LICENSE ID', 'ACCOUNT NUMBER', 'SITE NUMBER', 'LEGAL NAME', 'DOING BUSINESS AS NAME', 'ADDRESS', 'CITY', 'STATE', 'ZIP CODE', 'WARD', 'PRECINCT', 'WARD PRECINCT', 'POLICE DISTRICT', 'LICENSE CODE', 'LICENSE DESCRIPTION', 'LICENSE NUMBER', 'APPLICATION TYPE', 'APPLICATION CREATED DATE', 'APPLICATION REQUIREMENTS COMPLETE', 'PAYMENT DATE', 'CONDITIONAL APPROVAL', 'LICENSE TERM START DATE', 'LICENSE TERM EXPIRATION DATE', 'LICENSE APPROVED FOR ISSUANCE', 'DATE ISSUED', 'LICENSE STATUS CHANGE DATE', 'SSA', 'LATITUDE', 'LONGITUDE', 'LOCATION', 'LICENSE STATUS'], dtype='object')"
            ]
          },
          "metadata": {},
          "execution_count": 190
        }
      ]
    },
    {
      "cell_type": "code",
      "source": [
        "my_submission = pd.DataFrame({'ID': test.ID})\n",
        "my_submission.head()"
      ],
      "metadata": {
        "colab": {
          "base_uri": "https://localhost:8080/",
          "height": 206
        },
        "id": "PYd-1OHKt-gr",
        "outputId": "649d9abf-8e8f-4e18-f6c2-a4dfa2a01b9a"
      },
      "execution_count": null,
      "outputs": [
        {
          "output_type": "execute_result",
          "data": {
            "text/plain": [
              "                 ID\n",
              "0  1516615-20120216\n",
              "1    69813-20110616\n",
              "2  1519227-20041116\n",
              "3  1922025-20100816\n",
              "4  1675683-20070816"
            ],
            "text/html": [
              "\n",
              "  <div id=\"df-18667414-1db5-4f19-a7e1-1b1eea1a48df\">\n",
              "    <div class=\"colab-df-container\">\n",
              "      <div>\n",
              "<style scoped>\n",
              "    .dataframe tbody tr th:only-of-type {\n",
              "        vertical-align: middle;\n",
              "    }\n",
              "\n",
              "    .dataframe tbody tr th {\n",
              "        vertical-align: top;\n",
              "    }\n",
              "\n",
              "    .dataframe thead th {\n",
              "        text-align: right;\n",
              "    }\n",
              "</style>\n",
              "<table border=\"1\" class=\"dataframe\">\n",
              "  <thead>\n",
              "    <tr style=\"text-align: right;\">\n",
              "      <th></th>\n",
              "      <th>ID</th>\n",
              "    </tr>\n",
              "  </thead>\n",
              "  <tbody>\n",
              "    <tr>\n",
              "      <th>0</th>\n",
              "      <td>1516615-20120216</td>\n",
              "    </tr>\n",
              "    <tr>\n",
              "      <th>1</th>\n",
              "      <td>69813-20110616</td>\n",
              "    </tr>\n",
              "    <tr>\n",
              "      <th>2</th>\n",
              "      <td>1519227-20041116</td>\n",
              "    </tr>\n",
              "    <tr>\n",
              "      <th>3</th>\n",
              "      <td>1922025-20100816</td>\n",
              "    </tr>\n",
              "    <tr>\n",
              "      <th>4</th>\n",
              "      <td>1675683-20070816</td>\n",
              "    </tr>\n",
              "  </tbody>\n",
              "</table>\n",
              "</div>\n",
              "      <button class=\"colab-df-convert\" onclick=\"convertToInteractive('df-18667414-1db5-4f19-a7e1-1b1eea1a48df')\"\n",
              "              title=\"Convert this dataframe to an interactive table.\"\n",
              "              style=\"display:none;\">\n",
              "        \n",
              "  <svg xmlns=\"http://www.w3.org/2000/svg\" height=\"24px\"viewBox=\"0 0 24 24\"\n",
              "       width=\"24px\">\n",
              "    <path d=\"M0 0h24v24H0V0z\" fill=\"none\"/>\n",
              "    <path d=\"M18.56 5.44l.94 2.06.94-2.06 2.06-.94-2.06-.94-.94-2.06-.94 2.06-2.06.94zm-11 1L8.5 8.5l.94-2.06 2.06-.94-2.06-.94L8.5 2.5l-.94 2.06-2.06.94zm10 10l.94 2.06.94-2.06 2.06-.94-2.06-.94-.94-2.06-.94 2.06-2.06.94z\"/><path d=\"M17.41 7.96l-1.37-1.37c-.4-.4-.92-.59-1.43-.59-.52 0-1.04.2-1.43.59L10.3 9.45l-7.72 7.72c-.78.78-.78 2.05 0 2.83L4 21.41c.39.39.9.59 1.41.59.51 0 1.02-.2 1.41-.59l7.78-7.78 2.81-2.81c.8-.78.8-2.07 0-2.86zM5.41 20L4 18.59l7.72-7.72 1.47 1.35L5.41 20z\"/>\n",
              "  </svg>\n",
              "      </button>\n",
              "      \n",
              "  <style>\n",
              "    .colab-df-container {\n",
              "      display:flex;\n",
              "      flex-wrap:wrap;\n",
              "      gap: 12px;\n",
              "    }\n",
              "\n",
              "    .colab-df-convert {\n",
              "      background-color: #E8F0FE;\n",
              "      border: none;\n",
              "      border-radius: 50%;\n",
              "      cursor: pointer;\n",
              "      display: none;\n",
              "      fill: #1967D2;\n",
              "      height: 32px;\n",
              "      padding: 0 0 0 0;\n",
              "      width: 32px;\n",
              "    }\n",
              "\n",
              "    .colab-df-convert:hover {\n",
              "      background-color: #E2EBFA;\n",
              "      box-shadow: 0px 1px 2px rgba(60, 64, 67, 0.3), 0px 1px 3px 1px rgba(60, 64, 67, 0.15);\n",
              "      fill: #174EA6;\n",
              "    }\n",
              "\n",
              "    [theme=dark] .colab-df-convert {\n",
              "      background-color: #3B4455;\n",
              "      fill: #D2E3FC;\n",
              "    }\n",
              "\n",
              "    [theme=dark] .colab-df-convert:hover {\n",
              "      background-color: #434B5C;\n",
              "      box-shadow: 0px 1px 3px 1px rgba(0, 0, 0, 0.15);\n",
              "      filter: drop-shadow(0px 1px 2px rgba(0, 0, 0, 0.3));\n",
              "      fill: #FFFFFF;\n",
              "    }\n",
              "  </style>\n",
              "\n",
              "      <script>\n",
              "        const buttonEl =\n",
              "          document.querySelector('#df-18667414-1db5-4f19-a7e1-1b1eea1a48df button.colab-df-convert');\n",
              "        buttonEl.style.display =\n",
              "          google.colab.kernel.accessAllowed ? 'block' : 'none';\n",
              "\n",
              "        async function convertToInteractive(key) {\n",
              "          const element = document.querySelector('#df-18667414-1db5-4f19-a7e1-1b1eea1a48df');\n",
              "          const dataTable =\n",
              "            await google.colab.kernel.invokeFunction('convertToInteractive',\n",
              "                                                     [key], {});\n",
              "          if (!dataTable) return;\n",
              "\n",
              "          const docLinkHtml = 'Like what you see? Visit the ' +\n",
              "            '<a target=\"_blank\" href=https://colab.research.google.com/notebooks/data_table.ipynb>data table notebook</a>'\n",
              "            + ' to learn more about interactive tables.';\n",
              "          element.innerHTML = '';\n",
              "          dataTable['output_type'] = 'display_data';\n",
              "          await google.colab.output.renderOutput(dataTable, element);\n",
              "          const docLink = document.createElement('div');\n",
              "          docLink.innerHTML = docLinkHtml;\n",
              "          element.appendChild(docLink);\n",
              "        }\n",
              "      </script>\n",
              "    </div>\n",
              "  </div>\n",
              "  "
            ]
          },
          "metadata": {},
          "execution_count": 191
        }
      ]
    },
    {
      "cell_type": "code",
      "source": [
        "sns.countplot(train['LICENSE STATUS'])\n",
        "plt.show()\n",
        "#DATA VISUALIZATION"
      ],
      "metadata": {
        "colab": {
          "base_uri": "https://localhost:8080/",
          "height": 334
        },
        "id": "lKENp-uqTcph",
        "outputId": "f08d97d8-beae-44fd-c009-54a8ea9c3bfc"
      },
      "execution_count": null,
      "outputs": [
        {
          "output_type": "stream",
          "name": "stderr",
          "text": [
            "/usr/local/lib/python3.7/dist-packages/seaborn/_decorators.py:43: FutureWarning: Pass the following variable as a keyword arg: x. From version 0.12, the only valid positional argument will be `data`, and passing other arguments without an explicit keyword will result in an error or misinterpretation.\n",
            "  FutureWarning\n"
          ]
        },
        {
          "output_type": "display_data",
          "data": {
            "text/plain": [
              "<Figure size 432x288 with 1 Axes>"
            ],
            "image/png": "[encoded data removed]"
          },
          "metadata": {
            "needs_background": "light"
          }
        }
      ]
    },
    {
      "cell_type": "markdown",
      "source": [
        "Dropping unnecessary info"
      ],
      "metadata": {
        "id": "Mh34n3Z0T8z3"
      }
    },
    {
      "cell_type": "code",
      "source": [
        "my_submission.shape"
      ],
      "metadata": {
        "colab": {
          "base_uri": "https://localhost:8080/"
        },
        "id": "aalGOQyDuI4P",
        "outputId": "6bc3b0d2-d46c-4700-e70d-74d0686f3ca6"
      },
      "execution_count": null,
      "outputs": [
        {
          "output_type": "execute_result",
          "data": {
            "text/plain": [
              "(57239, 1)"
            ]
          },
          "metadata": {},
          "execution_count": 193
        }
      ]
    },
    {
      "cell_type": "code",
      "source": [
        "col_list = ['APPLICATION CREATED DATE', 'LICENSE ID', 'ADDRESS', 'ID', 'LOCATION','LICENSE STATUS CHANGE DATE','STATE','LICENSE NUMBER','WARD PRECINCT','LATITUDE','LONGITUDE']"
      ],
      "metadata": {
        "id": "OQrfjFzXT602"
      },
      "execution_count": null,
      "outputs": []
    },
    {
      "cell_type": "code",
      "source": [
        "train=train.drop(col_list, axis=1)\n",
        "test=test.drop(col_list, axis=1)"
      ],
      "metadata": {
        "id": "NRYUtcbeT0TK"
      },
      "execution_count": null,
      "outputs": []
    },
    {
      "cell_type": "code",
      "source": [
        "train.isna().sum()"
      ],
      "metadata": {
        "colab": {
          "base_uri": "https://localhost:8080/"
        },
        "id": "c6BN5gWSTgH2",
        "outputId": "00986bed-2572-4d94-982c-cc7d3fba0b09"
      },
      "execution_count": null,
      "outputs": [
        {
          "output_type": "execute_result",
          "data": {
            "text/plain": [
              "ACCOUNT NUMBER                           0\n",
              "SITE NUMBER                              0\n",
              "LEGAL NAME                               0\n",
              "DOING BUSINESS AS NAME                   1\n",
              "CITY                                     0\n",
              "ZIP CODE                                31\n",
              "WARD                                 49701\n",
              "PRECINCT                             56701\n",
              "POLICE DISTRICT                      54012\n",
              "LICENSE CODE                             0\n",
              "LICENSE DESCRIPTION                      0\n",
              "APPLICATION TYPE                         0\n",
              "APPLICATION REQUIREMENTS COMPLETE      214\n",
              "PAYMENT DATE                          1289\n",
              "CONDITIONAL APPROVAL                     0\n",
              "LICENSE TERM START DATE                228\n",
              "LICENSE TERM EXPIRATION DATE            18\n",
              "LICENSE APPROVED FOR ISSUANCE         6789\n",
              "DATE ISSUED                              0\n",
              "SSA                                  76446\n",
              "LICENSE STATUS                           0\n",
              "dtype: int64"
            ]
          },
          "metadata": {},
          "execution_count": 196
        }
      ]
    },
    {
      "cell_type": "code",
      "source": [
        "train.shape"
      ],
      "metadata": {
        "colab": {
          "base_uri": "https://localhost:8080/"
        },
        "id": "VdRqQMfyVqBp",
        "outputId": "8dd8dfa1-39ec-44e4-a8b4-13436426cd1e"
      },
      "execution_count": null,
      "outputs": [
        {
          "output_type": "execute_result",
          "data": {
            "text/plain": [
              "(85895, 21)"
            ]
          },
          "metadata": {},
          "execution_count": 197
        }
      ]
    },
    {
      "cell_type": "code",
      "source": [
        "test.shape"
      ],
      "metadata": {
        "colab": {
          "base_uri": "https://localhost:8080/"
        },
        "id": "2KFy-x-hV0g9",
        "outputId": "58c5cd6a-942b-4906-95d0-a6b65ecb358d"
      },
      "execution_count": null,
      "outputs": [
        {
          "output_type": "execute_result",
          "data": {
            "text/plain": [
              "(57239, 20)"
            ]
          },
          "metadata": {},
          "execution_count": 198
        }
      ]
    },
    {
      "cell_type": "code",
      "source": [
        "train['LICENSE STATUS'].value_counts()\n"
      ],
      "metadata": {
        "colab": {
          "base_uri": "https://localhost:8080/"
        },
        "id": "3m7xw0ppV6IF",
        "outputId": "4119a864-b121-410c-bec2-48d3dd2b1e77"
      },
      "execution_count": null,
      "outputs": [
        {
          "output_type": "execute_result",
          "data": {
            "text/plain": [
              "AAI    55400\n",
              "AAC    30200\n",
              "REV      290\n",
              "REA        3\n",
              "INQ        2\n",
              "Name: LICENSE STATUS, dtype: int64"
            ]
          },
          "metadata": {},
          "execution_count": 199
        }
      ]
    },
    {
      "cell_type": "markdown",
      "source": [
        "CONVERTING COLUMN IN TRAIN HAVING DATE WHICH IS IN OBJECT TO DATE TIME FORMAT"
      ],
      "metadata": {
        "id": "4I6sX_9cWhEQ"
      }
    },
    {
      "cell_type": "code",
      "source": [
        "train['PAYMENT DATE'] = pd.to_datetime(train['PAYMENT DATE'])"
      ],
      "metadata": {
        "id": "cdms7V-IWXuQ"
      },
      "execution_count": null,
      "outputs": []
    },
    {
      "cell_type": "code",
      "source": [
        "train['APPLICATION REQUIREMENTS COMPLETE'] = pd.to_datetime(train['APPLICATION REQUIREMENTS COMPLETE'])\n",
        "train['LICENSE TERM EXPIRATION DATE'] = pd.to_datetime(train['LICENSE TERM EXPIRATION DATE'])\n"
      ],
      "metadata": {
        "id": "wpVsNlomWnZ8"
      },
      "execution_count": null,
      "outputs": []
    },
    {
      "cell_type": "code",
      "source": [
        "train['LICENSE TERM START DATE'] = pd.to_datetime(train['LICENSE TERM START DATE'])\n",
        "train['DATE ISSUED'] = pd.to_datetime(train['DATE ISSUED'])"
      ],
      "metadata": {
        "id": "Ax4DgZUvWqax"
      },
      "execution_count": null,
      "outputs": []
    },
    {
      "cell_type": "code",
      "source": [
        "train['APPLICATION REQUIREMENTS COMPLETE']"
      ],
      "metadata": {
        "colab": {
          "base_uri": "https://localhost:8080/"
        },
        "id": "e-5zWbWBWtTF",
        "outputId": "feb69938-f0c5-4f08-fe5f-25f5cbad1069"
      },
      "execution_count": null,
      "outputs": [
        {
          "output_type": "execute_result",
          "data": {
            "text/plain": [
              "0       2002-06-28\n",
              "1       2005-09-22\n",
              "2       2009-07-22\n",
              "3       2004-02-10\n",
              "4       2008-03-24\n",
              "           ...    \n",
              "85890   2012-03-15\n",
              "85891   2007-05-22\n",
              "85892   2008-11-14\n",
              "85893   2011-08-15\n",
              "85894   2003-12-15\n",
              "Name: APPLICATION REQUIREMENTS COMPLETE, Length: 85895, dtype: datetime64[ns]"
            ]
          },
          "metadata": {},
          "execution_count": 203
        }
      ]
    },
    {
      "cell_type": "code",
      "source": [
        "train['LICENSE APPROVED FOR ISSUANCE']=train['LICENSE APPROVED FOR ISSUANCE'].replace(['2008-10-31T0'],'2002-08-21T00:00:00')"
      ],
      "metadata": {
        "id": "ko-jdh8pWxBe"
      },
      "execution_count": null,
      "outputs": []
    },
    {
      "cell_type": "code",
      "source": [
        "train['LICENSE APPROVED FOR ISSUANCE']=pd.to_datetime(train['LICENSE APPROVED FOR ISSUANCE'])"
      ],
      "metadata": {
        "id": "D1DUG1GbW_YW"
      },
      "execution_count": null,
      "outputs": []
    },
    {
      "cell_type": "markdown",
      "source": [
        "CONVERTING COLUMN IN TEST HAVING DATE WHICH IS IN OBJECT TO DATE TIME FORMAT"
      ],
      "metadata": {
        "id": "W6M8SZioXNsq"
      }
    },
    {
      "cell_type": "code",
      "source": [
        "test['PAYMENT DATE'] = pd.to_datetime(test['PAYMENT DATE'])\n",
        "test['APPLICATION REQUIREMENTS COMPLETE'] = pd.to_datetime(test['APPLICATION REQUIREMENTS COMPLETE'])\n",
        "test['LICENSE TERM EXPIRATION DATE'] = pd.to_datetime(test['LICENSE TERM EXPIRATION DATE'])\n",
        "test['LICENSE TERM START DATE'] = pd.to_datetime(test['LICENSE TERM START DATE'])\n",
        "test['DATE ISSUED'] = pd.to_datetime(test['DATE ISSUED'])\n",
        "test['LICENSE APPROVED FOR ISSUANCE'] = pd.to_datetime(test['LICENSE APPROVED FOR ISSUANCE'])"
      ],
      "metadata": {
        "id": "1iRfiGvzXFMe"
      },
      "execution_count": null,
      "outputs": []
    },
    {
      "cell_type": "markdown",
      "source": [
        "NOW APPLYING LAMBDA(ANONYMOUS ONE TIME EXECUTABLE)FUNCTION"
      ],
      "metadata": {
        "id": "a-WuVrxmXd2l"
      }
    },
    {
      "cell_type": "code",
      "source": [
        "train['PAYMENT YEAR'] = train['PAYMENT DATE'].apply(lambda x: x.year)\n",
        "test['PAYMENT YEAR'] = test['PAYMENT DATE'].apply(lambda x: x.year)"
      ],
      "metadata": {
        "id": "VaL6GkGFXbge"
      },
      "execution_count": null,
      "outputs": []
    },
    {
      "cell_type": "code",
      "source": [
        "train['APPLICATION REQUIREMENTS COMPLETE YEAR']=train['APPLICATION REQUIREMENTS COMPLETE'].apply(lambda x: x.year)\n",
        "test['APPLICATION REQUIREMENTS COMPLETE YEAR']=test['APPLICATION REQUIREMENTS COMPLETE'].apply(lambda x: x.year)"
      ],
      "metadata": {
        "id": "ncF6VhR2XwFD"
      },
      "execution_count": null,
      "outputs": []
    },
    {
      "cell_type": "code",
      "source": [
        "train['DATE ISSUED YEAR']=train['DATE ISSUED'].apply(lambda x: x.year)\n",
        "test['DATE ISSUED YEAR']=test['DATE ISSUED'].apply(lambda x: x.year)"
      ],
      "metadata": {
        "id": "9ERNb43RX_yW"
      },
      "execution_count": null,
      "outputs": []
    },
    {
      "cell_type": "code",
      "source": [
        "train['LICENSE TERM EXPIRATION YEAR']=train['LICENSE TERM EXPIRATION DATE'].apply(lambda x: x.year)\n",
        "test['LICENSE TERM EXPIRATION YEAR']=test['LICENSE TERM EXPIRATION DATE'].apply(lambda x: x.year)\n"
      ],
      "metadata": {
        "id": "RCLTH2TDYOSF"
      },
      "execution_count": null,
      "outputs": []
    },
    {
      "cell_type": "code",
      "source": [
        "train['LICENSE TERM START YEAR'] = train['LICENSE TERM START DATE'].apply(lambda x: x.year)\n",
        "test['LICENSE TERM START YEAR'] = test['LICENSE TERM START DATE'].apply(lambda x: x.year)"
      ],
      "metadata": {
        "id": "IkWZhPXUYW1F"
      },
      "execution_count": null,
      "outputs": []
    },
    {
      "cell_type": "code",
      "source": [
        "train['LICENSE VALIDITY']=abs(train['LICENSE TERM EXPIRATION YEAR'] - train['LICENSE TERM START YEAR'])\n",
        "test['LICENSE VALIDITY']=abs(test['LICENSE TERM EXPIRATION YEAR'] - test['LICENSE TERM START YEAR'])"
      ],
      "metadata": {
        "id": "YbE35brfYcvg"
      },
      "execution_count": null,
      "outputs": []
    },
    {
      "cell_type": "code",
      "source": [
        "train['LICENSE APPROVED YEAR']=train['LICENSE APPROVED FOR ISSUANCE'].apply(lambda x: x.year)"
      ],
      "metadata": {
        "id": "YeKMmRc3ZSHI"
      },
      "execution_count": null,
      "outputs": []
    },
    {
      "cell_type": "code",
      "source": [
        "test['LICENSE APPROVED YEAR']=test['LICENSE APPROVED FOR ISSUANCE'].apply(lambda x: x.year)"
      ],
      "metadata": {
        "id": "_Cg-yNEGZm5D"
      },
      "execution_count": null,
      "outputs": []
    },
    {
      "cell_type": "code",
      "source": [
        "train=train.drop(['APPLICATION REQUIREMENTS COMPLETE'], axis = 1)\n",
        "test=test.drop(['APPLICATION REQUIREMENTS COMPLETE'], axis = 1)"
      ],
      "metadata": {
        "id": "fLShK68zND-T"
      },
      "execution_count": null,
      "outputs": []
    },
    {
      "cell_type": "code",
      "source": [
        "train=train.drop(['DATE ISSUED'], axis = 1)\n",
        "test=test.drop(['DATE ISSUED'], axis = 1)"
      ],
      "metadata": {
        "id": "GWwctbTaNNhe"
      },
      "execution_count": null,
      "outputs": []
    },
    {
      "cell_type": "code",
      "source": [
        "train=train.drop(['PAYMENT DATE'], axis = 1)\n",
        "test=test.drop(['PAYMENT DATE'], axis = 1)"
      ],
      "metadata": {
        "id": "YPXf6mveNWpO"
      },
      "execution_count": null,
      "outputs": []
    },
    {
      "cell_type": "code",
      "source": [
        "train=train.drop(['LICENSE TERM EXPIRATION DATE'], axis=1)\n",
        "test=test.drop(['LICENSE TERM EXPIRATION DATE'], axis=1)\n",
        "train=train.drop(['LICENSE TERM START DATE'], axis=1)\n",
        "test=test.drop(['LICENSE TERM START DATE'], axis=1)"
      ],
      "metadata": {
        "id": "PfqFrWoKNz40"
      },
      "execution_count": null,
      "outputs": []
    },
    {
      "cell_type": "code",
      "source": [
        "train.head()"
      ],
      "metadata": {
        "colab": {
          "base_uri": "https://localhost:8080/",
          "height": 478
        },
        "id": "uOa7rFdkZvhY",
        "outputId": "02d6bf3f-5b34-48d1-9ff8-33cabd2ee146"
      },
      "execution_count": null,
      "outputs": [
        {
          "output_type": "execute_result",
          "data": {
            "text/plain": [
              "   ACCOUNT NUMBER  SITE NUMBER                    LEGAL NAME        DOING BUSINESS AS NAME      CITY ZIP CODE  WARD  PRECINCT  POLICE DISTRICT  LICENSE CODE       LICENSE DESCRIPTION APPLICATION TYPE CONDITIONAL APPROVAL LICENSE APPROVED FOR ISSUANCE   SSA LICENSE STATUS  PAYMENT YEAR  APPLICATION REQUIREMENTS COMPLETE YEAR  DATE ISSUED YEAR  LICENSE TERM EXPIRATION YEAR  LICENSE TERM START YEAR  LICENSE VALIDITY  LICENSE APPROVED YEAR\n",
              "0           32811            1                  CARMEN CAHUE         CLAUDIA'S BRIDAL SHOP   CHICAGO  60623.0  22.0      28.0             10.0          1010  Limited Business License            RENEW                    N                    2002-08-21  25.0            AAI        2002.0                                  2002.0              2006                        2003.0                   2002.0               1.0                 2002.0\n",
              "1          262311           29           ISLA TROPICAL, INC.                 ISLA TROPICAL   CHICAGO    60618  33.0      23.0             17.0          1315     Mobile Food Dispenser            RENEW                    N                    2006-04-05  60.0            AAC        2005.0                                  2005.0              2006                        2006.0                   2005.0               1.0                 2006.0\n",
              "2          345008            1                DJS REMODELING          DJS REMODELING, INC.  HIGHLAND    60035   NaN       NaN              NaN          1011               Home Repair            ISSUE                    N                    2009-07-22   NaN            AAI        2009.0                                  2009.0              2009                        2011.0                   2009.0               2.0                 2009.0\n",
              "3          273121            1      ALL-BRY CONSTRUCTION CO.      ALL-BRY CONSTRUCTION CO.    LEMONT    60439   NaN       NaN              NaN          1010  Limited Business License            ISSUE                    N                    2004-02-10   NaN            AAI        2004.0                                  2004.0              2004                        2005.0                   2004.0               1.0                 2004.0\n",
              "4          213785            1  MCDONOUGH MECHANICAL SERVICE  MCDONOUGH MECHANICAL SERVICE  WAUKEGAN    60087   NaN       NaN              NaN          1010  Limited Business License            RENEW                    N                    2008-06-04   NaN            AAI        2008.0                                  2008.0              2008                        2010.0                   2008.0               2.0                 2008.0"
            ],
            "text/html": [
              "\n",
              "  <div id=\"df-42c5756d-425c-4719-940c-379788aeb961\">\n",
              "    <div class=\"colab-df-container\">\n",
              "      <div>\n",
              "<style scoped>\n",
              "    .dataframe tbody tr th:only-of-type {\n",
              "        vertical-align: middle;\n",
              "    }\n",
              "\n",
              "    .dataframe tbody tr th {\n",
              "        vertical-align: top;\n",
              "    }\n",
              "\n",
              "    .dataframe thead th {\n",
              "        text-align: right;\n",
              "    }\n",
              "</style>\n",
              "<table border=\"1\" class=\"dataframe\">\n",
              "  <thead>\n",
              "    <tr style=\"text-align: right;\">\n",
              "      <th></th>\n",
              "      <th>ACCOUNT NUMBER</th>\n",
              "      <th>SITE NUMBER</th>\n",
              "      <th>LEGAL NAME</th>\n",
              "      <th>DOING BUSINESS AS NAME</th>\n",
              "      <th>CITY</th>\n",
              "      <th>ZIP CODE</th>\n",
              "      <th>WARD</th>\n",
              "      <th>PRECINCT</th>\n",
              "      <th>POLICE DISTRICT</th>\n",
              "      <th>LICENSE CODE</th>\n",
              "      <th>LICENSE DESCRIPTION</th>\n",
              "      <th>APPLICATION TYPE</th>\n",
              "      <th>CONDITIONAL APPROVAL</th>\n",
              "      <th>LICENSE APPROVED FOR ISSUANCE</th>\n",
              "      <th>SSA</th>\n",
              "      <th>LICENSE STATUS</th>\n",
              "      <th>PAYMENT YEAR</th>\n",
              "      <th>APPLICATION REQUIREMENTS COMPLETE YEAR</th>\n",
              "      <th>DATE ISSUED YEAR</th>\n",
              "      <th>LICENSE TERM EXPIRATION YEAR</th>\n",
              "      <th>LICENSE TERM START YEAR</th>\n",
              "      <th>LICENSE VALIDITY</th>\n",
              "      <th>LICENSE APPROVED YEAR</th>\n",
              "    </tr>\n",
              "  </thead>\n",
              "  <tbody>\n",
              "    <tr>\n",
              "      <th>0</th>\n",
              "      <td>32811</td>\n",
              "      <td>1</td>\n",
              "      <td>CARMEN CAHUE</td>\n",
              "      <td>CLAUDIA'S BRIDAL SHOP</td>\n",
              "      <td>CHICAGO</td>\n",
              "      <td>60623.0</td>\n",
              "      <td>22.0</td>\n",
              "      <td>28.0</td>\n",
              "      <td>10.0</td>\n",
              "      <td>1010</td>\n",
              "      <td>Limited Business License</td>\n",
              "      <td>RENEW</td>\n",
              "      <td>N</td>\n",
              "      <td>2002-08-21</td>\n",
              "      <td>25.0</td>\n",
              "      <td>AAI</td>\n",
              "      <td>2002.0</td>\n",
              "      <td>2002.0</td>\n",
              "      <td>2006</td>\n",
              "      <td>2003.0</td>\n",
              "      <td>2002.0</td>\n",
              "      <td>1.0</td>\n",
              "      <td>2002.0</td>\n",
              "    </tr>\n",
              "    <tr>\n",
              "      <th>1</th>\n",
              "      <td>262311</td>\n",
              "      <td>29</td>\n",
              "      <td>ISLA TROPICAL, INC.</td>\n",
              "      <td>ISLA TROPICAL</td>\n",
              "      <td>CHICAGO</td>\n",
              "      <td>60618</td>\n",
              "      <td>33.0</td>\n",
              "      <td>23.0</td>\n",
              "      <td>17.0</td>\n",
              "      <td>1315</td>\n",
              "      <td>Mobile Food Dispenser</td>\n",
              "      <td>RENEW</td>\n",
              "      <td>N</td>\n",
              "      <td>2006-04-05</td>\n",
              "      <td>60.0</td>\n",
              "      <td>AAC</td>\n",
              "      <td>2005.0</td>\n",
              "      <td>2005.0</td>\n",
              "      <td>2006</td>\n",
              "      <td>2006.0</td>\n",
              "      <td>2005.0</td>\n",
              "      <td>1.0</td>\n",
              "      <td>2006.0</td>\n",
              "    </tr>\n",
              "    <tr>\n",
              "      <th>2</th>\n",
              "      <td>345008</td>\n",
              "      <td>1</td>\n",
              "      <td>DJS REMODELING</td>\n",
              "      <td>DJS REMODELING, INC.</td>\n",
              "      <td>HIGHLAND</td>\n",
              "      <td>60035</td>\n",
              "      <td>NaN</td>\n",
              "      <td>NaN</td>\n",
              "      <td>NaN</td>\n",
              "      <td>1011</td>\n",
              "      <td>Home Repair</td>\n",
              "      <td>ISSUE</td>\n",
              "      <td>N</td>\n",
              "      <td>2009-07-22</td>\n",
              "      <td>NaN</td>\n",
              "      <td>AAI</td>\n",
              "      <td>2009.0</td>\n",
              "      <td>2009.0</td>\n",
              "      <td>2009</td>\n",
              "      <td>2011.0</td>\n",
              "      <td>2009.0</td>\n",
              "      <td>2.0</td>\n",
              "      <td>2009.0</td>\n",
              "    </tr>\n",
              "    <tr>\n",
              "      <th>3</th>\n",
              "      <td>273121</td>\n",
              "      <td>1</td>\n",
              "      <td>ALL-BRY CONSTRUCTION CO.</td>\n",
              "      <td>ALL-BRY CONSTRUCTION CO.</td>\n",
              "      <td>LEMONT</td>\n",
              "      <td>60439</td>\n",
              "      <td>NaN</td>\n",
              "      <td>NaN</td>\n",
              "      <td>NaN</td>\n",
              "      <td>1010</td>\n",
              "      <td>Limited Business License</td>\n",
              "      <td>ISSUE</td>\n",
              "      <td>N</td>\n",
              "      <td>2004-02-10</td>\n",
              "      <td>NaN</td>\n",
              "      <td>AAI</td>\n",
              "      <td>2004.0</td>\n",
              "      <td>2004.0</td>\n",
              "      <td>2004</td>\n",
              "      <td>2005.0</td>\n",
              "      <td>2004.0</td>\n",
              "      <td>1.0</td>\n",
              "      <td>2004.0</td>\n",
              "    </tr>\n",
              "    <tr>\n",
              "      <th>4</th>\n",
              "      <td>213785</td>\n",
              "      <td>1</td>\n",
              "      <td>MCDONOUGH MECHANICAL SERVICE</td>\n",
              "      <td>MCDONOUGH MECHANICAL SERVICE</td>\n",
              "      <td>WAUKEGAN</td>\n",
              "      <td>60087</td>\n",
              "      <td>NaN</td>\n",
              "      <td>NaN</td>\n",
              "      <td>NaN</td>\n",
              "      <td>1010</td>\n",
              "      <td>Limited Business License</td>\n",
              "      <td>RENEW</td>\n",
              "      <td>N</td>\n",
              "      <td>2008-06-04</td>\n",
              "      <td>NaN</td>\n",
              "      <td>AAI</td>\n",
              "      <td>2008.0</td>\n",
              "      <td>2008.0</td>\n",
              "      <td>2008</td>\n",
              "      <td>2010.0</td>\n",
              "      <td>2008.0</td>\n",
              "      <td>2.0</td>\n",
              "      <td>2008.0</td>\n",
              "    </tr>\n",
              "  </tbody>\n",
              "</table>\n",
              "</div>\n",
              "      <button class=\"colab-df-convert\" onclick=\"convertToInteractive('df-42c5756d-425c-4719-940c-379788aeb961')\"\n",
              "              title=\"Convert this dataframe to an interactive table.\"\n",
              "              style=\"display:none;\">\n",
              "        \n",
              "  <svg xmlns=\"http://www.w3.org/2000/svg\" height=\"24px\"viewBox=\"0 0 24 24\"\n",
              "       width=\"24px\">\n",
              "    <path d=\"M0 0h24v24H0V0z\" fill=\"none\"/>\n",
              "    <path d=\"M18.56 5.44l.94 2.06.94-2.06 2.06-.94-2.06-.94-.94-2.06-.94 2.06-2.06.94zm-11 1L8.5 8.5l.94-2.06 2.06-.94-2.06-.94L8.5 2.5l-.94 2.06-2.06.94zm10 10l.94 2.06.94-2.06 2.06-.94-2.06-.94-.94-2.06-.94 2.06-2.06.94z\"/><path d=\"M17.41 7.96l-1.37-1.37c-.4-.4-.92-.59-1.43-.59-.52 0-1.04.2-1.43.59L10.3 9.45l-7.72 7.72c-.78.78-.78 2.05 0 2.83L4 21.41c.39.39.9.59 1.41.59.51 0 1.02-.2 1.41-.59l7.78-7.78 2.81-2.81c.8-.78.8-2.07 0-2.86zM5.41 20L4 18.59l7.72-7.72 1.47 1.35L5.41 20z\"/>\n",
              "  </svg>\n",
              "      </button>\n",
              "      \n",
              "  <style>\n",
              "    .colab-df-container {\n",
              "      display:flex;\n",
              "      flex-wrap:wrap;\n",
              "      gap: 12px;\n",
              "    }\n",
              "\n",
              "    .colab-df-convert {\n",
              "      background-color: #E8F0FE;\n",
              "      border: none;\n",
              "      border-radius: 50%;\n",
              "      cursor: pointer;\n",
              "      display: none;\n",
              "      fill: #1967D2;\n",
              "      height: 32px;\n",
              "      padding: 0 0 0 0;\n",
              "      width: 32px;\n",
              "    }\n",
              "\n",
              "    .colab-df-convert:hover {\n",
              "      background-color: #E2EBFA;\n",
              "      box-shadow: 0px 1px 2px rgba(60, 64, 67, 0.3), 0px 1px 3px 1px rgba(60, 64, 67, 0.15);\n",
              "      fill: #174EA6;\n",
              "    }\n",
              "\n",
              "    [theme=dark] .colab-df-convert {\n",
              "      background-color: #3B4455;\n",
              "      fill: #D2E3FC;\n",
              "    }\n",
              "\n",
              "    [theme=dark] .colab-df-convert:hover {\n",
              "      background-color: #434B5C;\n",
              "      box-shadow: 0px 1px 3px 1px rgba(0, 0, 0, 0.15);\n",
              "      filter: drop-shadow(0px 1px 2px rgba(0, 0, 0, 0.3));\n",
              "      fill: #FFFFFF;\n",
              "    }\n",
              "  </style>\n",
              "\n",
              "      <script>\n",
              "        const buttonEl =\n",
              "          document.querySelector('#df-42c5756d-425c-4719-940c-379788aeb961 button.colab-df-convert');\n",
              "        buttonEl.style.display =\n",
              "          google.colab.kernel.accessAllowed ? 'block' : 'none';\n",
              "\n",
              "        async function convertToInteractive(key) {\n",
              "          const element = document.querySelector('#df-42c5756d-425c-4719-940c-379788aeb961');\n",
              "          const dataTable =\n",
              "            await google.colab.kernel.invokeFunction('convertToInteractive',\n",
              "                                                     [key], {});\n",
              "          if (!dataTable) return;\n",
              "\n",
              "          const docLinkHtml = 'Like what you see? Visit the ' +\n",
              "            '<a target=\"_blank\" href=https://colab.research.google.com/notebooks/data_table.ipynb>data table notebook</a>'\n",
              "            + ' to learn more about interactive tables.';\n",
              "          element.innerHTML = '';\n",
              "          dataTable['output_type'] = 'display_data';\n",
              "          await google.colab.output.renderOutput(dataTable, element);\n",
              "          const docLink = document.createElement('div');\n",
              "          docLink.innerHTML = docLinkHtml;\n",
              "          element.appendChild(docLink);\n",
              "        }\n",
              "      </script>\n",
              "    </div>\n",
              "  </div>\n",
              "  "
            ]
          },
          "metadata": {},
          "execution_count": 219
        }
      ]
    },
    {
      "cell_type": "code",
      "source": [
        "train.isna().sum()"
      ],
      "metadata": {
        "colab": {
          "base_uri": "https://localhost:8080/"
        },
        "id": "4yje-1KEZzs6",
        "outputId": "a1f1ac1f-acb6-4cff-e550-fd58d4ad7ca2"
      },
      "execution_count": null,
      "outputs": [
        {
          "output_type": "execute_result",
          "data": {
            "text/plain": [
              "ACCOUNT NUMBER                                0\n",
              "SITE NUMBER                                   0\n",
              "LEGAL NAME                                    0\n",
              "DOING BUSINESS AS NAME                        1\n",
              "CITY                                          0\n",
              "ZIP CODE                                     31\n",
              "WARD                                      49701\n",
              "PRECINCT                                  56701\n",
              "POLICE DISTRICT                           54012\n",
              "LICENSE CODE                                  0\n",
              "LICENSE DESCRIPTION                           0\n",
              "APPLICATION TYPE                              0\n",
              "CONDITIONAL APPROVAL                          0\n",
              "LICENSE APPROVED FOR ISSUANCE              6789\n",
              "SSA                                       76446\n",
              "LICENSE STATUS                                0\n",
              "PAYMENT YEAR                               1289\n",
              "APPLICATION REQUIREMENTS COMPLETE YEAR      214\n",
              "DATE ISSUED YEAR                              0\n",
              "LICENSE TERM EXPIRATION YEAR                 18\n",
              "LICENSE TERM START YEAR                     228\n",
              "LICENSE VALIDITY                            228\n",
              "LICENSE APPROVED YEAR                      6789\n",
              "dtype: int64"
            ]
          },
          "metadata": {},
          "execution_count": 220
        }
      ]
    },
    {
      "cell_type": "code",
      "source": [
        ""
      ],
      "metadata": {
        "id": "H3IdWNsWM8cs"
      },
      "execution_count": null,
      "outputs": []
    },
    {
      "cell_type": "code",
      "source": [
        "test.isna().sum()"
      ],
      "metadata": {
        "colab": {
          "base_uri": "https://localhost:8080/"
        },
        "id": "FcCKrLDqaERp",
        "outputId": "0b9faf2e-76fb-4333-d3be-71c46bf668b7"
      },
      "execution_count": null,
      "outputs": [
        {
          "output_type": "execute_result",
          "data": {
            "text/plain": [
              "ACCOUNT NUMBER                                0\n",
              "SITE NUMBER                                   0\n",
              "LEGAL NAME                                    0\n",
              "DOING BUSINESS AS NAME                        2\n",
              "CITY                                          0\n",
              "ZIP CODE                                     12\n",
              "WARD                                        626\n",
              "PRECINCT                                   1578\n",
              "POLICE DISTRICT                            1475\n",
              "LICENSE CODE                                  0\n",
              "LICENSE DESCRIPTION                           0\n",
              "APPLICATION TYPE                              0\n",
              "CONDITIONAL APPROVAL                          0\n",
              "LICENSE APPROVED FOR ISSUANCE              2379\n",
              "SSA                                       41331\n",
              "PAYMENT YEAR                               1051\n",
              "APPLICATION REQUIREMENTS COMPLETE YEAR      428\n",
              "DATE ISSUED YEAR                              0\n",
              "LICENSE TERM EXPIRATION YEAR                  6\n",
              "LICENSE TERM START YEAR                     118\n",
              "LICENSE VALIDITY                            118\n",
              "LICENSE APPROVED YEAR                      2379\n",
              "dtype: int64"
            ]
          },
          "metadata": {},
          "execution_count": 221
        }
      ]
    },
    {
      "cell_type": "code",
      "source": [
        "train['DOING BUSINESS AS NAME']=train['DOING BUSINESS AS NAME'].fillna('None')\n",
        "test['DOING BUSINESS AS NAME']=test['DOING BUSINESS AS NAME'].fillna('None')"
      ],
      "metadata": {
        "id": "5J6LFu0YZ2-W"
      },
      "execution_count": null,
      "outputs": []
    },
    {
      "cell_type": "code",
      "source": [
        "train['DOING BUSINESS AS NAME'].apply(lambda x: x.upper())\n",
        "test['LEGAL NAME'].apply(lambda x: x.upper())"
      ],
      "metadata": {
        "colab": {
          "base_uri": "https://localhost:8080/"
        },
        "id": "oqxKDjrNaM5c",
        "outputId": "f1b2e787-ea89-4cad-bc1e-f55d67501295"
      },
      "execution_count": null,
      "outputs": [
        {
          "output_type": "execute_result",
          "data": {
            "text/plain": [
              "0                           RS HOMES I LLC\n",
              "1                       CSX INTERMODAL INC\n",
              "2                    LOCOMIBILE  LOFTS LLC\n",
              "3                          ANNA F. JAMISON\n",
              "4                   MARINCA A. COVARRUBIAS\n",
              "                       ...                \n",
              "57234    GOODHEALTH MEDICAL PRODUCTS, INC.\n",
              "57235                        INTERPARK LLC\n",
              "57236                        YUN HEE HWANG\n",
              "57237         D. C. A. TOWING INCORPORATED\n",
              "57238                        MARIA T BEDOY\n",
              "Name: LEGAL NAME, Length: 57239, dtype: object"
            ]
          },
          "metadata": {},
          "execution_count": 223
        }
      ]
    },
    {
      "cell_type": "code",
      "source": [
        "test['DOING BUSINESS AS NAME'].apply(lambda x: x.upper())\n",
        "test['LEGAL NAME'].apply(lambda x: x.upper())"
      ],
      "metadata": {
        "colab": {
          "base_uri": "https://localhost:8080/"
        },
        "id": "5eOxJnQOaSue",
        "outputId": "1f134f68-c1c4-4e32-b0f1-32a30b6eb1eb"
      },
      "execution_count": null,
      "outputs": [
        {
          "output_type": "execute_result",
          "data": {
            "text/plain": [
              "0                           RS HOMES I LLC\n",
              "1                       CSX INTERMODAL INC\n",
              "2                    LOCOMIBILE  LOFTS LLC\n",
              "3                          ANNA F. JAMISON\n",
              "4                   MARINCA A. COVARRUBIAS\n",
              "                       ...                \n",
              "57234    GOODHEALTH MEDICAL PRODUCTS, INC.\n",
              "57235                        INTERPARK LLC\n",
              "57236                        YUN HEE HWANG\n",
              "57237         D. C. A. TOWING INCORPORATED\n",
              "57238                        MARIA T BEDOY\n",
              "Name: LEGAL NAME, Length: 57239, dtype: object"
            ]
          },
          "metadata": {},
          "execution_count": 224
        }
      ]
    },
    {
      "cell_type": "code",
      "source": [
        "train['LEGAL NAME'].value_counts()"
      ],
      "metadata": {
        "colab": {
          "base_uri": "https://localhost:8080/"
        },
        "id": "BtBI2ZUtayDc",
        "outputId": "7e51f832-98cb-4aa7-fc6a-d31a47d059bf"
      },
      "execution_count": null,
      "outputs": [
        {
          "output_type": "execute_result",
          "data": {
            "text/plain": [
              "WASTE MANAGEMENT OF ILLINOIS INC.         689\n",
              "GROOT RECYCLING & WASTE SERVICES, INC.    164\n",
              "SUPREME  CATERING COMPANY                  94\n",
              "STARBUCKS CORPORATION                      87\n",
              "ALLIED WASTE TRANSPORTATION INC.           82\n",
              "                                         ... \n",
              "THOMAS MANAGEMENT ASSOCIATE                 1\n",
              "P R S CONSTRUCTION, INC.                    1\n",
              "CARNICERIA LA GLORIA NO 2, INC.             1\n",
              "ELEUTERIO PEREZ                             1\n",
              "JOSEPH M MINICK                             1\n",
              "Name: LEGAL NAME, Length: 38744, dtype: int64"
            ]
          },
          "metadata": {},
          "execution_count": 225
        }
      ]
    },
    {
      "cell_type": "code",
      "source": [
        "train['LEGAL NAME']=train['LEGAL NAME'].str.replace('.', '', regex=False)\n",
        "train['DOING BUSINESS AS NAME']=train['DOING BUSINESS AS NAME'].str.replace('.', '', regex=False)"
      ],
      "metadata": {
        "id": "Lfnk_Q98afKj"
      },
      "execution_count": null,
      "outputs": []
    },
    {
      "cell_type": "code",
      "source": [
        "test['LEGAL NAME']=test['LEGAL NAME'].str.replace('.', '', regex=False)\n",
        "test['DOING BUSINESS AS NAME']=test['DOING BUSINESS AS NAME'].str.replace('.', '', regex=False)"
      ],
      "metadata": {
        "id": "shzEEBYTawdL"
      },
      "execution_count": null,
      "outputs": []
    },
    {
      "cell_type": "code",
      "source": [
        "train['LICENSE DESCRIPTION'].unique()"
      ],
      "metadata": {
        "colab": {
          "base_uri": "https://localhost:8080/"
        },
        "id": "YoLcCl2nbYhb",
        "outputId": "984e59cb-642c-4dfd-a019-6948013b2321"
      },
      "execution_count": null,
      "outputs": [
        {
          "output_type": "execute_result",
          "data": {
            "text/plain": [
              "array(['Limited Business License', 'Mobile Food Dispenser', 'Home Repair',\n",
              "       'Motor Vehicle Repair : Engine Only (Class II)',\n",
              "       'Kennels and Catteries', 'Hazardous Materials',\n",
              "       'Retail Food Establishment', 'Automatic Amusement Device Operator',\n",
              "       'Home Occupation', 'Peddler, food (fruits and vegtables only)',\n",
              "       'Music and Dance', 'Street Performer', 'Peddler, non-food',\n",
              "       'Body Piercing', 'Massage Therapist', 'Veterinary Hospital',\n",
              "       'Auctioneer', 'Broker', 'Residential Real Estate Developer',\n",
              "       'Electronic Equipment Repair', 'Filling Station',\n",
              "       'Valet Parking Operator', 'Scavenger, Private',\n",
              "       'Repossessor Class B Employee', 'Tavern',\n",
              "       'Mobile Frozen Desserts Dispenser - Non-Motorized',\n",
              "       'Peddler,food - (fruits and vegetables only) - special',\n",
              "       'Peddler, non-food, special', 'Grooming Facility', 'Package Goods',\n",
              "       'Motor Vehicle Repair; Specialty(Class I)',\n",
              "       'Retail Computing Center',\n",
              "       'Consumption on Premises - Incidental Activity', 'Outdoor Patio',\n",
              "       'Junk Peddler', 'Manufacturing Establishments',\n",
              "       'Tobacco Dealer Wholesale', 'Tobacco Vending, Individual',\n",
              "       'Laundry, Late Hour', 'Tire Facilty Class I (100 - 1,000 Tires)',\n",
              "       'Pet Shop', 'Bed-And-Breakfast Establishment',\n",
              "       'Motor Vehicle Repair: Engine/Body(Class III)',\n",
              "       'Massage Establishment', 'Animal Exhibition',\n",
              "       'Day Care Center 2 - 6 Years',\n",
              "       'Tire Facility Class II (1,001 - 5,000 Tires)',\n",
              "       \"Caterer's Liquor License\", 'Expediter - Class B Employee',\n",
              "       'Laboratories', 'Animal Care Facility',\n",
              "       'Day Care Center Under 2 Years',\n",
              "       'Day Care Center Under 2 and 2 - 6 Years', 'Expediter - Class A',\n",
              "       'Single Room Occupancy Class II', 'Long-Term Care Facility',\n",
              "       'Repossessor Class A', 'Board-Up Work',\n",
              "       'Wholesale Food Establishment', 'Raffles',\n",
              "       'Single Room Occupancy Class I', 'Vacation Rental',\n",
              "       'Public Place of Amusement', \"Children's Activities Facilities\",\n",
              "       'Day Labor Agency', 'Navy Pier - Outdoor Fixed', 'Humane Society',\n",
              "       'Retail Food Est.-Supplemental License for Dog-Friendly Areas',\n",
              "       'Accessory Garage', 'Tobacco Vending Machine Operator',\n",
              "       'Affiliation', 'Tire Facility Class III (5,001 - More Tires)',\n",
              "       'Itinerant Merchant, Class I', 'Hotel', 'Hospital', 'Late Hour',\n",
              "       'Public Place of Amusement-TCC', 'Expediter - Class B',\n",
              "       'Produce Merchant', 'Navy Pier Vendor (Non-Food)',\n",
              "       'Guard Dog Service', 'Explosives, Certificate of Fitness',\n",
              "       'Wrigley Field', \"Airport Pushcart Liquor O'Hare - Class A\",\n",
              "       'Repossessor Class B', 'Riverwalk Venue Liquor License',\n",
              "       'Assisted Living/Shared Housing Establishment',\n",
              "       'Itinerant Merchant, Class II', 'Performing Arts Venue',\n",
              "       'Bicycle Messenger Service',\n",
              "       'Secondhand Dealer (No Valuable Objects)', 'Night Care Privilege',\n",
              "       'Pawnbroker', \"Secondhand Dealer - Children's Products\",\n",
              "       'Explosives', 'Tobacco Sampler', \"Caterer's Registration (Liquor)\",\n",
              "       'Regulated Business License', 'Navy Pier - Mobile',\n",
              "       'Indoor Special Event', 'Private Booting Operation',\n",
              "       'Weapons Dealer', 'Animal Care License',\n",
              "       'Airport Pushcart Liquor Midway - Class A', 'Not-For-Profit Club',\n",
              "       'Motor Vehicle Services License'], dtype=object)"
            ]
          },
          "metadata": {},
          "execution_count": 228
        }
      ]
    },
    {
      "cell_type": "code",
      "source": [
        "test['LICENSE DESCRIPTION'].unique()"
      ],
      "metadata": {
        "colab": {
          "base_uri": "https://localhost:8080/"
        },
        "id": "laA_Muo22BaN",
        "outputId": "46167d7a-a11c-4278-e2f4-5f6c1ad7a711"
      },
      "execution_count": null,
      "outputs": [
        {
          "output_type": "execute_result",
          "data": {
            "text/plain": [
              "array(['Residential Real Estate Developer', 'Limited Business License',\n",
              "       'Peddler, non-food, special', 'Hazardous Materials', 'Home Repair',\n",
              "       'Secondhand Dealer',\n",
              "       'Motor Vehicle Repair : Engine Only (Class II)',\n",
              "       'Commercial Garage', 'Day Care Center Under 2 and 2 - 6 Years',\n",
              "       'Peddler, non-food', 'Explosives, Certificate of Fitness',\n",
              "       'Peddler,food - (fruits and vegetables only) - special',\n",
              "       'Valet Parking Operator', 'Regulated Business License',\n",
              "       'Kennels and Catteries', 'Broker', 'Home Occupation',\n",
              "       'Manufacturing Establishments', 'Tobacco',\n",
              "       'Retail Food Establishment', 'Hotel', 'Public Place of Amusement',\n",
              "       'Motor Vehicle Repair: Engine/Body(Class III)', 'Board-Up Work',\n",
              "       'Long-Term Care Facility', 'Veterinary Hospital',\n",
              "       'Day Care Center 2 - 6 Years', 'Scavenger, Private',\n",
              "       'Mobile Food Dispenser', 'Electronic Equipment Repair', 'Tavern',\n",
              "       'Shared Housing Unit Operator',\n",
              "       'Mobile Frozen Desserts Dispenser - Non-Motorized',\n",
              "       'Consumption on Premises - Incidental Activity',\n",
              "       'Massage Establishment',\n",
              "       'Peddler, food (fruits and vegtables only)', 'Massage Therapist',\n",
              "       'Package Goods', 'Motor Vehicle Repair; Specialty(Class I)',\n",
              "       'Secondhand Dealer (No Valuable Objects)',\n",
              "       'Itinerant Merchant, Class I', 'Bed-And-Breakfast Establishment',\n",
              "       'Grooming Facility', 'Animal Care Facility',\n",
              "       \"Children's Services Facility License\", 'Street Performer',\n",
              "       'Outdoor Patio', \"Caterer's Liquor License\",\n",
              "       'Tire Facilty Class I (100 - 1,000 Tires)',\n",
              "       'Tire Facility Class III (5,001 - More Tires)',\n",
              "       'Expediter - Class A', 'Performing Arts Venue',\n",
              "       'Expediter - Class B Employee', 'Retail Computing Center',\n",
              "       'Tobacco Vending, Individual',\n",
              "       'Automatic Amusement Device Operator',\n",
              "       'Repossessor Class B Employee', 'Single Room Occupancy Class II',\n",
              "       'Peddler License',\n",
              "       'Retail Food Est.-Supplemental License for Dog-Friendly Areas',\n",
              "       'Music and Dance', 'Accessory Garage',\n",
              "       'Industrial Private Event Venue', 'Raffles', 'Animal Care License',\n",
              "       'Tobacco Dealer Wholesale', 'Day Labor Agency', 'Laboratories',\n",
              "       'Motor Vehicle Services License', 'Late Hour',\n",
              "       'Expediter - Class B', 'Pet Shop', 'Body Piercing',\n",
              "       'Wholesale Food Establishment', 'Wrigley Field', 'Filling Station',\n",
              "       'Explosives', 'Auctioneer', 'Single Room Occupancy Class I',\n",
              "       'Not-For-Profit Club', 'Night Care Privilege',\n",
              "       'Laundry, Late Hour', 'Mobile Food License',\n",
              "       'Itinerant Merchant, Class II',\n",
              "       \"Secondhand Dealer - Children's Products\",\n",
              "       'Day Care Center Under 2 Years', 'Junk Peddler',\n",
              "       \"Children's Activities Facilities\",\n",
              "       'Tire Facility Class II (1,001 - 5,000 Tires)',\n",
              "       \"Caterer's Registration (Liquor)\", 'Emerging Business', 'Hospital',\n",
              "       'Pharmaceutical Representative', 'Humane Society',\n",
              "       'Special Event Food', 'Vacation Rental', 'Shared Kitchen User',\n",
              "       'Navy Pier Vendor (Non-Food)', 'Class A - Indoor Special Event',\n",
              "       'Food - Shared Kitchen - Supplemental', 'Animal Exhibition',\n",
              "       'Produce Merchant', 'Navy Pier - Outdoor Fixed',\n",
              "       'Private Booting Operation', 'License Broker',\n",
              "       'Special Event Liquor', 'Indoor Special Event', 'Weapons Dealer',\n",
              "       'Navy Pier Vendor (Food)', 'Pawnbroker',\n",
              "       'Public Place of Amusement-TCC', 'Liquor Airport Pushcart License',\n",
              "       'Transportation Network Provider', 'Tobacco Sampler',\n",
              "       'Assisted Living/Shared Housing Establishment',\n",
              "       'Navy Pier - Mobile', 'Taxicab Two-Way Dispatch Service License',\n",
              "       'Affiliation', 'License Manager', 'Bicycle Messenger Service',\n",
              "       'Food - Shared Kitchen', 'Repossessor Class A',\n",
              "       \"Airport Pushcart Liquor O'Hare - Class A\",\n",
              "       'Navy Pier Kiosk License'], dtype=object)"
            ]
          },
          "metadata": {},
          "execution_count": 229
        }
      ]
    },
    {
      "cell_type": "markdown",
      "source": [
        "Making description smaller to make more readable"
      ],
      "metadata": {
        "id": "0xoxZDSx1cL7"
      }
    },
    {
      "cell_type": "code",
      "source": [
        "train['LICENSE DESCRIPTION']=train['LICENSE DESCRIPTION'].replace('Motor Vehicle Repair : Engine Only (Class II)', 'Motor Vehicle Repair')\n",
        "train['LICENSE DESCRIPTION']=train['LICENSE DESCRIPTION'].replace('Motor Vehicle Repair: Engine/Body(Class III)', 'Motor Vehicle Repair')\n",
        "train['LICENSE DESCRIPTION']=train['LICENSE DESCRIPTION'].replace('Motor Vehicle Repair; Specialty(Class I)', 'Motor Vehicle Repair')\n",
        "train['LICENSE DESCRIPTION']=train['LICENSE DESCRIPTION'].replace('Day Care Center Under 2 Years', 'Day Care Center')\n",
        "train['LICENSE DESCRIPTION']=train['LICENSE DESCRIPTION'].replace('Day Care Center 2 - 6 Years', 'Day Care Center')\n",
        "train['LICENSE DESCRIPTION']=train['LICENSE DESCRIPTION'].replace('Day Care Center Under 2 and 2 - 6 Years', 'Day Care Center')\n",
        "train['LICENSE DESCRIPTION']=train['LICENSE DESCRIPTION'].replace('Peddler, non-food', 'Peddler')\n",
        "train['LICENSE DESCRIPTION']=train['LICENSE DESCRIPTION'].replace('Peddler, non-food, special', 'Peddler')\n",
        "train['LICENSE DESCRIPTION']=train['LICENSE DESCRIPTION'].replace('Peddler, food (fruits and vegtables only)', 'Peddler')\n",
        "train['LICENSE DESCRIPTION']=train['LICENSE DESCRIPTION'].replace('Peddler,food - (fruits and vegetables only) - special', 'Peddler')\n",
        "train['LICENSE DESCRIPTION']=train['LICENSE DESCRIPTION'].replace('Tire Facilty Class I (100 - 1,000 Tires)', 'Tire Facilty')\n",
        "train['LICENSE DESCRIPTION']=train['LICENSE DESCRIPTION'].replace('Tire Facility Class II (1,001 - 5,000 Tires)', 'Tire Facilty')\n",
        "train['LICENSE DESCRIPTION']=train['LICENSE DESCRIPTION'].replace('Tire Facility Class III (5,001 - More Tires)', 'Tire Facilty')\n",
        "train['LICENSE DESCRIPTION']=train['LICENSE DESCRIPTION'].replace('Repossessor Class A', 'Repossessor')\n",
        "train['LICENSE DESCRIPTION']=train['LICENSE DESCRIPTION'].replace('Repossessor Class B', 'Repossessor')\n",
        "train['LICENSE DESCRIPTION']=train['LICENSE DESCRIPTION'].replace('Repossessor Class B Employee', 'Repossessor')\n",
        "train['LICENSE DESCRIPTION']=train['LICENSE DESCRIPTION'].replace('Expediter - Class B', 'Expediter')\n",
        "train['LICENSE DESCRIPTION']=train['LICENSE DESCRIPTION'].replace('Expediter - Class A', 'Expediter')\n",
        "train['LICENSE DESCRIPTION']=train['LICENSE DESCRIPTION'].replace('Expediter - Class B Employee', 'Expediter')\n",
        "train['LICENSE DESCRIPTION']=train['LICENSE DESCRIPTION'].replace('Itinerant Merchant, Class II', 'Itinerant Merchant')\n",
        "train['LICENSE DESCRIPTION']=train['LICENSE DESCRIPTION'].replace('Itinerant Merchant, Class I', 'Itinerant Merchant')\n",
        "train['LICENSE DESCRIPTION'].value_counts()\n"
      ],
      "metadata": {
        "colab": {
          "base_uri": "https://localhost:8080/"
        },
        "id": "x4PWoErUbssn",
        "outputId": "18d05ca2-36f7-4491-c153-1b03b3e95bcf"
      },
      "execution_count": null,
      "outputs": [
        {
          "output_type": "execute_result",
          "data": {
            "text/plain": [
              "Limited Business License                                        50078\n",
              "Home Repair                                                     10633\n",
              "Peddler                                                          3782\n",
              "Home Occupation                                                  2809\n",
              "Retail Food Establishment                                        2321\n",
              "Massage Therapist                                                1952\n",
              "Street Performer                                                 1889\n",
              "Scavenger, Private                                               1549\n",
              "Motor Vehicle Repair                                             1534\n",
              "Hazardous Materials                                              1126\n",
              "Residential Real Estate Developer                                1087\n",
              "Automatic Amusement Device Operator                               773\n",
              "Mobile Food Dispenser                                             525\n",
              "Day Care Center                                                   522\n",
              "Manufacturing Establishments                                      458\n",
              "Broker                                                            439\n",
              "Electronic Equipment Repair                                       325\n",
              "Consumption on Premises - Incidental Activity                     321\n",
              "Repossessor                                                       306\n",
              "Mobile Frozen Desserts Dispenser - Non-Motorized                  254\n",
              "Expediter                                                         221\n",
              "Tire Facilty                                                      194\n",
              "Package Goods                                                     174\n",
              "Auctioneer                                                        164\n",
              "Tavern                                                            151\n",
              "Junk Peddler                                                      132\n",
              "Hotel                                                             130\n",
              "Wholesale Food Establishment                                      127\n",
              "Massage Establishment                                             111\n",
              "Retail Computing Center                                           106\n",
              "Kennels and Catteries                                              96\n",
              "Board-Up Work                                                      92\n",
              "Public Place of Amusement                                          79\n",
              "Children's Activities Facilities                                   78\n",
              "Long-Term Care Facility                                            76\n",
              "Laundry, Late Hour                                                 75\n",
              "Music and Dance                                                    75\n",
              "Tobacco Vending Machine Operator                                   72\n",
              "Grooming Facility                                                  69\n",
              "Pet Shop                                                           62\n",
              "Navy Pier - Outdoor Fixed                                          62\n",
              "Animal Care Facility                                               61\n",
              "Filling Station                                                    61\n",
              "Vacation Rental                                                    54\n",
              "Veterinary Hospital                                                52\n",
              "Body Piercing                                                      52\n",
              "Single Room Occupancy Class I                                      49\n",
              "Late Hour                                                          41\n",
              "Itinerant Merchant                                                 41\n",
              "Raffles                                                            41\n",
              "Navy Pier Vendor (Non-Food)                                        40\n",
              "Outdoor Patio                                                      31\n",
              "Hospital                                                           29\n",
              "Day Labor Agency                                                   26\n",
              "Tobacco Vending, Individual                                        23\n",
              "Laboratories                                                       22\n",
              "Animal Exhibition                                                  22\n",
              "Night Care Privilege                                               21\n",
              "Tobacco Dealer Wholesale                                           18\n",
              "Accessory Garage                                                   17\n",
              "Bed-And-Breakfast Establishment                                    16\n",
              "Single Room Occupancy Class II                                     15\n",
              "Retail Food Est.-Supplemental License for Dog-Friendly Areas       15\n",
              "Riverwalk Venue Liquor License                                      9\n",
              "Explosives, Certificate of Fitness                                  9\n",
              "Humane Society                                                      8\n",
              "Caterer's Liquor License                                            8\n",
              "Produce Merchant                                                    8\n",
              "Valet Parking Operator                                              7\n",
              "Public Place of Amusement-TCC                                       7\n",
              "Secondhand Dealer - Children's Products                             6\n",
              "Bicycle Messenger Service                                           5\n",
              "Secondhand Dealer (No Valuable Objects)                             5\n",
              "Pawnbroker                                                          5\n",
              "Wrigley Field                                                       5\n",
              "Weapons Dealer                                                      4\n",
              "Animal Care License                                                 4\n",
              "Assisted Living/Shared Housing Establishment                        4\n",
              "Performing Arts Venue                                               4\n",
              "Regulated Business License                                          4\n",
              "Tobacco Sampler                                                     3\n",
              "Navy Pier - Mobile                                                  2\n",
              "Explosives                                                          2\n",
              "Private Booting Operation                                           2\n",
              "Not-For-Profit Club                                                 1\n",
              "Airport Pushcart Liquor Midway - Class A                            1\n",
              "Guard Dog Service                                                   1\n",
              "Indoor Special Event                                                1\n",
              "Caterer's Registration (Liquor)                                     1\n",
              "Affiliation                                                         1\n",
              "Airport Pushcart Liquor O'Hare - Class A                            1\n",
              "Motor Vehicle Services License                                      1\n",
              "Name: LICENSE DESCRIPTION, dtype: int64"
            ]
          },
          "metadata": {},
          "execution_count": 230
        }
      ]
    },
    {
      "cell_type": "code",
      "source": [
        "test['LICENSE DESCRIPTION']=test['LICENSE DESCRIPTION'].replace('Motor Vehicle Repair : Engine Only (Class II)', 'Motor Vehicle Repair')\n",
        "test['LICENSE DESCRIPTION']=test['LICENSE DESCRIPTION'].replace('Motor Vehicle Repair: Engine/Body(Class III)', 'Motor Vehicle Repair')\n",
        "test['LICENSE DESCRIPTION']=test['LICENSE DESCRIPTION'].replace('Motor Vehicle Repair; Specialty(Class I)', 'Motor Vehicle Repair')\n",
        "test['LICENSE DESCRIPTION']=test['LICENSE DESCRIPTION'].replace('Day Care Center Under 2 Years', 'Day Care Center')\n",
        "test['LICENSE DESCRIPTION']=test['LICENSE DESCRIPTION'].replace('Day Care Center 2 - 6 Years', 'Day Care Center')\n",
        "test['LICENSE DESCRIPTION']=test['LICENSE DESCRIPTION'].replace('Day Care Center Under 2 and 2 - 6 Years', 'Day Care Center')\n",
        "test['LICENSE DESCRIPTION']=test['LICENSE DESCRIPTION'].replace('Peddler, non-food', 'Peddler')\n",
        "test['LICENSE DESCRIPTION']=test['LICENSE DESCRIPTION'].replace('Peddler, non-food, special', 'Peddler')\n",
        "test['LICENSE DESCRIPTION']=test['LICENSE DESCRIPTION'].replace('Peddler, food (fruits and vegtables only)', 'Peddler')\n",
        "test['LICENSE DESCRIPTION']=test['LICENSE DESCRIPTION'].replace('Peddler,food - (fruits and vegetables only) - special', 'Peddler')\n",
        "test['LICENSE DESCRIPTION']=test['LICENSE DESCRIPTION'].replace('Tire Facilty Class I (100 - 1,000 Tires)', 'Tire Facilty')\n",
        "test['LICENSE DESCRIPTION']=test['LICENSE DESCRIPTION'].replace('Tire Facility Class II (1,001 - 5,000 Tires)', 'Tire Facilty')\n",
        "test['LICENSE DESCRIPTION']=test['LICENSE DESCRIPTION'].replace('Tire Facility Class III (5,001 - More Tires)', 'Tire Facilty')\n",
        "test['LICENSE DESCRIPTION']=test['LICENSE DESCRIPTION'].replace('Repossessor Class A', 'Repossessor')\n",
        "test['LICENSE DESCRIPTION']=test['LICENSE DESCRIPTION'].replace('Repossessor Class B', 'Repossessor')\n",
        "test['LICENSE DESCRIPTION']=test['LICENSE DESCRIPTION'].replace('Repossessor Class B Employee', 'Repossessor')\n",
        "test['LICENSE DESCRIPTION']=test['LICENSE DESCRIPTION'].replace('Expediter - Class B', 'Expediter')\n",
        "test['LICENSE DESCRIPTION']=test['LICENSE DESCRIPTION'].replace('Expediter - Class A', 'Expediter')\n",
        "test['LICENSE DESCRIPTION']=test['LICENSE DESCRIPTION'].replace('Expediter - Class B Employee', 'Expediter')\n",
        "test['LICENSE DESCRIPTION']=test['LICENSE DESCRIPTION'].replace('Itinerant Merchant, Class II', 'Itinerant Merchant')\n",
        "test['LICENSE DESCRIPTION']=test['LICENSE DESCRIPTION'].replace('Itinerant Merchant, Class I', 'Itinerant Merchant')\n",
        "test['LICENSE DESCRIPTION'].value_counts()\n"
      ],
      "metadata": {
        "colab": {
          "base_uri": "https://localhost:8080/"
        },
        "id": "krF92ydl1m67",
        "outputId": "163dbf25-a03c-49be-fb0e-1832d583178b"
      },
      "execution_count": null,
      "outputs": [
        {
          "output_type": "execute_result",
          "data": {
            "text/plain": [
              "Limited Business License                                        28094\n",
              "Retail Food Establishment                                        4788\n",
              "Home Occupation                                                  3021\n",
              "Tobacco                                                          2426\n",
              "Home Repair                                                      1860\n",
              "Motor Vehicle Repair                                             1746\n",
              "Peddler                                                          1208\n",
              "Consumption on Premises - Incidental Activity                    1207\n",
              "Hazardous Materials                                              1120\n",
              "Regulated Business License                                       1089\n",
              "Day Care Center                                                   730\n",
              "Manufacturing Establishments                                      639\n",
              "Massage Therapist                                                 569\n",
              "Broker                                                            498\n",
              "Residential Real Estate Developer                                 476\n",
              "Mobile Food Dispenser                                             413\n",
              "Massage Establishment                                             377\n",
              "Tavern                                                            367\n",
              "Electronic Equipment Repair                                       358\n",
              "Street Performer                                                  349\n",
              "Package Goods                                                     333\n",
              "Outdoor Patio                                                     294\n",
              "Commercial Garage                                                 293\n",
              "Tire Facilty                                                      258\n",
              "Public Place of Amusement                                         253\n",
              "Mobile Frozen Desserts Dispenser - Non-Motorized                  249\n",
              "Valet Parking Operator                                            219\n",
              "Accessory Garage                                                  210\n",
              "Scavenger, Private                                                188\n",
              "Secondhand Dealer                                                 172\n",
              "Wholesale Food Establishment                                      168\n",
              "Hotel                                                             162\n",
              "Late Hour                                                         161\n",
              "Music and Dance                                                   160\n",
              "Filling Station                                                   160\n",
              "Motor Vehicle Services License                                    137\n",
              "Retail Computing Center                                           116\n",
              "Secondhand Dealer (No Valuable Objects)                           114\n",
              "Peddler License                                                   111\n",
              "Expediter                                                         109\n",
              "Children's Services Facility License                              109\n",
              "Long-Term Care Facility                                           100\n",
              "Junk Peddler                                                       92\n",
              "Kennels and Catteries                                              91\n",
              "Laundry, Late Hour                                                 90\n",
              "Itinerant Merchant                                                 87\n",
              "Mobile Food License                                                85\n",
              "Veterinary Hospital                                                79\n",
              "Caterer's Liquor License                                           76\n",
              "Performing Arts Venue                                              74\n",
              "Animal Care Facility                                               74\n",
              "Children's Activities Facilities                                   73\n",
              "Explosives, Certificate of Fitness                                 69\n",
              "Single Room Occupancy Class I                                      58\n",
              "Pet Shop                                                           52\n",
              "Body Piercing                                                      50\n",
              "Raffles                                                            48\n",
              "Laboratories                                                       47\n",
              "Grooming Facility                                                  47\n",
              "Tobacco Dealer Wholesale                                           46\n",
              "Automatic Amusement Device Operator                                45\n",
              "Animal Care License                                                41\n",
              "Tobacco Vending, Individual                                        37\n",
              "Vacation Rental                                                    34\n",
              "Hospital                                                           34\n",
              "Day Labor Agency                                                   31\n",
              "Retail Food Est.-Supplemental License for Dog-Friendly Areas       23\n",
              "Auctioneer                                                         23\n",
              "Not-For-Profit Club                                                22\n",
              "Single Room Occupancy Class II                                     21\n",
              "Night Care Privilege                                               20\n",
              "Shared Kitchen User                                                20\n",
              "Caterer's Registration (Liquor)                                    19\n",
              "Bed-And-Breakfast Establishment                                    17\n",
              "Board-Up Work                                                      16\n",
              "Pharmaceutical Representative                                      15\n",
              "Navy Pier Vendor (Non-Food)                                        14\n",
              "Wrigley Field                                                      13\n",
              "Humane Society                                                     13\n",
              "Public Place of Amusement-TCC                                      13\n",
              "Animal Exhibition                                                  11\n",
              "Special Event Food                                                 10\n",
              "Food - Shared Kitchen - Supplemental                                9\n",
              "Pawnbroker                                                          9\n",
              "Secondhand Dealer - Children's Products                             7\n",
              "Special Event Liquor                                                7\n",
              "Produce Merchant                                                    5\n",
              "Industrial Private Event Venue                                      5\n",
              "Repossessor                                                         5\n",
              "Emerging Business                                                   5\n",
              "Tobacco Sampler                                                     4\n",
              "Navy Pier - Mobile                                                  4\n",
              "Weapons Dealer                                                      4\n",
              "Explosives                                                          4\n",
              "Navy Pier - Outdoor Fixed                                           4\n",
              "Liquor Airport Pushcart License                                     3\n",
              "Class A - Indoor Special Event                                      3\n",
              "Indoor Special Event                                                2\n",
              "License Broker                                                      2\n",
              "Navy Pier Vendor (Food)                                             2\n",
              "Assisted Living/Shared Housing Establishment                        2\n",
              "Taxicab Two-Way Dispatch Service License                            2\n",
              "Affiliation                                                         2\n",
              "Bicycle Messenger Service                                           1\n",
              "Food - Shared Kitchen                                               1\n",
              "Airport Pushcart Liquor O'Hare - Class A                            1\n",
              "Private Booting Operation                                           1\n",
              "License Manager                                                     1\n",
              "Transportation Network Provider                                     1\n",
              "Shared Housing Unit Operator                                        1\n",
              "Navy Pier Kiosk License                                             1\n",
              "Name: LICENSE DESCRIPTION, dtype: int64"
            ]
          },
          "metadata": {},
          "execution_count": 231
        }
      ]
    },
    {
      "cell_type": "code",
      "source": [
        "train['APPLICATION TYPE'].value_counts()"
      ],
      "metadata": {
        "colab": {
          "base_uri": "https://localhost:8080/"
        },
        "id": "_eCjwhoA1wRP",
        "outputId": "8c46e725-3e8a-4bd8-e72f-303c11fc50a9"
      },
      "execution_count": null,
      "outputs": [
        {
          "output_type": "execute_result",
          "data": {
            "text/plain": [
              "RENEW     61085\n",
              "ISSUE     23398\n",
              "C_LOC      1400\n",
              "C_CAPA        7\n",
              "C_EXPA        5\n",
              "Name: APPLICATION TYPE, dtype: int64"
            ]
          },
          "metadata": {},
          "execution_count": 232
        }
      ]
    },
    {
      "cell_type": "code",
      "source": [
        "train['CONDITIONAL APPROVAL'].value_counts()"
      ],
      "metadata": {
        "colab": {
          "base_uri": "https://localhost:8080/"
        },
        "id": "6i3-I2Iq2K0C",
        "outputId": "ff29a5e0-1221-4155-81a0-b920d790f422"
      },
      "execution_count": null,
      "outputs": [
        {
          "output_type": "execute_result",
          "data": {
            "text/plain": [
              "N    85877\n",
              "Y       18\n",
              "Name: CONDITIONAL APPROVAL, dtype: int64"
            ]
          },
          "metadata": {},
          "execution_count": 233
        }
      ]
    },
    {
      "cell_type": "code",
      "source": [
        "train.dtypes"
      ],
      "metadata": {
        "colab": {
          "base_uri": "https://localhost:8080/"
        },
        "id": "REwyxTmU2Plb",
        "outputId": "f1501336-32c7-4334-851b-f93b6f68e23d"
      },
      "execution_count": null,
      "outputs": [
        {
          "output_type": "execute_result",
          "data": {
            "text/plain": [
              "ACCOUNT NUMBER                                     int64\n",
              "SITE NUMBER                                        int64\n",
              "LEGAL NAME                                        object\n",
              "DOING BUSINESS AS NAME                            object\n",
              "CITY                                              object\n",
              "ZIP CODE                                          object\n",
              "WARD                                             float64\n",
              "PRECINCT                                         float64\n",
              "POLICE DISTRICT                                  float64\n",
              "LICENSE CODE                                       int64\n",
              "LICENSE DESCRIPTION                               object\n",
              "APPLICATION TYPE                                  object\n",
              "CONDITIONAL APPROVAL                              object\n",
              "LICENSE APPROVED FOR ISSUANCE             datetime64[ns]\n",
              "SSA                                              float64\n",
              "LICENSE STATUS                                    object\n",
              "PAYMENT YEAR                                     float64\n",
              "APPLICATION REQUIREMENTS COMPLETE YEAR           float64\n",
              "DATE ISSUED YEAR                                   int64\n",
              "LICENSE TERM EXPIRATION YEAR                     float64\n",
              "LICENSE TERM START YEAR                          float64\n",
              "LICENSE VALIDITY                                 float64\n",
              "LICENSE APPROVED YEAR                            float64\n",
              "dtype: object"
            ]
          },
          "metadata": {},
          "execution_count": 234
        }
      ]
    },
    {
      "cell_type": "code",
      "source": [
        "train['ZIP CODE'].isna().sum()"
      ],
      "metadata": {
        "colab": {
          "base_uri": "https://localhost:8080/"
        },
        "id": "FjXvfIKgAMDG",
        "outputId": "de9d3d82-c5fe-4b9c-a6a4-16b879c91ca1"
      },
      "execution_count": null,
      "outputs": [
        {
          "output_type": "execute_result",
          "data": {
            "text/plain": [
              "31"
            ]
          },
          "metadata": {},
          "execution_count": 235
        }
      ]
    },
    {
      "cell_type": "code",
      "source": [
        "train['ZIP CODE']=train['ZIP CODE'].fillna('None')\n",
        "test['ZIP CODE']=test['ZIP CODE'].fillna('None')"
      ],
      "metadata": {
        "id": "N6ydjaR_HpCp"
      },
      "execution_count": null,
      "outputs": []
    },
    {
      "cell_type": "code",
      "source": [
        "train['WARD']=train['WARD'].fillna(0)\n",
        "test['WARD']=test['WARD'].fillna(0)"
      ],
      "metadata": {
        "id": "GesBbktAHttc"
      },
      "execution_count": null,
      "outputs": []
    },
    {
      "cell_type": "code",
      "source": [
        "train['PRECINCT']=train['PRECINCT'].fillna(0)\n",
        "test['PRECINCT']=test['PRECINCT'].fillna(0)"
      ],
      "metadata": {
        "id": "0MmHGyc6H4ld"
      },
      "execution_count": null,
      "outputs": []
    },
    {
      "cell_type": "code",
      "source": [
        "train['POLICE DISTRICT']=train['POLICE DISTRICT'].fillna(0)\n",
        "test['POLICE DISTRICT']=test['POLICE DISTRICT'].fillna(0)"
      ],
      "metadata": {
        "id": "ug1zF89bIAKA"
      },
      "execution_count": null,
      "outputs": []
    },
    {
      "cell_type": "code",
      "source": [
        "train.isna().sum()"
      ],
      "metadata": {
        "colab": {
          "base_uri": "https://localhost:8080/"
        },
        "id": "xIQ723eGIKGR",
        "outputId": "f8baa45b-d4e0-4662-c7f5-681c8c045765"
      },
      "execution_count": null,
      "outputs": [
        {
          "output_type": "execute_result",
          "data": {
            "text/plain": [
              "ACCOUNT NUMBER                                0\n",
              "SITE NUMBER                                   0\n",
              "LEGAL NAME                                    0\n",
              "DOING BUSINESS AS NAME                        0\n",
              "CITY                                          0\n",
              "ZIP CODE                                      0\n",
              "WARD                                          0\n",
              "PRECINCT                                      0\n",
              "POLICE DISTRICT                               0\n",
              "LICENSE CODE                                  0\n",
              "LICENSE DESCRIPTION                           0\n",
              "APPLICATION TYPE                              0\n",
              "CONDITIONAL APPROVAL                          0\n",
              "LICENSE APPROVED FOR ISSUANCE              6789\n",
              "SSA                                       76446\n",
              "LICENSE STATUS                                0\n",
              "PAYMENT YEAR                               1289\n",
              "APPLICATION REQUIREMENTS COMPLETE YEAR      214\n",
              "DATE ISSUED YEAR                              0\n",
              "LICENSE TERM EXPIRATION YEAR                 18\n",
              "LICENSE TERM START YEAR                     228\n",
              "LICENSE VALIDITY                            228\n",
              "LICENSE APPROVED YEAR                      6789\n",
              "dtype: int64"
            ]
          },
          "metadata": {},
          "execution_count": 240
        }
      ]
    },
    {
      "cell_type": "code",
      "source": [
        "train['PAYMENT YEAR']=train['PAYMENT YEAR'].fillna(round(train['PAYMENT YEAR'].mean()))\n",
        "test['PAYMENT YEAR']=test['PAYMENT YEAR'].fillna(round(test['PAYMENT YEAR'].mean()))\n",
        "train['LICENSE APPROVED YEAR']=train['LICENSE APPROVED YEAR'].fillna(round(train['LICENSE APPROVED YEAR'].mean()))\n",
        "test['LICENSE APPROVED YEAR']=test['LICENSE APPROVED YEAR'].fillna(round(test['LICENSE APPROVED YEAR'].mean()))\n",
        "train['APPLICATION REQUIREMENTS COMPLETE YEAR'] = train['APPLICATION REQUIREMENTS COMPLETE YEAR'].fillna(round(train['APPLICATION REQUIREMENTS COMPLETE YEAR'].mean()))\n",
        "test['APPLICATION REQUIREMENTS COMPLETE YEAR'] = test['APPLICATION REQUIREMENTS COMPLETE YEAR'].fillna(round(test['APPLICATION REQUIREMENTS COMPLETE YEAR'].mean()))\n",
        "\n"
      ],
      "metadata": {
        "id": "F9HPLzUnIaHt"
      },
      "execution_count": null,
      "outputs": []
    },
    {
      "cell_type": "code",
      "source": [
        "train.isna().sum()\n"
      ],
      "metadata": {
        "colab": {
          "base_uri": "https://localhost:8080/"
        },
        "id": "-qRmsvupI_Hg",
        "outputId": "7da0f960-0f30-4905-dc07-11bb453d717c"
      },
      "execution_count": null,
      "outputs": [
        {
          "output_type": "execute_result",
          "data": {
            "text/plain": [
              "ACCOUNT NUMBER                                0\n",
              "SITE NUMBER                                   0\n",
              "LEGAL NAME                                    0\n",
              "DOING BUSINESS AS NAME                        0\n",
              "CITY                                          0\n",
              "ZIP CODE                                      0\n",
              "WARD                                          0\n",
              "PRECINCT                                      0\n",
              "POLICE DISTRICT                               0\n",
              "LICENSE CODE                                  0\n",
              "LICENSE DESCRIPTION                           0\n",
              "APPLICATION TYPE                              0\n",
              "CONDITIONAL APPROVAL                          0\n",
              "LICENSE APPROVED FOR ISSUANCE              6789\n",
              "SSA                                       76446\n",
              "LICENSE STATUS                                0\n",
              "PAYMENT YEAR                                  0\n",
              "APPLICATION REQUIREMENTS COMPLETE YEAR        0\n",
              "DATE ISSUED YEAR                              0\n",
              "LICENSE TERM EXPIRATION YEAR                 18\n",
              "LICENSE TERM START YEAR                     228\n",
              "LICENSE VALIDITY                            228\n",
              "LICENSE APPROVED YEAR                         0\n",
              "dtype: int64"
            ]
          },
          "metadata": {},
          "execution_count": 242
        }
      ]
    },
    {
      "cell_type": "code",
      "source": [
        "train['LEGAL TYPE']='PVT'"
      ],
      "metadata": {
        "id": "Aa7MsMMWJDtH"
      },
      "execution_count": null,
      "outputs": []
    },
    {
      "cell_type": "code",
      "source": [
        "test['LEGAL TYPE'] = 'PVT'"
      ],
      "metadata": {
        "id": "g395WC5kJYn7"
      },
      "execution_count": null,
      "outputs": []
    },
    {
      "cell_type": "code",
      "source": [
        "train['LEGAL TYPE']=np.where(train['LEGAL NAME'].str.contains('INC'), 'INC', train['LEGAL TYPE'])\n",
        "train['LEGAL TYPE']=np.where(train['LEGAL NAME'].str.contains('INCORPORATED'), 'INC', train['LEGAL TYPE'])\n",
        "train['LEGAL TYPE']=np.where(train['DOING BUSINESS AS NAME'].str.contains('INC'), 'INC', train['LEGAL TYPE'])\n",
        "train['LEGAL TYPE']=np.where(train['DOING BUSINESS AS NAME'].str.contains('INCORPORATED'), 'INC', train['LEGAL TYPE'])\n"
      ],
      "metadata": {
        "id": "6JLI8aCjJekn"
      },
      "execution_count": null,
      "outputs": []
    },
    {
      "cell_type": "code",
      "source": [
        "test['LEGAL TYPE']=np.where(test['LEGAL NAME'].str.contains('INC'), 'INC', test['LEGAL TYPE'])\n",
        "test['LEGAL TYPE']=np.where(test['LEGAL NAME'].str.contains('INCORPORATED'), 'INC', test['LEGAL TYPE'])\n",
        "test['LEGAL TYPE']=np.where(test['DOING BUSINESS AS NAME'].str.contains('INC'), 'INC', test['LEGAL TYPE'])\n",
        "test['LEGAL TYPE']=np.where(test['DOING BUSINESS AS NAME'].str.contains('INCORPORATED'), 'INC', test['LEGAL TYPE'])\n",
        "\n",
        "\n"
      ],
      "metadata": {
        "id": "2H8ZtRjtJrpc"
      },
      "execution_count": null,
      "outputs": []
    },
    {
      "cell_type": "code",
      "source": [
        "train['LEGAL TYPE']=np.where(train['LEGAL NAME'].str.contains('LLC'), 'LLC', train['LEGAL TYPE'])\n",
        "train['LEGAL TYPE']=np.where(train['DOING BUSINESS AS NAME'].str.contains('LLC'), 'LLC', train['LEGAL TYPE'])"
      ],
      "metadata": {
        "id": "YFB6LSYIJ2QW"
      },
      "execution_count": null,
      "outputs": []
    },
    {
      "cell_type": "code",
      "source": [
        "test['LEGAL TYPE']=np.where(test['LEGAL NAME'].str.contains('LLC'), 'LLC', test['LEGAL TYPE'])\n",
        "test['LEGAL TYPE']=np.where(test['DOING BUSINESS AS NAME'].str.contains('LLC'), 'LLC', test['LEGAL TYPE'])"
      ],
      "metadata": {
        "id": "hCW-UW69J9kd"
      },
      "execution_count": null,
      "outputs": []
    },
    {
      "cell_type": "code",
      "source": [
        "train['LEGAL TYPE']=np.where(train['LEGAL NAME'].str.contains('CO'), 'CORP', train['LEGAL TYPE'])\n",
        "train['LEGAL TYPE']=np.where(train['LEGAL NAME'].str.contains('CORP'), 'CORP', train['LEGAL TYPE'])\n",
        "train['LEGAL TYPE']=np.where(train['LEGAL NAME'].str.contains('CORPORATION'), 'CORP', train['LEGAL TYPE'])\n",
        "train['LEGAL TYPE']=np.where(train['DOING BUSINESS AS NAME'].str.contains('CO'), 'CORP', train['LEGAL TYPE'])\n",
        "train['LEGAL TYPE']=np.where(train['DOING BUSINESS AS NAME'].str.contains('CORP'), 'CORP', train['LEGAL TYPE'])\n",
        "train['LEGAL TYPE']=np.where(train['DOING BUSINESS AS NAME'].str.contains('CORPORATION'), 'CORP', train['LEGAL TYPE'])"
      ],
      "metadata": {
        "id": "E6hB4IPoKJq4"
      },
      "execution_count": null,
      "outputs": []
    },
    {
      "cell_type": "code",
      "source": [
        "test['LEGAL TYPE']=np.where(test['LEGAL NAME'].str.contains('CO'), 'CORP', test['LEGAL TYPE'])\n",
        "test['LEGAL TYPE']=np.where(test['LEGAL NAME'].str.contains('CORP'), 'CORP', test['LEGAL TYPE'])\n",
        "test['LEGAL TYPE']=np.where(test['LEGAL NAME'].str.contains('CORPORATION'), 'CORP', test['LEGAL TYPE'])\n",
        "test['LEGAL TYPE']=np.where(test['DOING BUSINESS AS NAME'].str.contains('CO'), 'CORP', test['LEGAL TYPE'])\n",
        "test['LEGAL TYPE']=np.where(test['DOING BUSINESS AS NAME'].str.contains('CORP'), 'CORP', test['LEGAL TYPE'])\n",
        "test['LEGAL TYPE']=np.where(test['DOING BUSINESS AS NAME'].str.contains('CORPORATION'), 'CORP', test['LEGAL TYPE'])\n"
      ],
      "metadata": {
        "id": "aH0SdSTVKezz"
      },
      "execution_count": null,
      "outputs": []
    },
    {
      "cell_type": "code",
      "source": [
        "train['LEGAL TYPE'] = np.where(train['LEGAL NAME'].str.contains('LTD'), 'LTD', train['LEGAL TYPE'])\n",
        "train['LEGAL TYPE'] = np.where(train['LEGAL NAME'].str.contains('LIMITED'), 'LTD', train['LEGAL TYPE'])\n",
        "train['LEGAL TYPE'] = np.where(train['DOING BUSINESS AS NAME'].str.contains('LTD'), 'LTD', train['LEGAL TYPE'])\n",
        "train['LEGAL TYPE'] = np.where(train['DOING BUSINESS AS NAME'].str.contains('LIMITED'), 'LTD', train['LEGAL TYPE'])\n",
        "train.head()\n",
        "\n"
      ],
      "metadata": {
        "colab": {
          "base_uri": "https://localhost:8080/",
          "height": 478
        },
        "id": "nLeaX1WBKoM5",
        "outputId": "f042ffc9-002b-48ec-c115-6e00b7d254d6"
      },
      "execution_count": null,
      "outputs": [
        {
          "output_type": "execute_result",
          "data": {
            "text/plain": [
              "   ACCOUNT NUMBER  SITE NUMBER                    LEGAL NAME        DOING BUSINESS AS NAME      CITY ZIP CODE  WARD  PRECINCT  POLICE DISTRICT  LICENSE CODE       LICENSE DESCRIPTION APPLICATION TYPE CONDITIONAL APPROVAL LICENSE APPROVED FOR ISSUANCE   SSA LICENSE STATUS  PAYMENT YEAR  APPLICATION REQUIREMENTS COMPLETE YEAR  DATE ISSUED YEAR  LICENSE TERM EXPIRATION YEAR  LICENSE TERM START YEAR  LICENSE VALIDITY  LICENSE APPROVED YEAR LEGAL TYPE\n",
              "0           32811            1                  CARMEN CAHUE         CLAUDIA'S BRIDAL SHOP   CHICAGO  60623.0  22.0      28.0             10.0          1010  Limited Business License            RENEW                    N                    2002-08-21  25.0            AAI        2002.0                                  2002.0              2006                        2003.0                   2002.0               1.0                 2002.0        PVT\n",
              "1          262311           29            ISLA TROPICAL, INC                 ISLA TROPICAL   CHICAGO    60618  33.0      23.0             17.0          1315     Mobile Food Dispenser            RENEW                    N                    2006-04-05  60.0            AAC        2005.0                                  2005.0              2006                        2006.0                   2005.0               1.0                 2006.0        INC\n",
              "2          345008            1                DJS REMODELING           DJS REMODELING, INC  HIGHLAND    60035   0.0       0.0              0.0          1011               Home Repair            ISSUE                    N                    2009-07-22   NaN            AAI        2009.0                                  2009.0              2009                        2011.0                   2009.0               2.0                 2009.0        INC\n",
              "3          273121            1       ALL-BRY CONSTRUCTION CO       ALL-BRY CONSTRUCTION CO    LEMONT    60439   0.0       0.0              0.0          1010  Limited Business License            ISSUE                    N                    2004-02-10   NaN            AAI        2004.0                                  2004.0              2004                        2005.0                   2004.0               1.0                 2004.0       CORP\n",
              "4          213785            1  MCDONOUGH MECHANICAL SERVICE  MCDONOUGH MECHANICAL SERVICE  WAUKEGAN    60087   0.0       0.0              0.0          1010  Limited Business License            RENEW                    N                    2008-06-04   NaN            AAI        2008.0                                  2008.0              2008                        2010.0                   2008.0               2.0                 2008.0        PVT"
            ],
            "text/html": [
              "\n",
              "  <div id=\"df-4a96e28b-f3bd-4a60-a408-00743f0212b6\">\n",
              "    <div class=\"colab-df-container\">\n",
              "      <div>\n",
              "<style scoped>\n",
              "    .dataframe tbody tr th:only-of-type {\n",
              "        vertical-align: middle;\n",
              "    }\n",
              "\n",
              "    .dataframe tbody tr th {\n",
              "        vertical-align: top;\n",
              "    }\n",
              "\n",
              "    .dataframe thead th {\n",
              "        text-align: right;\n",
              "    }\n",
              "</style>\n",
              "<table border=\"1\" class=\"dataframe\">\n",
              "  <thead>\n",
              "    <tr style=\"text-align: right;\">\n",
              "      <th></th>\n",
              "      <th>ACCOUNT NUMBER</th>\n",
              "      <th>SITE NUMBER</th>\n",
              "      <th>LEGAL NAME</th>\n",
              "      <th>DOING BUSINESS AS NAME</th>\n",
              "      <th>CITY</th>\n",
              "      <th>ZIP CODE</th>\n",
              "      <th>WARD</th>\n",
              "      <th>PRECINCT</th>\n",
              "      <th>POLICE DISTRICT</th>\n",
              "      <th>LICENSE CODE</th>\n",
              "      <th>LICENSE DESCRIPTION</th>\n",
              "      <th>APPLICATION TYPE</th>\n",
              "      <th>CONDITIONAL APPROVAL</th>\n",
              "      <th>LICENSE APPROVED FOR ISSUANCE</th>\n",
              "      <th>SSA</th>\n",
              "      <th>LICENSE STATUS</th>\n",
              "      <th>PAYMENT YEAR</th>\n",
              "      <th>APPLICATION REQUIREMENTS COMPLETE YEAR</th>\n",
              "      <th>DATE ISSUED YEAR</th>\n",
              "      <th>LICENSE TERM EXPIRATION YEAR</th>\n",
              "      <th>LICENSE TERM START YEAR</th>\n",
              "      <th>LICENSE VALIDITY</th>\n",
              "      <th>LICENSE APPROVED YEAR</th>\n",
              "      <th>LEGAL TYPE</th>\n",
              "    </tr>\n",
              "  </thead>\n",
              "  <tbody>\n",
              "    <tr>\n",
              "      <th>0</th>\n",
              "      <td>32811</td>\n",
              "      <td>1</td>\n",
              "      <td>CARMEN CAHUE</td>\n",
              "      <td>CLAUDIA'S BRIDAL SHOP</td>\n",
              "      <td>CHICAGO</td>\n",
              "      <td>60623.0</td>\n",
              "      <td>22.0</td>\n",
              "      <td>28.0</td>\n",
              "      <td>10.0</td>\n",
              "      <td>1010</td>\n",
              "      <td>Limited Business License</td>\n",
              "      <td>RENEW</td>\n",
              "      <td>N</td>\n",
              "      <td>2002-08-21</td>\n",
              "      <td>25.0</td>\n",
              "      <td>AAI</td>\n",
              "      <td>2002.0</td>\n",
              "      <td>2002.0</td>\n",
              "      <td>2006</td>\n",
              "      <td>2003.0</td>\n",
              "      <td>2002.0</td>\n",
              "      <td>1.0</td>\n",
              "      <td>2002.0</td>\n",
              "      <td>PVT</td>\n",
              "    </tr>\n",
              "    <tr>\n",
              "      <th>1</th>\n",
              "      <td>262311</td>\n",
              "      <td>29</td>\n",
              "      <td>ISLA TROPICAL, INC</td>\n",
              "      <td>ISLA TROPICAL</td>\n",
              "      <td>CHICAGO</td>\n",
              "      <td>60618</td>\n",
              "      <td>33.0</td>\n",
              "      <td>23.0</td>\n",
              "      <td>17.0</td>\n",
              "      <td>1315</td>\n",
              "      <td>Mobile Food Dispenser</td>\n",
              "      <td>RENEW</td>\n",
              "      <td>N</td>\n",
              "      <td>2006-04-05</td>\n",
              "      <td>60.0</td>\n",
              "      <td>AAC</td>\n",
              "      <td>2005.0</td>\n",
              "      <td>2005.0</td>\n",
              "      <td>2006</td>\n",
              "      <td>2006.0</td>\n",
              "      <td>2005.0</td>\n",
              "      <td>1.0</td>\n",
              "      <td>2006.0</td>\n",
              "      <td>INC</td>\n",
              "    </tr>\n",
              "    <tr>\n",
              "      <th>2</th>\n",
              "      <td>345008</td>\n",
              "      <td>1</td>\n",
              "      <td>DJS REMODELING</td>\n",
              "      <td>DJS REMODELING, INC</td>\n",
              "      <td>HIGHLAND</td>\n",
              "      <td>60035</td>\n",
              "      <td>0.0</td>\n",
              "      <td>0.0</td>\n",
              "      <td>0.0</td>\n",
              "      <td>1011</td>\n",
              "      <td>Home Repair</td>\n",
              "      <td>ISSUE</td>\n",
              "      <td>N</td>\n",
              "      <td>2009-07-22</td>\n",
              "      <td>NaN</td>\n",
              "      <td>AAI</td>\n",
              "      <td>2009.0</td>\n",
              "      <td>2009.0</td>\n",
              "      <td>2009</td>\n",
              "      <td>2011.0</td>\n",
              "      <td>2009.0</td>\n",
              "      <td>2.0</td>\n",
              "      <td>2009.0</td>\n",
              "      <td>INC</td>\n",
              "    </tr>\n",
              "    <tr>\n",
              "      <th>3</th>\n",
              "      <td>273121</td>\n",
              "      <td>1</td>\n",
              "      <td>ALL-BRY CONSTRUCTION CO</td>\n",
              "      <td>ALL-BRY CONSTRUCTION CO</td>\n",
              "      <td>LEMONT</td>\n",
              "      <td>60439</td>\n",
              "      <td>0.0</td>\n",
              "      <td>0.0</td>\n",
              "      <td>0.0</td>\n",
              "      <td>1010</td>\n",
              "      <td>Limited Business License</td>\n",
              "      <td>ISSUE</td>\n",
              "      <td>N</td>\n",
              "      <td>2004-02-10</td>\n",
              "      <td>NaN</td>\n",
              "      <td>AAI</td>\n",
              "      <td>2004.0</td>\n",
              "      <td>2004.0</td>\n",
              "      <td>2004</td>\n",
              "      <td>2005.0</td>\n",
              "      <td>2004.0</td>\n",
              "      <td>1.0</td>\n",
              "      <td>2004.0</td>\n",
              "      <td>CORP</td>\n",
              "    </tr>\n",
              "    <tr>\n",
              "      <th>4</th>\n",
              "      <td>213785</td>\n",
              "      <td>1</td>\n",
              "      <td>MCDONOUGH MECHANICAL SERVICE</td>\n",
              "      <td>MCDONOUGH MECHANICAL SERVICE</td>\n",
              "      <td>WAUKEGAN</td>\n",
              "      <td>60087</td>\n",
              "      <td>0.0</td>\n",
              "      <td>0.0</td>\n",
              "      <td>0.0</td>\n",
              "      <td>1010</td>\n",
              "      <td>Limited Business License</td>\n",
              "      <td>RENEW</td>\n",
              "      <td>N</td>\n",
              "      <td>2008-06-04</td>\n",
              "      <td>NaN</td>\n",
              "      <td>AAI</td>\n",
              "      <td>2008.0</td>\n",
              "      <td>2008.0</td>\n",
              "      <td>2008</td>\n",
              "      <td>2010.0</td>\n",
              "      <td>2008.0</td>\n",
              "      <td>2.0</td>\n",
              "      <td>2008.0</td>\n",
              "      <td>PVT</td>\n",
              "    </tr>\n",
              "  </tbody>\n",
              "</table>\n",
              "</div>\n",
              "      <button class=\"colab-df-convert\" onclick=\"convertToInteractive('df-4a96e28b-f3bd-4a60-a408-00743f0212b6')\"\n",
              "              title=\"Convert this dataframe to an interactive table.\"\n",
              "              style=\"display:none;\">\n",
              "        \n",
              "  <svg xmlns=\"http://www.w3.org/2000/svg\" height=\"24px\"viewBox=\"0 0 24 24\"\n",
              "       width=\"24px\">\n",
              "    <path d=\"M0 0h24v24H0V0z\" fill=\"none\"/>\n",
              "    <path d=\"M18.56 5.44l.94 2.06.94-2.06 2.06-.94-2.06-.94-.94-2.06-.94 2.06-2.06.94zm-11 1L8.5 8.5l.94-2.06 2.06-.94-2.06-.94L8.5 2.5l-.94 2.06-2.06.94zm10 10l.94 2.06.94-2.06 2.06-.94-2.06-.94-.94-2.06-.94 2.06-2.06.94z\"/><path d=\"M17.41 7.96l-1.37-1.37c-.4-.4-.92-.59-1.43-.59-.52 0-1.04.2-1.43.59L10.3 9.45l-7.72 7.72c-.78.78-.78 2.05 0 2.83L4 21.41c.39.39.9.59 1.41.59.51 0 1.02-.2 1.41-.59l7.78-7.78 2.81-2.81c.8-.78.8-2.07 0-2.86zM5.41 20L4 18.59l7.72-7.72 1.47 1.35L5.41 20z\"/>\n",
              "  </svg>\n",
              "      </button>\n",
              "      \n",
              "  <style>\n",
              "    .colab-df-container {\n",
              "      display:flex;\n",
              "      flex-wrap:wrap;\n",
              "      gap: 12px;\n",
              "    }\n",
              "\n",
              "    .colab-df-convert {\n",
              "      background-color: #E8F0FE;\n",
              "      border: none;\n",
              "      border-radius: 50%;\n",
              "      cursor: pointer;\n",
              "      display: none;\n",
              "      fill: #1967D2;\n",
              "      height: 32px;\n",
              "      padding: 0 0 0 0;\n",
              "      width: 32px;\n",
              "    }\n",
              "\n",
              "    .colab-df-convert:hover {\n",
              "      background-color: #E2EBFA;\n",
              "      box-shadow: 0px 1px 2px rgba(60, 64, 67, 0.3), 0px 1px 3px 1px rgba(60, 64, 67, 0.15);\n",
              "      fill: #174EA6;\n",
              "    }\n",
              "\n",
              "    [theme=dark] .colab-df-convert {\n",
              "      background-color: #3B4455;\n",
              "      fill: #D2E3FC;\n",
              "    }\n",
              "\n",
              "    [theme=dark] .colab-df-convert:hover {\n",
              "      background-color: #434B5C;\n",
              "      box-shadow: 0px 1px 3px 1px rgba(0, 0, 0, 0.15);\n",
              "      filter: drop-shadow(0px 1px 2px rgba(0, 0, 0, 0.3));\n",
              "      fill: #FFFFFF;\n",
              "    }\n",
              "  </style>\n",
              "\n",
              "      <script>\n",
              "        const buttonEl =\n",
              "          document.querySelector('#df-4a96e28b-f3bd-4a60-a408-00743f0212b6 button.colab-df-convert');\n",
              "        buttonEl.style.display =\n",
              "          google.colab.kernel.accessAllowed ? 'block' : 'none';\n",
              "\n",
              "        async function convertToInteractive(key) {\n",
              "          const element = document.querySelector('#df-4a96e28b-f3bd-4a60-a408-00743f0212b6');\n",
              "          const dataTable =\n",
              "            await google.colab.kernel.invokeFunction('convertToInteractive',\n",
              "                                                     [key], {});\n",
              "          if (!dataTable) return;\n",
              "\n",
              "          const docLinkHtml = 'Like what you see? Visit the ' +\n",
              "            '<a target=\"_blank\" href=https://colab.research.google.com/notebooks/data_table.ipynb>data table notebook</a>'\n",
              "            + ' to learn more about interactive tables.';\n",
              "          element.innerHTML = '';\n",
              "          dataTable['output_type'] = 'display_data';\n",
              "          await google.colab.output.renderOutput(dataTable, element);\n",
              "          const docLink = document.createElement('div');\n",
              "          docLink.innerHTML = docLinkHtml;\n",
              "          element.appendChild(docLink);\n",
              "        }\n",
              "      </script>\n",
              "    </div>\n",
              "  </div>\n",
              "  "
            ]
          },
          "metadata": {},
          "execution_count": 251
        }
      ]
    },
    {
      "cell_type": "code",
      "source": [
        "test['LEGAL TYPE']=np.where(test['LEGAL NAME'].str.contains('LTD'), 'LTD', test['LEGAL TYPE'])\n",
        "test['LEGAL TYPE']=np.where(test['LEGAL NAME'].str.contains('LIMITED'), 'LTD', test['LEGAL TYPE'])\n",
        "test['LEGAL TYPE']=np.where(test['DOING BUSINESS AS NAME'].str.contains('LTD'), 'LTD', test['LEGAL TYPE'])\n",
        "test['LEGAL TYPE']=np.where(test['DOING BUSINESS AS NAME'].str.contains('LIMITED'), 'LTD', test['LEGAL TYPE'])\n",
        "test.head()\n"
      ],
      "metadata": {
        "colab": {
          "base_uri": "https://localhost:8080/",
          "height": 478
        },
        "id": "wk776OfFKxOc",
        "outputId": "ee9d104b-458b-428f-b7bf-468973699ea6"
      },
      "execution_count": null,
      "outputs": [
        {
          "output_type": "execute_result",
          "data": {
            "text/plain": [
              "   ACCOUNT NUMBER  SITE NUMBER             LEGAL NAME DOING BUSINESS AS NAME     CITY ZIP CODE  WARD  PRECINCT  POLICE DISTRICT  LICENSE CODE                LICENSE DESCRIPTION APPLICATION TYPE CONDITIONAL APPROVAL LICENSE APPROVED FOR ISSUANCE   SSA  PAYMENT YEAR  APPLICATION REQUIREMENTS COMPLETE YEAR  DATE ISSUED YEAR  LICENSE TERM EXPIRATION YEAR  LICENSE TERM START YEAR  LICENSE VALIDITY  LICENSE APPROVED YEAR LEGAL TYPE\n",
              "0          280120            1         RS HOMES I LLC         RS HOMES I LLC  CHICAGO  60610.0  42.0      67.0             18.0          1020  Residential Real Estate Developer            RENEW                    N                    2012-01-19   NaN        2012.0                                  2011.0              2012                        2014.0                   2012.0               2.0                 2012.0        LLC\n",
              "1           65043            1     CSX INTERMODAL INC         CSX INTERMODAL  CHICAGO  60636.0  16.0       5.0              7.0          1010           Limited Business License            RENEW                    N                    2012-11-02   NaN        2012.0                                  2011.0              2012                        2013.0                   2011.0               2.0                 2012.0        INC\n",
              "2          281270            1  LOCOMIBILE  LOFTS LLC   LOCOMOBILE LOFTS LLC  CHICAGO  60605.0   4.0       8.0              1.0          1020  Residential Real Estate Developer            RENEW                    N                    2004-12-06   NaN        2004.0                                  2004.0              2004                        2005.0                   2004.0               1.0                 2004.0       CORP\n",
              "3          335243            1         ANNA F JAMISON         ANNA F JAMISON  CHICAGO  60827.0   9.0      33.0              5.0          1607                            Peddler            RENEW                    N                           NaT   NaN        2010.0                                  2010.0              2010                        2012.0                   2010.0               2.0                 2008.0        PVT\n",
              "4          283018            3  MARINCA A COVARRUBIAS                DETAILS  CHICAGO  60632.0  15.0      26.0              9.0          1010           Limited Business License            RENEW                    N                    2007-08-15  39.0        2007.0                                  2007.0              2007                        2009.0                   2007.0               2.0                 2007.0       CORP"
            ],
            "text/html": [
              "\n",
              "  <div id=\"df-1a345298-6da6-46fd-a9a0-25b8eb1f3055\">\n",
              "    <div class=\"colab-df-container\">\n",
              "      <div>\n",
              "<style scoped>\n",
              "    .dataframe tbody tr th:only-of-type {\n",
              "        vertical-align: middle;\n",
              "    }\n",
              "\n",
              "    .dataframe tbody tr th {\n",
              "        vertical-align: top;\n",
              "    }\n",
              "\n",
              "    .dataframe thead th {\n",
              "        text-align: right;\n",
              "    }\n",
              "</style>\n",
              "<table border=\"1\" class=\"dataframe\">\n",
              "  <thead>\n",
              "    <tr style=\"text-align: right;\">\n",
              "      <th></th>\n",
              "      <th>ACCOUNT NUMBER</th>\n",
              "      <th>SITE NUMBER</th>\n",
              "      <th>LEGAL NAME</th>\n",
              "      <th>DOING BUSINESS AS NAME</th>\n",
              "      <th>CITY</th>\n",
              "      <th>ZIP CODE</th>\n",
              "      <th>WARD</th>\n",
              "      <th>PRECINCT</th>\n",
              "      <th>POLICE DISTRICT</th>\n",
              "      <th>LICENSE CODE</th>\n",
              "      <th>LICENSE DESCRIPTION</th>\n",
              "      <th>APPLICATION TYPE</th>\n",
              "      <th>CONDITIONAL APPROVAL</th>\n",
              "      <th>LICENSE APPROVED FOR ISSUANCE</th>\n",
              "      <th>SSA</th>\n",
              "      <th>PAYMENT YEAR</th>\n",
              "      <th>APPLICATION REQUIREMENTS COMPLETE YEAR</th>\n",
              "      <th>DATE ISSUED YEAR</th>\n",
              "      <th>LICENSE TERM EXPIRATION YEAR</th>\n",
              "      <th>LICENSE TERM START YEAR</th>\n",
              "      <th>LICENSE VALIDITY</th>\n",
              "      <th>LICENSE APPROVED YEAR</th>\n",
              "      <th>LEGAL TYPE</th>\n",
              "    </tr>\n",
              "  </thead>\n",
              "  <tbody>\n",
              "    <tr>\n",
              "      <th>0</th>\n",
              "      <td>280120</td>\n",
              "      <td>1</td>\n",
              "      <td>RS HOMES I LLC</td>\n",
              "      <td>RS HOMES I LLC</td>\n",
              "      <td>CHICAGO</td>\n",
              "      <td>60610.0</td>\n",
              "      <td>42.0</td>\n",
              "      <td>67.0</td>\n",
              "      <td>18.0</td>\n",
              "      <td>1020</td>\n",
              "      <td>Residential Real Estate Developer</td>\n",
              "      <td>RENEW</td>\n",
              "      <td>N</td>\n",
              "      <td>2012-01-19</td>\n",
              "      <td>NaN</td>\n",
              "      <td>2012.0</td>\n",
              "      <td>2011.0</td>\n",
              "      <td>2012</td>\n",
              "      <td>2014.0</td>\n",
              "      <td>2012.0</td>\n",
              "      <td>2.0</td>\n",
              "      <td>2012.0</td>\n",
              "      <td>LLC</td>\n",
              "    </tr>\n",
              "    <tr>\n",
              "      <th>1</th>\n",
              "      <td>65043</td>\n",
              "      <td>1</td>\n",
              "      <td>CSX INTERMODAL INC</td>\n",
              "      <td>CSX INTERMODAL</td>\n",
              "      <td>CHICAGO</td>\n",
              "      <td>60636.0</td>\n",
              "      <td>16.0</td>\n",
              "      <td>5.0</td>\n",
              "      <td>7.0</td>\n",
              "      <td>1010</td>\n",
              "      <td>Limited Business License</td>\n",
              "      <td>RENEW</td>\n",
              "      <td>N</td>\n",
              "      <td>2012-11-02</td>\n",
              "      <td>NaN</td>\n",
              "      <td>2012.0</td>\n",
              "      <td>2011.0</td>\n",
              "      <td>2012</td>\n",
              "      <td>2013.0</td>\n",
              "      <td>2011.0</td>\n",
              "      <td>2.0</td>\n",
              "      <td>2012.0</td>\n",
              "      <td>INC</td>\n",
              "    </tr>\n",
              "    <tr>\n",
              "      <th>2</th>\n",
              "      <td>281270</td>\n",
              "      <td>1</td>\n",
              "      <td>LOCOMIBILE  LOFTS LLC</td>\n",
              "      <td>LOCOMOBILE LOFTS LLC</td>\n",
              "      <td>CHICAGO</td>\n",
              "      <td>60605.0</td>\n",
              "      <td>4.0</td>\n",
              "      <td>8.0</td>\n",
              "      <td>1.0</td>\n",
              "      <td>1020</td>\n",
              "      <td>Residential Real Estate Developer</td>\n",
              "      <td>RENEW</td>\n",
              "      <td>N</td>\n",
              "      <td>2004-12-06</td>\n",
              "      <td>NaN</td>\n",
              "      <td>2004.0</td>\n",
              "      <td>2004.0</td>\n",
              "      <td>2004</td>\n",
              "      <td>2005.0</td>\n",
              "      <td>2004.0</td>\n",
              "      <td>1.0</td>\n",
              "      <td>2004.0</td>\n",
              "      <td>CORP</td>\n",
              "    </tr>\n",
              "    <tr>\n",
              "      <th>3</th>\n",
              "      <td>335243</td>\n",
              "      <td>1</td>\n",
              "      <td>ANNA F JAMISON</td>\n",
              "      <td>ANNA F JAMISON</td>\n",
              "      <td>CHICAGO</td>\n",
              "      <td>60827.0</td>\n",
              "      <td>9.0</td>\n",
              "      <td>33.0</td>\n",
              "      <td>5.0</td>\n",
              "      <td>1607</td>\n",
              "      <td>Peddler</td>\n",
              "      <td>RENEW</td>\n",
              "      <td>N</td>\n",
              "      <td>NaT</td>\n",
              "      <td>NaN</td>\n",
              "      <td>2010.0</td>\n",
              "      <td>2010.0</td>\n",
              "      <td>2010</td>\n",
              "      <td>2012.0</td>\n",
              "      <td>2010.0</td>\n",
              "      <td>2.0</td>\n",
              "      <td>2008.0</td>\n",
              "      <td>PVT</td>\n",
              "    </tr>\n",
              "    <tr>\n",
              "      <th>4</th>\n",
              "      <td>283018</td>\n",
              "      <td>3</td>\n",
              "      <td>MARINCA A COVARRUBIAS</td>\n",
              "      <td>DETAILS</td>\n",
              "      <td>CHICAGO</td>\n",
              "      <td>60632.0</td>\n",
              "      <td>15.0</td>\n",
              "      <td>26.0</td>\n",
              "      <td>9.0</td>\n",
              "      <td>1010</td>\n",
              "      <td>Limited Business License</td>\n",
              "      <td>RENEW</td>\n",
              "      <td>N</td>\n",
              "      <td>2007-08-15</td>\n",
              "      <td>39.0</td>\n",
              "      <td>2007.0</td>\n",
              "      <td>2007.0</td>\n",
              "      <td>2007</td>\n",
              "      <td>2009.0</td>\n",
              "      <td>2007.0</td>\n",
              "      <td>2.0</td>\n",
              "      <td>2007.0</td>\n",
              "      <td>CORP</td>\n",
              "    </tr>\n",
              "  </tbody>\n",
              "</table>\n",
              "</div>\n",
              "      <button class=\"colab-df-convert\" onclick=\"convertToInteractive('df-1a345298-6da6-46fd-a9a0-25b8eb1f3055')\"\n",
              "              title=\"Convert this dataframe to an interactive table.\"\n",
              "              style=\"display:none;\">\n",
              "        \n",
              "  <svg xmlns=\"http://www.w3.org/2000/svg\" height=\"24px\"viewBox=\"0 0 24 24\"\n",
              "       width=\"24px\">\n",
              "    <path d=\"M0 0h24v24H0V0z\" fill=\"none\"/>\n",
              "    <path d=\"M18.56 5.44l.94 2.06.94-2.06 2.06-.94-2.06-.94-.94-2.06-.94 2.06-2.06.94zm-11 1L8.5 8.5l.94-2.06 2.06-.94-2.06-.94L8.5 2.5l-.94 2.06-2.06.94zm10 10l.94 2.06.94-2.06 2.06-.94-2.06-.94-.94-2.06-.94 2.06-2.06.94z\"/><path d=\"M17.41 7.96l-1.37-1.37c-.4-.4-.92-.59-1.43-.59-.52 0-1.04.2-1.43.59L10.3 9.45l-7.72 7.72c-.78.78-.78 2.05 0 2.83L4 21.41c.39.39.9.59 1.41.59.51 0 1.02-.2 1.41-.59l7.78-7.78 2.81-2.81c.8-.78.8-2.07 0-2.86zM5.41 20L4 18.59l7.72-7.72 1.47 1.35L5.41 20z\"/>\n",
              "  </svg>\n",
              "      </button>\n",
              "      \n",
              "  <style>\n",
              "    .colab-df-container {\n",
              "      display:flex;\n",
              "      flex-wrap:wrap;\n",
              "      gap: 12px;\n",
              "    }\n",
              "\n",
              "    .colab-df-convert {\n",
              "      background-color: #E8F0FE;\n",
              "      border: none;\n",
              "      border-radius: 50%;\n",
              "      cursor: pointer;\n",
              "      display: none;\n",
              "      fill: #1967D2;\n",
              "      height: 32px;\n",
              "      padding: 0 0 0 0;\n",
              "      width: 32px;\n",
              "    }\n",
              "\n",
              "    .colab-df-convert:hover {\n",
              "      background-color: #E2EBFA;\n",
              "      box-shadow: 0px 1px 2px rgba(60, 64, 67, 0.3), 0px 1px 3px 1px rgba(60, 64, 67, 0.15);\n",
              "      fill: #174EA6;\n",
              "    }\n",
              "\n",
              "    [theme=dark] .colab-df-convert {\n",
              "      background-color: #3B4455;\n",
              "      fill: #D2E3FC;\n",
              "    }\n",
              "\n",
              "    [theme=dark] .colab-df-convert:hover {\n",
              "      background-color: #434B5C;\n",
              "      box-shadow: 0px 1px 3px 1px rgba(0, 0, 0, 0.15);\n",
              "      filter: drop-shadow(0px 1px 2px rgba(0, 0, 0, 0.3));\n",
              "      fill: #FFFFFF;\n",
              "    }\n",
              "  </style>\n",
              "\n",
              "      <script>\n",
              "        const buttonEl =\n",
              "          document.querySelector('#df-1a345298-6da6-46fd-a9a0-25b8eb1f3055 button.colab-df-convert');\n",
              "        buttonEl.style.display =\n",
              "          google.colab.kernel.accessAllowed ? 'block' : 'none';\n",
              "\n",
              "        async function convertToInteractive(key) {\n",
              "          const element = document.querySelector('#df-1a345298-6da6-46fd-a9a0-25b8eb1f3055');\n",
              "          const dataTable =\n",
              "            await google.colab.kernel.invokeFunction('convertToInteractive',\n",
              "                                                     [key], {});\n",
              "          if (!dataTable) return;\n",
              "\n",
              "          const docLinkHtml = 'Like what you see? Visit the ' +\n",
              "            '<a target=\"_blank\" href=https://colab.research.google.com/notebooks/data_table.ipynb>data table notebook</a>'\n",
              "            + ' to learn more about interactive tables.';\n",
              "          element.innerHTML = '';\n",
              "          dataTable['output_type'] = 'display_data';\n",
              "          await google.colab.output.renderOutput(dataTable, element);\n",
              "          const docLink = document.createElement('div');\n",
              "          docLink.innerHTML = docLinkHtml;\n",
              "          element.appendChild(docLink);\n",
              "        }\n",
              "      </script>\n",
              "    </div>\n",
              "  </div>\n",
              "  "
            ]
          },
          "metadata": {},
          "execution_count": 252
        }
      ]
    },
    {
      "cell_type": "code",
      "source": [
        "train['LEGAL TYPE'].value_counts()"
      ],
      "metadata": {
        "colab": {
          "base_uri": "https://localhost:8080/"
        },
        "id": "d2X-WGc4K5Pt",
        "outputId": "196de28a-ebdc-4458-85c7-32f9da01cb58"
      },
      "execution_count": null,
      "outputs": [
        {
          "output_type": "execute_result",
          "data": {
            "text/plain": [
              "CORP    27765\n",
              "PVT     27020\n",
              "INC     24447\n",
              "LLC      5048\n",
              "LTD      1615\n",
              "Name: LEGAL TYPE, dtype: int64"
            ]
          },
          "metadata": {},
          "execution_count": 253
        }
      ]
    },
    {
      "cell_type": "code",
      "source": [
        "train=train.drop(['LEGAL NAME'], axis = 1)\n",
        "train=train.drop(['DOING BUSINESS AS NAME'], axis = 1)\n",
        "test=test.drop(['LEGAL NAME'], axis = 1)\n",
        "test=test.drop(['DOING BUSINESS AS NAME'], axis = 1)"
      ],
      "metadata": {
        "id": "pxv7PRqQUu-7"
      },
      "execution_count": null,
      "outputs": []
    },
    {
      "cell_type": "code",
      "source": [
        "test.isna().sum()"
      ],
      "metadata": {
        "colab": {
          "base_uri": "https://localhost:8080/"
        },
        "id": "0VWTQDwsLA3h",
        "outputId": "3372e276-8370-4a65-a355-1de73c0a35e9"
      },
      "execution_count": null,
      "outputs": [
        {
          "output_type": "execute_result",
          "data": {
            "text/plain": [
              "ACCOUNT NUMBER                                0\n",
              "SITE NUMBER                                   0\n",
              "CITY                                          0\n",
              "ZIP CODE                                      0\n",
              "WARD                                          0\n",
              "PRECINCT                                      0\n",
              "POLICE DISTRICT                               0\n",
              "LICENSE CODE                                  0\n",
              "LICENSE DESCRIPTION                           0\n",
              "APPLICATION TYPE                              0\n",
              "CONDITIONAL APPROVAL                          0\n",
              "LICENSE APPROVED FOR ISSUANCE              2379\n",
              "SSA                                       41331\n",
              "PAYMENT YEAR                                  0\n",
              "APPLICATION REQUIREMENTS COMPLETE YEAR        0\n",
              "DATE ISSUED YEAR                              0\n",
              "LICENSE TERM EXPIRATION YEAR                  6\n",
              "LICENSE TERM START YEAR                     118\n",
              "LICENSE VALIDITY                            118\n",
              "LICENSE APPROVED YEAR                         0\n",
              "LEGAL TYPE                                    0\n",
              "dtype: int64"
            ]
          },
          "metadata": {},
          "execution_count": 255
        }
      ]
    },
    {
      "cell_type": "code",
      "source": [
        "train=train.drop(['LICENSE APPROVED FOR ISSUANCE'], axis = 1)\n",
        "test=test.drop(['LICENSE APPROVED FOR ISSUANCE'], axis = 1)"
      ],
      "metadata": {
        "id": "j7BqSNjPOcWj"
      },
      "execution_count": null,
      "outputs": []
    },
    {
      "cell_type": "code",
      "source": [
        "train.isna().sum()"
      ],
      "metadata": {
        "colab": {
          "base_uri": "https://localhost:8080/"
        },
        "id": "Q157cIvcOorY",
        "outputId": "c172bff4-6a0b-485a-95cc-7b07d75509ae"
      },
      "execution_count": null,
      "outputs": [
        {
          "output_type": "execute_result",
          "data": {
            "text/plain": [
              "ACCOUNT NUMBER                                0\n",
              "SITE NUMBER                                   0\n",
              "CITY                                          0\n",
              "ZIP CODE                                      0\n",
              "WARD                                          0\n",
              "PRECINCT                                      0\n",
              "POLICE DISTRICT                               0\n",
              "LICENSE CODE                                  0\n",
              "LICENSE DESCRIPTION                           0\n",
              "APPLICATION TYPE                              0\n",
              "CONDITIONAL APPROVAL                          0\n",
              "SSA                                       76446\n",
              "LICENSE STATUS                                0\n",
              "PAYMENT YEAR                                  0\n",
              "APPLICATION REQUIREMENTS COMPLETE YEAR        0\n",
              "DATE ISSUED YEAR                              0\n",
              "LICENSE TERM EXPIRATION YEAR                 18\n",
              "LICENSE TERM START YEAR                     228\n",
              "LICENSE VALIDITY                            228\n",
              "LICENSE APPROVED YEAR                         0\n",
              "LEGAL TYPE                                    0\n",
              "dtype: int64"
            ]
          },
          "metadata": {},
          "execution_count": 257
        }
      ]
    },
    {
      "cell_type": "code",
      "source": [
        "train=train.drop(['LICENSE TERM EXPIRATION YEAR'], axis=1)\n",
        "test=test.drop(['LICENSE TERM EXPIRATION YEAR'], axis=1)\n",
        "train=train.drop(['LICENSE TERM START YEAR'], axis=1)\n",
        "test=test.drop(['LICENSE TERM START YEAR'], axis=1)"
      ],
      "metadata": {
        "id": "OVMlxD2iPcTn"
      },
      "execution_count": null,
      "outputs": []
    },
    {
      "cell_type": "code",
      "source": [
        "train['LICENSE VALIDITY']=train['LICENSE VALIDITY'].fillna(method='ffill')\n",
        "test['LICENSE VALIDITY']=test['LICENSE VALIDITY'].fillna(method='ffill')"
      ],
      "metadata": {
        "id": "CQ4DbN9MP2ml"
      },
      "execution_count": null,
      "outputs": []
    },
    {
      "cell_type": "code",
      "source": [
        "train.isna().sum()"
      ],
      "metadata": {
        "colab": {
          "base_uri": "https://localhost:8080/"
        },
        "id": "XGkj0wVLRkqv",
        "outputId": "13a096b1-1f0f-4082-d54f-4b9aee8ccf38"
      },
      "execution_count": null,
      "outputs": [
        {
          "output_type": "execute_result",
          "data": {
            "text/plain": [
              "ACCOUNT NUMBER                                0\n",
              "SITE NUMBER                                   0\n",
              "CITY                                          0\n",
              "ZIP CODE                                      0\n",
              "WARD                                          0\n",
              "PRECINCT                                      0\n",
              "POLICE DISTRICT                               0\n",
              "LICENSE CODE                                  0\n",
              "LICENSE DESCRIPTION                           0\n",
              "APPLICATION TYPE                              0\n",
              "CONDITIONAL APPROVAL                          0\n",
              "SSA                                       76446\n",
              "LICENSE STATUS                                0\n",
              "PAYMENT YEAR                                  0\n",
              "APPLICATION REQUIREMENTS COMPLETE YEAR        0\n",
              "DATE ISSUED YEAR                              0\n",
              "LICENSE VALIDITY                              0\n",
              "LICENSE APPROVED YEAR                         0\n",
              "LEGAL TYPE                                    0\n",
              "dtype: int64"
            ]
          },
          "metadata": {},
          "execution_count": 260
        }
      ]
    },
    {
      "cell_type": "code",
      "source": [
        "test.isna().sum()"
      ],
      "metadata": {
        "colab": {
          "base_uri": "https://localhost:8080/"
        },
        "id": "vc-u2V8lSm0p",
        "outputId": "f8c06583-da33-4aac-8e3d-e1d38696a8ec"
      },
      "execution_count": null,
      "outputs": [
        {
          "output_type": "execute_result",
          "data": {
            "text/plain": [
              "ACCOUNT NUMBER                                0\n",
              "SITE NUMBER                                   0\n",
              "CITY                                          0\n",
              "ZIP CODE                                      0\n",
              "WARD                                          0\n",
              "PRECINCT                                      0\n",
              "POLICE DISTRICT                               0\n",
              "LICENSE CODE                                  0\n",
              "LICENSE DESCRIPTION                           0\n",
              "APPLICATION TYPE                              0\n",
              "CONDITIONAL APPROVAL                          0\n",
              "SSA                                       41331\n",
              "PAYMENT YEAR                                  0\n",
              "APPLICATION REQUIREMENTS COMPLETE YEAR        0\n",
              "DATE ISSUED YEAR                              0\n",
              "LICENSE VALIDITY                              0\n",
              "LICENSE APPROVED YEAR                         0\n",
              "LEGAL TYPE                                    0\n",
              "dtype: int64"
            ]
          },
          "metadata": {},
          "execution_count": 261
        }
      ]
    },
    {
      "cell_type": "code",
      "source": [
        "train['SSA']=train['SSA'].fillna(0)\n",
        "test['SSA']=test['SSA'].fillna(0)"
      ],
      "metadata": {
        "id": "KWUCjMKjVnyA"
      },
      "execution_count": null,
      "outputs": []
    },
    {
      "cell_type": "code",
      "source": [
        "train.shape"
      ],
      "metadata": {
        "colab": {
          "base_uri": "https://localhost:8080/"
        },
        "id": "ko-6WuRxT2jT",
        "outputId": "21eb437c-12dd-428c-b567-91e717d0fba1"
      },
      "execution_count": null,
      "outputs": [
        {
          "output_type": "execute_result",
          "data": {
            "text/plain": [
              "(85895, 19)"
            ]
          },
          "metadata": {},
          "execution_count": 263
        }
      ]
    },
    {
      "cell_type": "code",
      "source": [
        "test.shape"
      ],
      "metadata": {
        "colab": {
          "base_uri": "https://localhost:8080/"
        },
        "id": "67VBpKbBT9Bp",
        "outputId": "49c9a97d-a0b1-446b-dd99-1f279a90aacc"
      },
      "execution_count": null,
      "outputs": [
        {
          "output_type": "execute_result",
          "data": {
            "text/plain": [
              "(57239, 18)"
            ]
          },
          "metadata": {},
          "execution_count": 264
        }
      ]
    },
    {
      "cell_type": "code",
      "source": [
        "train.info()"
      ],
      "metadata": {
        "colab": {
          "base_uri": "https://localhost:8080/"
        },
        "id": "l7cQ6eM8T-O_",
        "outputId": "01872796-389a-47e0-8b2f-798276ec523d"
      },
      "execution_count": null,
      "outputs": [
        {
          "output_type": "stream",
          "name": "stdout",
          "text": [
            "<class 'pandas.core.frame.DataFrame'>\n",
            "RangeIndex: 85895 entries, 0 to 85894\n",
            "Data columns (total 19 columns):\n",
            " #   Column                                  Non-Null Count  Dtype  \n",
            "---  ------                                  --------------  -----  \n",
            " 0   ACCOUNT NUMBER                          85895 non-null  int64  \n",
            " 1   SITE NUMBER                             85895 non-null  int64  \n",
            " 2   CITY                                    85895 non-null  object \n",
            " 3   ZIP CODE                                85895 non-null  object \n",
            " 4   WARD                                    85895 non-null  float64\n",
            " 5   PRECINCT                                85895 non-null  float64\n",
            " 6   POLICE DISTRICT                         85895 non-null  float64\n",
            " 7   LICENSE CODE                            85895 non-null  int64  \n",
            " 8   LICENSE DESCRIPTION                     85895 non-null  object \n",
            " 9   APPLICATION TYPE                        85895 non-null  object \n",
            " 10  CONDITIONAL APPROVAL                    85895 non-null  object \n",
            " 11  SSA                                     85895 non-null  float64\n",
            " 12  LICENSE STATUS                          85895 non-null  object \n",
            " 13  PAYMENT YEAR                            85895 non-null  float64\n",
            " 14  APPLICATION REQUIREMENTS COMPLETE YEAR  85895 non-null  float64\n",
            " 15  DATE ISSUED YEAR                        85895 non-null  int64  \n",
            " 16  LICENSE VALIDITY                        85895 non-null  float64\n",
            " 17  LICENSE APPROVED YEAR                   85895 non-null  float64\n",
            " 18  LEGAL TYPE                              85895 non-null  object \n",
            "dtypes: float64(8), int64(4), object(7)\n",
            "memory usage: 12.5+ MB\n"
          ]
        }
      ]
    },
    {
      "cell_type": "code",
      "source": [
        "test.info()"
      ],
      "metadata": {
        "colab": {
          "base_uri": "https://localhost:8080/"
        },
        "id": "YtzzejzCUDaQ",
        "outputId": "ea39dc26-9dd2-44dc-9367-0340b52a0941"
      },
      "execution_count": null,
      "outputs": [
        {
          "output_type": "stream",
          "name": "stdout",
          "text": [
            "<class 'pandas.core.frame.DataFrame'>\n",
            "RangeIndex: 57239 entries, 0 to 57238\n",
            "Data columns (total 18 columns):\n",
            " #   Column                                  Non-Null Count  Dtype  \n",
            "---  ------                                  --------------  -----  \n",
            " 0   ACCOUNT NUMBER                          57239 non-null  int64  \n",
            " 1   SITE NUMBER                             57239 non-null  int64  \n",
            " 2   CITY                                    57239 non-null  object \n",
            " 3   ZIP CODE                                57239 non-null  object \n",
            " 4   WARD                                    57239 non-null  float64\n",
            " 5   PRECINCT                                57239 non-null  float64\n",
            " 6   POLICE DISTRICT                         57239 non-null  float64\n",
            " 7   LICENSE CODE                            57239 non-null  int64  \n",
            " 8   LICENSE DESCRIPTION                     57239 non-null  object \n",
            " 9   APPLICATION TYPE                        57239 non-null  object \n",
            " 10  CONDITIONAL APPROVAL                    57239 non-null  object \n",
            " 11  SSA                                     57239 non-null  float64\n",
            " 12  PAYMENT YEAR                            57239 non-null  float64\n",
            " 13  APPLICATION REQUIREMENTS COMPLETE YEAR  57239 non-null  float64\n",
            " 14  DATE ISSUED YEAR                        57239 non-null  int64  \n",
            " 15  LICENSE VALIDITY                        57239 non-null  float64\n",
            " 16  LICENSE APPROVED YEAR                   57239 non-null  float64\n",
            " 17  LEGAL TYPE                              57239 non-null  object \n",
            "dtypes: float64(8), int64(4), object(6)\n",
            "memory usage: 7.9+ MB\n"
          ]
        }
      ]
    },
    {
      "cell_type": "code",
      "source": [
        "from sklearn.preprocessing import LabelEncoder\n",
        "encoder = LabelEncoder()\n",
        "train[\"CITY\"]=encoder.fit_transform(train[\"CITY\"])\n",
        "train[\"ZIP CODE\"]=encoder.fit_transform(train[\"ZIP CODE\"].astype(str))\n",
        "train[\"LICENSE DESCRIPTION\"]=encoder.fit_transform(train[\"LICENSE DESCRIPTION\"])\n",
        "train[\"APPLICATION TYPE\"]=encoder.fit_transform(train[\"APPLICATION TYPE\"])\n",
        "train[\"CONDITIONAL APPROVAL\"]=encoder.fit_transform(train[\"CONDITIONAL APPROVAL\"])\n",
        "train[\"LEGAL TYPE\"]=encoder.fit_transform(train[\"LEGAL TYPE\"])\n",
        "train.head()\n",
        "\n"
      ],
      "metadata": {
        "colab": {
          "base_uri": "https://localhost:8080/",
          "height": 285
        },
        "id": "YBcLmhdYUIBs",
        "outputId": "210ed4fb-a342-44ce-ef8c-b6248e8831df"
      },
      "execution_count": null,
      "outputs": [
        {
          "output_type": "execute_result",
          "data": {
            "text/plain": [
              "   ACCOUNT NUMBER  SITE NUMBER  CITY  ZIP CODE  WARD  PRECINCT  POLICE DISTRICT  LICENSE CODE  LICENSE DESCRIPTION  APPLICATION TYPE  CONDITIONAL APPROVAL   SSA LICENSE STATUS  PAYMENT YEAR  APPLICATION REQUIREMENTS COMPLETE YEAR  DATE ISSUED YEAR  LICENSE VALIDITY  LICENSE APPROVED YEAR  LEGAL TYPE\n",
              "0           32811            1   193      1559  22.0      28.0             10.0          1010                   41                 4                     0  25.0            AAI        2002.0                                  2002.0              2006               1.0                 2002.0           4\n",
              "1          262311           29   193      1548  33.0      23.0             17.0          1315                   46                 4                     0  60.0            AAC        2005.0                                  2005.0              2006               1.0                 2006.0           1\n",
              "2          345008            1   466      1025   0.0       0.0              0.0          1011                   30                 3                     0   0.0            AAI        2009.0                                  2009.0              2009               2.0                 2009.0           1\n",
              "3          273121            1   585      1329   0.0       0.0              0.0          1010                   41                 3                     0   0.0            AAI        2004.0                                  2004.0              2004               1.0                 2004.0           0\n",
              "4          213785            1  1145      1095   0.0       0.0              0.0          1010                   41                 4                     0   0.0            AAI        2008.0                                  2008.0              2008               2.0                 2008.0           4"
            ],
            "text/html": [
              "\n",
              "  <div id=\"df-d1e5d8fd-47c4-48f3-a229-962cf5021fc8\">\n",
              "    <div class=\"colab-df-container\">\n",
              "      <div>\n",
              "<style scoped>\n",
              "    .dataframe tbody tr th:only-of-type {\n",
              "        vertical-align: middle;\n",
              "    }\n",
              "\n",
              "    .dataframe tbody tr th {\n",
              "        vertical-align: top;\n",
              "    }\n",
              "\n",
              "    .dataframe thead th {\n",
              "        text-align: right;\n",
              "    }\n",
              "</style>\n",
              "<table border=\"1\" class=\"dataframe\">\n",
              "  <thead>\n",
              "    <tr style=\"text-align: right;\">\n",
              "      <th></th>\n",
              "      <th>ACCOUNT NUMBER</th>\n",
              "      <th>SITE NUMBER</th>\n",
              "      <th>CITY</th>\n",
              "      <th>ZIP CODE</th>\n",
              "      <th>WARD</th>\n",
              "      <th>PRECINCT</th>\n",
              "      <th>POLICE DISTRICT</th>\n",
              "      <th>LICENSE CODE</th>\n",
              "      <th>LICENSE DESCRIPTION</th>\n",
              "      <th>APPLICATION TYPE</th>\n",
              "      <th>CONDITIONAL APPROVAL</th>\n",
              "      <th>SSA</th>\n",
              "      <th>LICENSE STATUS</th>\n",
              "      <th>PAYMENT YEAR</th>\n",
              "      <th>APPLICATION REQUIREMENTS COMPLETE YEAR</th>\n",
              "      <th>DATE ISSUED YEAR</th>\n",
              "      <th>LICENSE VALIDITY</th>\n",
              "      <th>LICENSE APPROVED YEAR</th>\n",
              "      <th>LEGAL TYPE</th>\n",
              "    </tr>\n",
              "  </thead>\n",
              "  <tbody>\n",
              "    <tr>\n",
              "      <th>0</th>\n",
              "      <td>32811</td>\n",
              "      <td>1</td>\n",
              "      <td>193</td>\n",
              "      <td>1559</td>\n",
              "      <td>22.0</td>\n",
              "      <td>28.0</td>\n",
              "      <td>10.0</td>\n",
              "      <td>1010</td>\n",
              "      <td>41</td>\n",
              "      <td>4</td>\n",
              "      <td>0</td>\n",
              "      <td>25.0</td>\n",
              "      <td>AAI</td>\n",
              "      <td>2002.0</td>\n",
              "      <td>2002.0</td>\n",
              "      <td>2006</td>\n",
              "      <td>1.0</td>\n",
              "      <td>2002.0</td>\n",
              "      <td>4</td>\n",
              "    </tr>\n",
              "    <tr>\n",
              "      <th>1</th>\n",
              "      <td>262311</td>\n",
              "      <td>29</td>\n",
              "      <td>193</td>\n",
              "      <td>1548</td>\n",
              "      <td>33.0</td>\n",
              "      <td>23.0</td>\n",
              "      <td>17.0</td>\n",
              "      <td>1315</td>\n",
              "      <td>46</td>\n",
              "      <td>4</td>\n",
              "      <td>0</td>\n",
              "      <td>60.0</td>\n",
              "      <td>AAC</td>\n",
              "      <td>2005.0</td>\n",
              "      <td>2005.0</td>\n",
              "      <td>2006</td>\n",
              "      <td>1.0</td>\n",
              "      <td>2006.0</td>\n",
              "      <td>1</td>\n",
              "    </tr>\n",
              "    <tr>\n",
              "      <th>2</th>\n",
              "      <td>345008</td>\n",
              "      <td>1</td>\n",
              "      <td>466</td>\n",
              "      <td>1025</td>\n",
              "      <td>0.0</td>\n",
              "      <td>0.0</td>\n",
              "      <td>0.0</td>\n",
              "      <td>1011</td>\n",
              "      <td>30</td>\n",
              "      <td>3</td>\n",
              "      <td>0</td>\n",
              "      <td>0.0</td>\n",
              "      <td>AAI</td>\n",
              "      <td>2009.0</td>\n",
              "      <td>2009.0</td>\n",
              "      <td>2009</td>\n",
              "      <td>2.0</td>\n",
              "      <td>2009.0</td>\n",
              "      <td>1</td>\n",
              "    </tr>\n",
              "    <tr>\n",
              "      <th>3</th>\n",
              "      <td>273121</td>\n",
              "      <td>1</td>\n",
              "      <td>585</td>\n",
              "      <td>1329</td>\n",
              "      <td>0.0</td>\n",
              "      <td>0.0</td>\n",
              "      <td>0.0</td>\n",
              "      <td>1010</td>\n",
              "      <td>41</td>\n",
              "      <td>3</td>\n",
              "      <td>0</td>\n",
              "      <td>0.0</td>\n",
              "      <td>AAI</td>\n",
              "      <td>2004.0</td>\n",
              "      <td>2004.0</td>\n",
              "      <td>2004</td>\n",
              "      <td>1.0</td>\n",
              "      <td>2004.0</td>\n",
              "      <td>0</td>\n",
              "    </tr>\n",
              "    <tr>\n",
              "      <th>4</th>\n",
              "      <td>213785</td>\n",
              "      <td>1</td>\n",
              "      <td>1145</td>\n",
              "      <td>1095</td>\n",
              "      <td>0.0</td>\n",
              "      <td>0.0</td>\n",
              "      <td>0.0</td>\n",
              "      <td>1010</td>\n",
              "      <td>41</td>\n",
              "      <td>4</td>\n",
              "      <td>0</td>\n",
              "      <td>0.0</td>\n",
              "      <td>AAI</td>\n",
              "      <td>2008.0</td>\n",
              "      <td>2008.0</td>\n",
              "      <td>2008</td>\n",
              "      <td>2.0</td>\n",
              "      <td>2008.0</td>\n",
              "      <td>4</td>\n",
              "    </tr>\n",
              "  </tbody>\n",
              "</table>\n",
              "</div>\n",
              "      <button class=\"colab-df-convert\" onclick=\"convertToInteractive('df-d1e5d8fd-47c4-48f3-a229-962cf5021fc8')\"\n",
              "              title=\"Convert this dataframe to an interactive table.\"\n",
              "              style=\"display:none;\">\n",
              "        \n",
              "  <svg xmlns=\"http://www.w3.org/2000/svg\" height=\"24px\"viewBox=\"0 0 24 24\"\n",
              "       width=\"24px\">\n",
              "    <path d=\"M0 0h24v24H0V0z\" fill=\"none\"/>\n",
              "    <path d=\"M18.56 5.44l.94 2.06.94-2.06 2.06-.94-2.06-.94-.94-2.06-.94 2.06-2.06.94zm-11 1L8.5 8.5l.94-2.06 2.06-.94-2.06-.94L8.5 2.5l-.94 2.06-2.06.94zm10 10l.94 2.06.94-2.06 2.06-.94-2.06-.94-.94-2.06-.94 2.06-2.06.94z\"/><path d=\"M17.41 7.96l-1.37-1.37c-.4-.4-.92-.59-1.43-.59-.52 0-1.04.2-1.43.59L10.3 9.45l-7.72 7.72c-.78.78-.78 2.05 0 2.83L4 21.41c.39.39.9.59 1.41.59.51 0 1.02-.2 1.41-.59l7.78-7.78 2.81-2.81c.8-.78.8-2.07 0-2.86zM5.41 20L4 18.59l7.72-7.72 1.47 1.35L5.41 20z\"/>\n",
              "  </svg>\n",
              "      </button>\n",
              "      \n",
              "  <style>\n",
              "    .colab-df-container {\n",
              "      display:flex;\n",
              "      flex-wrap:wrap;\n",
              "      gap: 12px;\n",
              "    }\n",
              "\n",
              "    .colab-df-convert {\n",
              "      background-color: #E8F0FE;\n",
              "      border: none;\n",
              "      border-radius: 50%;\n",
              "      cursor: pointer;\n",
              "      display: none;\n",
              "      fill: #1967D2;\n",
              "      height: 32px;\n",
              "      padding: 0 0 0 0;\n",
              "      width: 32px;\n",
              "    }\n",
              "\n",
              "    .colab-df-convert:hover {\n",
              "      background-color: #E2EBFA;\n",
              "      box-shadow: 0px 1px 2px rgba(60, 64, 67, 0.3), 0px 1px 3px 1px rgba(60, 64, 67, 0.15);\n",
              "      fill: #174EA6;\n",
              "    }\n",
              "\n",
              "    [theme=dark] .colab-df-convert {\n",
              "      background-color: #3B4455;\n",
              "      fill: #D2E3FC;\n",
              "    }\n",
              "\n",
              "    [theme=dark] .colab-df-convert:hover {\n",
              "      background-color: #434B5C;\n",
              "      box-shadow: 0px 1px 3px 1px rgba(0, 0, 0, 0.15);\n",
              "      filter: drop-shadow(0px 1px 2px rgba(0, 0, 0, 0.3));\n",
              "      fill: #FFFFFF;\n",
              "    }\n",
              "  </style>\n",
              "\n",
              "      <script>\n",
              "        const buttonEl =\n",
              "          document.querySelector('#df-d1e5d8fd-47c4-48f3-a229-962cf5021fc8 button.colab-df-convert');\n",
              "        buttonEl.style.display =\n",
              "          google.colab.kernel.accessAllowed ? 'block' : 'none';\n",
              "\n",
              "        async function convertToInteractive(key) {\n",
              "          const element = document.querySelector('#df-d1e5d8fd-47c4-48f3-a229-962cf5021fc8');\n",
              "          const dataTable =\n",
              "            await google.colab.kernel.invokeFunction('convertToInteractive',\n",
              "                                                     [key], {});\n",
              "          if (!dataTable) return;\n",
              "\n",
              "          const docLinkHtml = 'Like what you see? Visit the ' +\n",
              "            '<a target=\"_blank\" href=https://colab.research.google.com/notebooks/data_table.ipynb>data table notebook</a>'\n",
              "            + ' to learn more about interactive tables.';\n",
              "          element.innerHTML = '';\n",
              "          dataTable['output_type'] = 'display_data';\n",
              "          await google.colab.output.renderOutput(dataTable, element);\n",
              "          const docLink = document.createElement('div');\n",
              "          docLink.innerHTML = docLinkHtml;\n",
              "          element.appendChild(docLink);\n",
              "        }\n",
              "      </script>\n",
              "    </div>\n",
              "  </div>\n",
              "  "
            ]
          },
          "metadata": {},
          "execution_count": 267
        }
      ]
    },
    {
      "cell_type": "code",
      "source": [
        "train[\"LICENSE STATUS\"].value_counts()"
      ],
      "metadata": {
        "colab": {
          "base_uri": "https://localhost:8080/"
        },
        "id": "yf49bPZNWaXl",
        "outputId": "e09180ee-1776-4908-f405-778258705cab"
      },
      "execution_count": null,
      "outputs": [
        {
          "output_type": "execute_result",
          "data": {
            "text/plain": [
              "AAI    55400\n",
              "AAC    30200\n",
              "REV      290\n",
              "REA        3\n",
              "INQ        2\n",
              "Name: LICENSE STATUS, dtype: int64"
            ]
          },
          "metadata": {},
          "execution_count": 268
        }
      ]
    },
    {
      "cell_type": "code",
      "source": [
        "train[\"LICENSE STATUS\"]=train[\"LICENSE STATUS\"].replace('AAI', 0)\n",
        "train[\"LICENSE STATUS\"]=train[\"LICENSE STATUS\"].replace('AAC', 1)\n",
        "train[\"LICENSE STATUS\"]=train[\"LICENSE STATUS\"].replace('REV', 2)\n",
        "train[\"LICENSE STATUS\"]=train[\"LICENSE STATUS\"].replace('REA', 3)\n",
        "train[\"LICENSE STATUS\"]=train[\"LICENSE STATUS\"].replace('INQ', 4)"
      ],
      "metadata": {
        "id": "e9n9vhsDVS7R"
      },
      "execution_count": null,
      "outputs": []
    },
    {
      "cell_type": "code",
      "source": [
        "encoder = LabelEncoder()\n",
        "test[\"CITY\"]=encoder.fit_transform(test[\"CITY\"])\n",
        "test[\"ZIP CODE\"]=encoder.fit_transform(test[\"ZIP CODE\"].astype(str))\n",
        "test[\"LICENSE DESCRIPTION\"]=encoder.fit_transform(test[\"LICENSE DESCRIPTION\"])\n",
        "test[\"APPLICATION TYPE\"]=encoder.fit_transform(test[\"APPLICATION TYPE\"])\n",
        "test[\"CONDITIONAL APPROVAL\"]=encoder.fit_transform(test[\"CONDITIONAL APPROVAL\"])\n",
        "test[\"LEGAL TYPE\"]=encoder.fit_transform(test[\"LEGAL TYPE\"])\n",
        "test.head()\n",
        "\n"
      ],
      "metadata": {
        "colab": {
          "base_uri": "https://localhost:8080/",
          "height": 285
        },
        "id": "LXAHO6fPWZbd",
        "outputId": "b86b742a-2a46-4a53-9aad-13eddacbfaae"
      },
      "execution_count": null,
      "outputs": [
        {
          "output_type": "execute_result",
          "data": {
            "text/plain": [
              "   ACCOUNT NUMBER  SITE NUMBER  CITY  ZIP CODE  WARD  PRECINCT  POLICE DISTRICT  LICENSE CODE  LICENSE DESCRIPTION  APPLICATION TYPE  CONDITIONAL APPROVAL   SSA  PAYMENT YEAR  APPLICATION REQUIREMENTS COMPLETE YEAR  DATE ISSUED YEAR  LICENSE VALIDITY  LICENSE APPROVED YEAR  LEGAL TYPE\n",
              "0          280120            1    59       255  42.0      67.0             18.0          1020                   82                 5                     0   0.0        2012.0                                  2011.0              2012               2.0                 2012.0           2\n",
              "1           65043            1    59       280  16.0       5.0              7.0          1010                   48                 5                     0   0.0        2012.0                                  2011.0              2012               2.0                 2012.0           1\n",
              "2          281270            1    59       250   4.0       8.0              1.0          1020                   82                 5                     0   0.0        2004.0                                  2004.0              2004               1.0                 2004.0           0\n",
              "3          335243            1    59       311   9.0      33.0              5.0          1607                   70                 5                     0   0.0        2010.0                                  2010.0              2010               2.0                 2008.0           4\n",
              "4          283018            3    59       276  15.0      26.0              9.0          1010                   48                 5                     0  39.0        2007.0                                  2007.0              2007               2.0                 2007.0           0"
            ],
            "text/html": [
              "\n",
              "  <div id=\"df-0d0ebbf5-a433-48bc-9193-f71fe447633e\">\n",
              "    <div class=\"colab-df-container\">\n",
              "      <div>\n",
              "<style scoped>\n",
              "    .dataframe tbody tr th:only-of-type {\n",
              "        vertical-align: middle;\n",
              "    }\n",
              "\n",
              "    .dataframe tbody tr th {\n",
              "        vertical-align: top;\n",
              "    }\n",
              "\n",
              "    .dataframe thead th {\n",
              "        text-align: right;\n",
              "    }\n",
              "</style>\n",
              "<table border=\"1\" class=\"dataframe\">\n",
              "  <thead>\n",
              "    <tr style=\"text-align: right;\">\n",
              "      <th></th>\n",
              "      <th>ACCOUNT NUMBER</th>\n",
              "      <th>SITE NUMBER</th>\n",
              "      <th>CITY</th>\n",
              "      <th>ZIP CODE</th>\n",
              "      <th>WARD</th>\n",
              "      <th>PRECINCT</th>\n",
              "      <th>POLICE DISTRICT</th>\n",
              "      <th>LICENSE CODE</th>\n",
              "      <th>LICENSE DESCRIPTION</th>\n",
              "      <th>APPLICATION TYPE</th>\n",
              "      <th>CONDITIONAL APPROVAL</th>\n",
              "      <th>SSA</th>\n",
              "      <th>PAYMENT YEAR</th>\n",
              "      <th>APPLICATION REQUIREMENTS COMPLETE YEAR</th>\n",
              "      <th>DATE ISSUED YEAR</th>\n",
              "      <th>LICENSE VALIDITY</th>\n",
              "      <th>LICENSE APPROVED YEAR</th>\n",
              "      <th>LEGAL TYPE</th>\n",
              "    </tr>\n",
              "  </thead>\n",
              "  <tbody>\n",
              "    <tr>\n",
              "      <th>0</th>\n",
              "      <td>280120</td>\n",
              "      <td>1</td>\n",
              "      <td>59</td>\n",
              "      <td>255</td>\n",
              "      <td>42.0</td>\n",
              "      <td>67.0</td>\n",
              "      <td>18.0</td>\n",
              "      <td>1020</td>\n",
              "      <td>82</td>\n",
              "      <td>5</td>\n",
              "      <td>0</td>\n",
              "      <td>0.0</td>\n",
              "      <td>2012.0</td>\n",
              "      <td>2011.0</td>\n",
              "      <td>2012</td>\n",
              "      <td>2.0</td>\n",
              "      <td>2012.0</td>\n",
              "      <td>2</td>\n",
              "    </tr>\n",
              "    <tr>\n",
              "      <th>1</th>\n",
              "      <td>65043</td>\n",
              "      <td>1</td>\n",
              "      <td>59</td>\n",
              "      <td>280</td>\n",
              "      <td>16.0</td>\n",
              "      <td>5.0</td>\n",
              "      <td>7.0</td>\n",
              "      <td>1010</td>\n",
              "      <td>48</td>\n",
              "      <td>5</td>\n",
              "      <td>0</td>\n",
              "      <td>0.0</td>\n",
              "      <td>2012.0</td>\n",
              "      <td>2011.0</td>\n",
              "      <td>2012</td>\n",
              "      <td>2.0</td>\n",
              "      <td>2012.0</td>\n",
              "      <td>1</td>\n",
              "    </tr>\n",
              "    <tr>\n",
              "      <th>2</th>\n",
              "      <td>281270</td>\n",
              "      <td>1</td>\n",
              "      <td>59</td>\n",
              "      <td>250</td>\n",
              "      <td>4.0</td>\n",
              "      <td>8.0</td>\n",
              "      <td>1.0</td>\n",
              "      <td>1020</td>\n",
              "      <td>82</td>\n",
              "      <td>5</td>\n",
              "      <td>0</td>\n",
              "      <td>0.0</td>\n",
              "      <td>2004.0</td>\n",
              "      <td>2004.0</td>\n",
              "      <td>2004</td>\n",
              "      <td>1.0</td>\n",
              "      <td>2004.0</td>\n",
              "      <td>0</td>\n",
              "    </tr>\n",
              "    <tr>\n",
              "      <th>3</th>\n",
              "      <td>335243</td>\n",
              "      <td>1</td>\n",
              "      <td>59</td>\n",
              "      <td>311</td>\n",
              "      <td>9.0</td>\n",
              "      <td>33.0</td>\n",
              "      <td>5.0</td>\n",
              "      <td>1607</td>\n",
              "      <td>70</td>\n",
              "      <td>5</td>\n",
              "      <td>0</td>\n",
              "      <td>0.0</td>\n",
              "      <td>2010.0</td>\n",
              "      <td>2010.0</td>\n",
              "      <td>2010</td>\n",
              "      <td>2.0</td>\n",
              "      <td>2008.0</td>\n",
              "      <td>4</td>\n",
              "    </tr>\n",
              "    <tr>\n",
              "      <th>4</th>\n",
              "      <td>283018</td>\n",
              "      <td>3</td>\n",
              "      <td>59</td>\n",
              "      <td>276</td>\n",
              "      <td>15.0</td>\n",
              "      <td>26.0</td>\n",
              "      <td>9.0</td>\n",
              "      <td>1010</td>\n",
              "      <td>48</td>\n",
              "      <td>5</td>\n",
              "      <td>0</td>\n",
              "      <td>39.0</td>\n",
              "      <td>2007.0</td>\n",
              "      <td>2007.0</td>\n",
              "      <td>2007</td>\n",
              "      <td>2.0</td>\n",
              "      <td>2007.0</td>\n",
              "      <td>0</td>\n",
              "    </tr>\n",
              "  </tbody>\n",
              "</table>\n",
              "</div>\n",
              "      <button class=\"colab-df-convert\" onclick=\"convertToInteractive('df-0d0ebbf5-a433-48bc-9193-f71fe447633e')\"\n",
              "              title=\"Convert this dataframe to an interactive table.\"\n",
              "              style=\"display:none;\">\n",
              "        \n",
              "  <svg xmlns=\"http://www.w3.org/2000/svg\" height=\"24px\"viewBox=\"0 0 24 24\"\n",
              "       width=\"24px\">\n",
              "    <path d=\"M0 0h24v24H0V0z\" fill=\"none\"/>\n",
              "    <path d=\"M18.56 5.44l.94 2.06.94-2.06 2.06-.94-2.06-.94-.94-2.06-.94 2.06-2.06.94zm-11 1L8.5 8.5l.94-2.06 2.06-.94-2.06-.94L8.5 2.5l-.94 2.06-2.06.94zm10 10l.94 2.06.94-2.06 2.06-.94-2.06-.94-.94-2.06-.94 2.06-2.06.94z\"/><path d=\"M17.41 7.96l-1.37-1.37c-.4-.4-.92-.59-1.43-.59-.52 0-1.04.2-1.43.59L10.3 9.45l-7.72 7.72c-.78.78-.78 2.05 0 2.83L4 21.41c.39.39.9.59 1.41.59.51 0 1.02-.2 1.41-.59l7.78-7.78 2.81-2.81c.8-.78.8-2.07 0-2.86zM5.41 20L4 18.59l7.72-7.72 1.47 1.35L5.41 20z\"/>\n",
              "  </svg>\n",
              "      </button>\n",
              "      \n",
              "  <style>\n",
              "    .colab-df-container {\n",
              "      display:flex;\n",
              "      flex-wrap:wrap;\n",
              "      gap: 12px;\n",
              "    }\n",
              "\n",
              "    .colab-df-convert {\n",
              "      background-color: #E8F0FE;\n",
              "      border: none;\n",
              "      border-radius: 50%;\n",
              "      cursor: pointer;\n",
              "      display: none;\n",
              "      fill: #1967D2;\n",
              "      height: 32px;\n",
              "      padding: 0 0 0 0;\n",
              "      width: 32px;\n",
              "    }\n",
              "\n",
              "    .colab-df-convert:hover {\n",
              "      background-color: #E2EBFA;\n",
              "      box-shadow: 0px 1px 2px rgba(60, 64, 67, 0.3), 0px 1px 3px 1px rgba(60, 64, 67, 0.15);\n",
              "      fill: #174EA6;\n",
              "    }\n",
              "\n",
              "    [theme=dark] .colab-df-convert {\n",
              "      background-color: #3B4455;\n",
              "      fill: #D2E3FC;\n",
              "    }\n",
              "\n",
              "    [theme=dark] .colab-df-convert:hover {\n",
              "      background-color: #434B5C;\n",
              "      box-shadow: 0px 1px 3px 1px rgba(0, 0, 0, 0.15);\n",
              "      filter: drop-shadow(0px 1px 2px rgba(0, 0, 0, 0.3));\n",
              "      fill: #FFFFFF;\n",
              "    }\n",
              "  </style>\n",
              "\n",
              "      <script>\n",
              "        const buttonEl =\n",
              "          document.querySelector('#df-0d0ebbf5-a433-48bc-9193-f71fe447633e button.colab-df-convert');\n",
              "        buttonEl.style.display =\n",
              "          google.colab.kernel.accessAllowed ? 'block' : 'none';\n",
              "\n",
              "        async function convertToInteractive(key) {\n",
              "          const element = document.querySelector('#df-0d0ebbf5-a433-48bc-9193-f71fe447633e');\n",
              "          const dataTable =\n",
              "            await google.colab.kernel.invokeFunction('convertToInteractive',\n",
              "                                                     [key], {});\n",
              "          if (!dataTable) return;\n",
              "\n",
              "          const docLinkHtml = 'Like what you see? Visit the ' +\n",
              "            '<a target=\"_blank\" href=https://colab.research.google.com/notebooks/data_table.ipynb>data table notebook</a>'\n",
              "            + ' to learn more about interactive tables.';\n",
              "          element.innerHTML = '';\n",
              "          dataTable['output_type'] = 'display_data';\n",
              "          await google.colab.output.renderOutput(dataTable, element);\n",
              "          const docLink = document.createElement('div');\n",
              "          docLink.innerHTML = docLinkHtml;\n",
              "          element.appendChild(docLink);\n",
              "        }\n",
              "      </script>\n",
              "    </div>\n",
              "  </div>\n",
              "  "
            ]
          },
          "metadata": {},
          "execution_count": 270
        }
      ]
    },
    {
      "cell_type": "code",
      "source": [
        "corr = train.corr()\n",
        "corr.shape"
      ],
      "metadata": {
        "colab": {
          "base_uri": "https://localhost:8080/"
        },
        "id": "IH3WXHJTWtVB",
        "outputId": "f5e201aa-d134-4b51-c87e-88d7591c5bac"
      },
      "execution_count": null,
      "outputs": [
        {
          "output_type": "execute_result",
          "data": {
            "text/plain": [
              "(19, 19)"
            ]
          },
          "metadata": {},
          "execution_count": 271
        }
      ]
    },
    {
      "cell_type": "code",
      "source": [
        "plt.figure(figsize=(20,20))\n",
        "sns.heatmap(corr, cbar=True, square= True, fmt='.1f', annot=True, annot_kws={'size':15}, cmap='crest')\n",
        "plt.show()"
      ],
      "metadata": {
        "colab": {
          "base_uri": "https://localhost:8080/",
          "height": 1000
        },
        "id": "C-XmurRIWxrc",
        "outputId": "e5c4031f-6303-4a7f-de5a-8ee346a65db6"
      },
      "execution_count": null,
      "outputs": [
        {
          "output_type": "display_data",
          "data": {
            "text/plain": [
              "<Figure size 1440x1440 with 2 Axes>"
            ],
            "image/png": "[encoded data removed]"
          },
          "metadata": {
            "needs_background": "light"
          }
        }
      ]
    },
    {
      "cell_type": "code",
      "source": [
        "X=train.drop(['LICENSE STATUS'], axis = 1)\n",
        "y=train['LICENSE STATUS']"
      ],
      "metadata": {
        "id": "uEy6KLSsW0XA"
      },
      "execution_count": null,
      "outputs": []
    },
    {
      "cell_type": "code",
      "source": [
        "# Since our classes are highly skewed we should make them equivalent in order to have a normal distribution of the classes.\n",
        "\n",
        "# Lets shuffle the data before creating the subsamples\n",
        "\n",
        "train=train.sample(frac=1)\n",
        "\n",
        "# Amount of fraud classes in proportion.\n",
        "fraud_df=train[train['LICENSE STATUS'] == 4]\n",
        "pending_df=train[train['LICENSE STATUS'] == 3]\n",
        "accepted_df=train[train['LICENSE STATUS'] == 2]\n",
        "\n",
        "non_fraud_df=train[train['LICENSE STATUS'] == 1][:600]\n",
        "non_accepted_df=train[train['LICENSE STATUS'] == 0][:1000]\n",
        "\n",
        "normal_distributed_df = pd.concat([fraud_df, pending_df, accepted_df, non_fraud_df, non_accepted_df])\n",
        "\n",
        "# Shuffle dataframe rows\n",
        "new_df = normal_distributed_df.sample(frac=1, random_state=42)\n",
        "\n",
        "new_df.head()"
      ],
      "metadata": {
        "colab": {
          "base_uri": "https://localhost:8080/",
          "height": 285
        },
        "id": "GwC7zZ8-XWz7",
        "outputId": "da9ce24d-3974-4ba4-8a30-7806d7e7090d"
      },
      "execution_count": null,
      "outputs": [
        {
          "output_type": "execute_result",
          "data": {
            "text/plain": [
              "       ACCOUNT NUMBER  SITE NUMBER  CITY  ZIP CODE  WARD  PRECINCT  \\\n",
              "10759           15382            2   129      1435   0.0       0.0   \n",
              "27154           34483            1   193      1575  22.0       0.0   \n",
              "61594          247772            1   151      1283   0.0       0.0   \n",
              "6577            51321            3   402      1014   0.0       0.0   \n",
              "81017           37302            1   193      1528  25.0      13.0   \n",
              "\n",
              "       POLICE DISTRICT  LICENSE CODE  LICENSE DESCRIPTION  APPLICATION TYPE  \\\n",
              "10759              0.0          1010                   41                 4   \n",
              "27154             10.0          1010                   41                 4   \n",
              "61594              0.0          1010                   41                 4   \n",
              "6577               0.0          1046                    9                 4   \n",
              "81017             12.0          1010                   41                 4   \n",
              "\n",
              "       CONDITIONAL APPROVAL  SSA  LICENSE STATUS  PAYMENT YEAR  \\\n",
              "10759                     0  0.0               0        2007.0   \n",
              "27154                     0  0.0               1        2007.0   \n",
              "61594                     0  0.0               0        2007.0   \n",
              "6577                      0  0.0               0        2006.0   \n",
              "81017                     0  0.0               1        2003.0   \n",
              "\n",
              "       APPLICATION REQUIREMENTS COMPLETE YEAR  DATE ISSUED YEAR  \\\n",
              "10759                                  2006.0              2007   \n",
              "27154                                  2002.0              2002   \n",
              "61594                                  2006.0              2007   \n",
              "6577                                   2005.0              2006   \n",
              "81017                                  2002.0              2003   \n",
              "\n",
              "       LICENSE VALIDITY  LICENSE APPROVED YEAR  LEGAL TYPE  \n",
              "10759               2.0                 2007.0           0  \n",
              "27154               2.0                 2002.0           1  \n",
              "61594               1.0                 2007.0           4  \n",
              "6577                1.0                 2006.0           0  \n",
              "81017               1.0                 2003.0           4  "
            ],
            "text/html": [
              "\n",
              "  <div id=\"df-b4bb4402-168f-44b8-9b00-77e0c0e3984f\">\n",
              "    <div class=\"colab-df-container\">\n",
              "      <div>\n",
              "<style scoped>\n",
              "    .dataframe tbody tr th:only-of-type {\n",
              "        vertical-align: middle;\n",
              "    }\n",
              "\n",
              "    .dataframe tbody tr th {\n",
              "        vertical-align: top;\n",
              "    }\n",
              "\n",
              "    .dataframe thead th {\n",
              "        text-align: right;\n",
              "    }\n",
              "</style>\n",
              "<table border=\"1\" class=\"dataframe\">\n",
              "  <thead>\n",
              "    <tr style=\"text-align: right;\">\n",
              "      <th></th>\n",
              "      <th>ACCOUNT NUMBER</th>\n",
              "      <th>SITE NUMBER</th>\n",
              "      <th>CITY</th>\n",
              "      <th>ZIP CODE</th>\n",
              "      <th>WARD</th>\n",
              "      <th>PRECINCT</th>\n",
              "      <th>POLICE DISTRICT</th>\n",
              "      <th>LICENSE CODE</th>\n",
              "      <th>LICENSE DESCRIPTION</th>\n",
              "      <th>APPLICATION TYPE</th>\n",
              "      <th>CONDITIONAL APPROVAL</th>\n",
              "      <th>SSA</th>\n",
              "      <th>LICENSE STATUS</th>\n",
              "      <th>PAYMENT YEAR</th>\n",
              "      <th>APPLICATION REQUIREMENTS COMPLETE YEAR</th>\n",
              "      <th>DATE ISSUED YEAR</th>\n",
              "      <th>LICENSE VALIDITY</th>\n",
              "      <th>LICENSE APPROVED YEAR</th>\n",
              "      <th>LEGAL TYPE</th>\n",
              "    </tr>\n",
              "  </thead>\n",
              "  <tbody>\n",
              "    <tr>\n",
              "      <th>10759</th>\n",
              "      <td>15382</td>\n",
              "      <td>2</td>\n",
              "      <td>129</td>\n",
              "      <td>1435</td>\n",
              "      <td>0.0</td>\n",
              "      <td>0.0</td>\n",
              "      <td>0.0</td>\n",
              "      <td>1010</td>\n",
              "      <td>41</td>\n",
              "      <td>4</td>\n",
              "      <td>0</td>\n",
              "      <td>0.0</td>\n",
              "      <td>0</td>\n",
              "      <td>2007.0</td>\n",
              "      <td>2006.0</td>\n",
              "      <td>2007</td>\n",
              "      <td>2.0</td>\n",
              "      <td>2007.0</td>\n",
              "      <td>0</td>\n",
              "    </tr>\n",
              "    <tr>\n",
              "      <th>27154</th>\n",
              "      <td>34483</td>\n",
              "      <td>1</td>\n",
              "      <td>193</td>\n",
              "      <td>1575</td>\n",
              "      <td>22.0</td>\n",
              "      <td>0.0</td>\n",
              "      <td>10.0</td>\n",
              "      <td>1010</td>\n",
              "      <td>41</td>\n",
              "      <td>4</td>\n",
              "      <td>0</td>\n",
              "      <td>0.0</td>\n",
              "      <td>1</td>\n",
              "      <td>2007.0</td>\n",
              "      <td>2002.0</td>\n",
              "      <td>2002</td>\n",
              "      <td>2.0</td>\n",
              "      <td>2002.0</td>\n",
              "      <td>1</td>\n",
              "    </tr>\n",
              "    <tr>\n",
              "      <th>61594</th>\n",
              "      <td>247772</td>\n",
              "      <td>1</td>\n",
              "      <td>151</td>\n",
              "      <td>1283</td>\n",
              "      <td>0.0</td>\n",
              "      <td>0.0</td>\n",
              "      <td>0.0</td>\n",
              "      <td>1010</td>\n",
              "      <td>41</td>\n",
              "      <td>4</td>\n",
              "      <td>0</td>\n",
              "      <td>0.0</td>\n",
              "      <td>0</td>\n",
              "      <td>2007.0</td>\n",
              "      <td>2006.0</td>\n",
              "      <td>2007</td>\n",
              "      <td>1.0</td>\n",
              "      <td>2007.0</td>\n",
              "      <td>4</td>\n",
              "    </tr>\n",
              "    <tr>\n",
              "      <th>6577</th>\n",
              "      <td>51321</td>\n",
              "      <td>3</td>\n",
              "      <td>402</td>\n",
              "      <td>1014</td>\n",
              "      <td>0.0</td>\n",
              "      <td>0.0</td>\n",
              "      <td>0.0</td>\n",
              "      <td>1046</td>\n",
              "      <td>9</td>\n",
              "      <td>4</td>\n",
              "      <td>0</td>\n",
              "      <td>0.0</td>\n",
              "      <td>0</td>\n",
              "      <td>2006.0</td>\n",
              "      <td>2005.0</td>\n",
              "      <td>2006</td>\n",
              "      <td>1.0</td>\n",
              "      <td>2006.0</td>\n",
              "      <td>0</td>\n",
              "    </tr>\n",
              "    <tr>\n",
              "      <th>81017</th>\n",
              "      <td>37302</td>\n",
              "      <td>1</td>\n",
              "      <td>193</td>\n",
              "      <td>1528</td>\n",
              "      <td>25.0</td>\n",
              "      <td>13.0</td>\n",
              "      <td>12.0</td>\n",
              "      <td>1010</td>\n",
              "      <td>41</td>\n",
              "      <td>4</td>\n",
              "      <td>0</td>\n",
              "      <td>0.0</td>\n",
              "      <td>1</td>\n",
              "      <td>2003.0</td>\n",
              "      <td>2002.0</td>\n",
              "      <td>2003</td>\n",
              "      <td>1.0</td>\n",
              "      <td>2003.0</td>\n",
              "      <td>4</td>\n",
              "    </tr>\n",
              "  </tbody>\n",
              "</table>\n",
              "</div>\n",
              "      <button class=\"colab-df-convert\" onclick=\"convertToInteractive('df-b4bb4402-168f-44b8-9b00-77e0c0e3984f')\"\n",
              "              title=\"Convert this dataframe to an interactive table.\"\n",
              "              style=\"display:none;\">\n",
              "        \n",
              "  <svg xmlns=\"http://www.w3.org/2000/svg\" height=\"24px\"viewBox=\"0 0 24 24\"\n",
              "       width=\"24px\">\n",
              "    <path d=\"M0 0h24v24H0V0z\" fill=\"none\"/>\n",
              "    <path d=\"M18.56 5.44l.94 2.06.94-2.06 2.06-.94-2.06-.94-.94-2.06-.94 2.06-2.06.94zm-11 1L8.5 8.5l.94-2.06 2.06-.94-2.06-.94L8.5 2.5l-.94 2.06-2.06.94zm10 10l.94 2.06.94-2.06 2.06-.94-2.06-.94-.94-2.06-.94 2.06-2.06.94z\"/><path d=\"M17.41 7.96l-1.37-1.37c-.4-.4-.92-.59-1.43-.59-.52 0-1.04.2-1.43.59L10.3 9.45l-7.72 7.72c-.78.78-.78 2.05 0 2.83L4 21.41c.39.39.9.59 1.41.59.51 0 1.02-.2 1.41-.59l7.78-7.78 2.81-2.81c.8-.78.8-2.07 0-2.86zM5.41 20L4 18.59l7.72-7.72 1.47 1.35L5.41 20z\"/>\n",
              "  </svg>\n",
              "      </button>\n",
              "      \n",
              "  <style>\n",
              "    .colab-df-container {\n",
              "      display:flex;\n",
              "      flex-wrap:wrap;\n",
              "      gap: 12px;\n",
              "    }\n",
              "\n",
              "    .colab-df-convert {\n",
              "      background-color: #E8F0FE;\n",
              "      border: none;\n",
              "      border-radius: 50%;\n",
              "      cursor: pointer;\n",
              "      display: none;\n",
              "      fill: #1967D2;\n",
              "      height: 32px;\n",
              "      padding: 0 0 0 0;\n",
              "      width: 32px;\n",
              "    }\n",
              "\n",
              "    .colab-df-convert:hover {\n",
              "      background-color: #E2EBFA;\n",
              "      box-shadow: 0px 1px 2px rgba(60, 64, 67, 0.3), 0px 1px 3px 1px rgba(60, 64, 67, 0.15);\n",
              "      fill: #174EA6;\n",
              "    }\n",
              "\n",
              "    [theme=dark] .colab-df-convert {\n",
              "      background-color: #3B4455;\n",
              "      fill: #D2E3FC;\n",
              "    }\n",
              "\n",
              "    [theme=dark] .colab-df-convert:hover {\n",
              "      background-color: #434B5C;\n",
              "      box-shadow: 0px 1px 3px 1px rgba(0, 0, 0, 0.15);\n",
              "      filter: drop-shadow(0px 1px 2px rgba(0, 0, 0, 0.3));\n",
              "      fill: #FFFFFF;\n",
              "    }\n",
              "  </style>\n",
              "\n",
              "      <script>\n",
              "        const buttonEl =\n",
              "          document.querySelector('#df-b4bb4402-168f-44b8-9b00-77e0c0e3984f button.colab-df-convert');\n",
              "        buttonEl.style.display =\n",
              "          google.colab.kernel.accessAllowed ? 'block' : 'none';\n",
              "\n",
              "        async function convertToInteractive(key) {\n",
              "          const element = document.querySelector('#df-b4bb4402-168f-44b8-9b00-77e0c0e3984f');\n",
              "          const dataTable =\n",
              "            await google.colab.kernel.invokeFunction('convertToInteractive',\n",
              "                                                     [key], {});\n",
              "          if (!dataTable) return;\n",
              "\n",
              "          const docLinkHtml = 'Like what you see? Visit the ' +\n",
              "            '<a target=\"_blank\" href=https://colab.research.google.com/notebooks/data_table.ipynb>data table notebook</a>'\n",
              "            + ' to learn more about interactive tables.';\n",
              "          element.innerHTML = '';\n",
              "          dataTable['output_type'] = 'display_data';\n",
              "          await google.colab.output.renderOutput(dataTable, element);\n",
              "          const docLink = document.createElement('div');\n",
              "          docLink.innerHTML = docLinkHtml;\n",
              "          element.appendChild(docLink);\n",
              "        }\n",
              "      </script>\n",
              "    </div>\n",
              "  </div>\n",
              "  "
            ]
          },
          "metadata": {},
          "execution_count": 96
        }
      ]
    },
    {
      "cell_type": "code",
      "source": [
        "new_df['LICENSE STATUS'].value_counts()"
      ],
      "metadata": {
        "colab": {
          "base_uri": "https://localhost:8080/"
        },
        "id": "l1_smjaNXuPq",
        "outputId": "8d08fafc-882e-4423-dd7c-16ea675e0a92"
      },
      "execution_count": null,
      "outputs": [
        {
          "output_type": "execute_result",
          "data": {
            "text/plain": [
              "0    1000\n",
              "1     600\n",
              "2     290\n",
              "3       3\n",
              "4       2\n",
              "Name: LICENSE STATUS, dtype: int64"
            ]
          },
          "metadata": {},
          "execution_count": 97
        }
      ]
    },
    {
      "cell_type": "code",
      "source": [
        "plt.title('Without Distribution of target variable')\n",
        "sns.countplot(train['LICENSE STATUS'])\n",
        "plt.show()"
      ],
      "metadata": {
        "colab": {
          "base_uri": "https://localhost:8080/",
          "height": 350
        },
        "id": "Fq0pmSUrXDpI",
        "outputId": "d1830f28-34a4-40aa-ad4f-5b580c86021c"
      },
      "execution_count": null,
      "outputs": [
        {
          "output_type": "stream",
          "name": "stderr",
          "text": [
            "/usr/local/lib/python3.7/dist-packages/seaborn/_decorators.py:43: FutureWarning: Pass the following variable as a keyword arg: x. From version 0.12, the only valid positional argument will be `data`, and passing other arguments without an explicit keyword will result in an error or misinterpretation.\n",
            "  FutureWarning\n"
          ]
        },
        {
          "output_type": "display_data",
          "data": {
            "text/plain": [
              "<Figure size 432x288 with 1 Axes>"
            ],
            "image/png": "[encoded data removed]"
          },
          "metadata": {
            "needs_background": "light"
          }
        }
      ]
    },
    {
      "cell_type": "code",
      "source": [
        "plt.title('Distribution of target variable')\n",
        "sns.countplot(new_df['LICENSE STATUS'])\n",
        "plt.show()"
      ],
      "metadata": {
        "colab": {
          "base_uri": "https://localhost:8080/",
          "height": 350
        },
        "id": "fpv_zAY9XOnn",
        "outputId": "28adbb58-4ab5-43b8-e0a8-adefca021f09"
      },
      "execution_count": null,
      "outputs": [
        {
          "output_type": "stream",
          "name": "stderr",
          "text": [
            "/usr/local/lib/python3.7/dist-packages/seaborn/_decorators.py:43: FutureWarning: Pass the following variable as a keyword arg: x. From version 0.12, the only valid positional argument will be `data`, and passing other arguments without an explicit keyword will result in an error or misinterpretation.\n",
            "  FutureWarning\n"
          ]
        },
        {
          "output_type": "display_data",
          "data": {
            "text/plain": [
              "<Figure size 432x288 with 1 Axes>"
            ],
            "image/png": "[encoded data removed]"
          },
          "metadata": {
            "needs_background": "light"
          }
        }
      ]
    },
    {
      "cell_type": "code",
      "source": [
        "from sklearn.model_selection import train_test_split\n",
        "X_train, X_test, y_train, y_test = train_test_split(X,y, test_size = 0.25, random_state = 42)"
      ],
      "metadata": {
        "id": "DZ07G7jJX55u"
      },
      "execution_count": null,
      "outputs": []
    },
    {
      "cell_type": "markdown",
      "source": [
        "# **Logistic Regression** "
      ],
      "metadata": {
        "id": "kabq-rqPlzMa"
      }
    },
    {
      "cell_type": "code",
      "source": [
        "# Logistic Regression\n",
        "\n",
        "# Import library for LogisticRegression\n",
        "from sklearn.linear_model import LogisticRegression\n",
        "\n",
        "# Create a Logistic regression classifier\n",
        "logreg = LogisticRegression()\n",
        "\n",
        "# Train the model using the training sets \n",
        "logreg.fit(X_train, y_train)"
      ],
      "metadata": {
        "colab": {
          "base_uri": "https://localhost:8080/"
        },
        "id": "sWVTqu34YBTw",
        "outputId": "a10e0f11-2f3e-4c19-f186-cd0635025a5a"
      },
      "execution_count": null,
      "outputs": [
        {
          "output_type": "stream",
          "name": "stderr",
          "text": [
            "/usr/local/lib/python3.7/dist-packages/sklearn/linear_model/_logistic.py:818: ConvergenceWarning: lbfgs failed to converge (status=1):\n",
            "STOP: TOTAL NO. of ITERATIONS REACHED LIMIT.\n",
            "\n",
            "Increase the number of iterations (max_iter) or scale the data as shown in:\n",
            "    https://scikit-learn.org/stable/modules/preprocessing.html\n",
            "Please also refer to the documentation for alternative solver options:\n",
            "    https://scikit-learn.org/stable/modules/linear_model.html#logistic-regression\n",
            "  extra_warning_msg=_LOGISTIC_SOLVER_CONVERGENCE_MSG,\n"
          ]
        },
        {
          "output_type": "execute_result",
          "data": {
            "text/plain": [
              "LogisticRegression()"
            ]
          },
          "metadata": {},
          "execution_count": 101
        }
      ]
    },
    {
      "cell_type": "code",
      "source": [
        "# Calculating cross validation score\n",
        "from sklearn.model_selection import cross_val_score\n",
        "training_score = cross_val_score(logreg, X_train, y_train, cv=10)"
      ],
      "metadata": {
        "colab": {
          "base_uri": "https://localhost:8080/"
        },
        "id": "PQccgELxYE0f",
        "outputId": "e4a456ae-578f-4a20-e08f-90a5101af7c7"
      },
      "execution_count": null,
      "outputs": [
        {
          "output_type": "stream",
          "name": "stderr",
          "text": [
            "/usr/local/lib/python3.7/dist-packages/sklearn/model_selection/_split.py:680: UserWarning: The least populated class in y has only 2 members, which is less than n_splits=10.\n",
            "  UserWarning,\n",
            "/usr/local/lib/python3.7/dist-packages/sklearn/linear_model/_logistic.py:818: ConvergenceWarning: lbfgs failed to converge (status=1):\n",
            "STOP: TOTAL NO. of ITERATIONS REACHED LIMIT.\n",
            "\n",
            "Increase the number of iterations (max_iter) or scale the data as shown in:\n",
            "    https://scikit-learn.org/stable/modules/preprocessing.html\n",
            "Please also refer to the documentation for alternative solver options:\n",
            "    https://scikit-learn.org/stable/modules/linear_model.html#logistic-regression\n",
            "  extra_warning_msg=_LOGISTIC_SOLVER_CONVERGENCE_MSG,\n",
            "/usr/local/lib/python3.7/dist-packages/sklearn/linear_model/_logistic.py:818: ConvergenceWarning: lbfgs failed to converge (status=1):\n",
            "STOP: TOTAL NO. of ITERATIONS REACHED LIMIT.\n",
            "\n",
            "Increase the number of iterations (max_iter) or scale the data as shown in:\n",
            "    https://scikit-learn.org/stable/modules/preprocessing.html\n",
            "Please also refer to the documentation for alternative solver options:\n",
            "    https://scikit-learn.org/stable/modules/linear_model.html#logistic-regression\n",
            "  extra_warning_msg=_LOGISTIC_SOLVER_CONVERGENCE_MSG,\n",
            "/usr/local/lib/python3.7/dist-packages/sklearn/linear_model/_logistic.py:818: ConvergenceWarning: lbfgs failed to converge (status=1):\n",
            "STOP: TOTAL NO. of ITERATIONS REACHED LIMIT.\n",
            "\n",
            "Increase the number of iterations (max_iter) or scale the data as shown in:\n",
            "    https://scikit-learn.org/stable/modules/preprocessing.html\n",
            "Please also refer to the documentation for alternative solver options:\n",
            "    https://scikit-learn.org/stable/modules/linear_model.html#logistic-regression\n",
            "  extra_warning_msg=_LOGISTIC_SOLVER_CONVERGENCE_MSG,\n",
            "/usr/local/lib/python3.7/dist-packages/sklearn/linear_model/_logistic.py:818: ConvergenceWarning: lbfgs failed to converge (status=1):\n",
            "STOP: TOTAL NO. of ITERATIONS REACHED LIMIT.\n",
            "\n",
            "Increase the number of iterations (max_iter) or scale the data as shown in:\n",
            "    https://scikit-learn.org/stable/modules/preprocessing.html\n",
            "Please also refer to the documentation for alternative solver options:\n",
            "    https://scikit-learn.org/stable/modules/linear_model.html#logistic-regression\n",
            "  extra_warning_msg=_LOGISTIC_SOLVER_CONVERGENCE_MSG,\n",
            "/usr/local/lib/python3.7/dist-packages/sklearn/linear_model/_logistic.py:818: ConvergenceWarning: lbfgs failed to converge (status=1):\n",
            "STOP: TOTAL NO. of ITERATIONS REACHED LIMIT.\n",
            "\n",
            "Increase the number of iterations (max_iter) or scale the data as shown in:\n",
            "    https://scikit-learn.org/stable/modules/preprocessing.html\n",
            "Please also refer to the documentation for alternative solver options:\n",
            "    https://scikit-learn.org/stable/modules/linear_model.html#logistic-regression\n",
            "  extra_warning_msg=_LOGISTIC_SOLVER_CONVERGENCE_MSG,\n",
            "/usr/local/lib/python3.7/dist-packages/sklearn/linear_model/_logistic.py:818: ConvergenceWarning: lbfgs failed to converge (status=1):\n",
            "STOP: TOTAL NO. of ITERATIONS REACHED LIMIT.\n",
            "\n",
            "Increase the number of iterations (max_iter) or scale the data as shown in:\n",
            "    https://scikit-learn.org/stable/modules/preprocessing.html\n",
            "Please also refer to the documentation for alternative solver options:\n",
            "    https://scikit-learn.org/stable/modules/linear_model.html#logistic-regression\n",
            "  extra_warning_msg=_LOGISTIC_SOLVER_CONVERGENCE_MSG,\n",
            "/usr/local/lib/python3.7/dist-packages/sklearn/linear_model/_logistic.py:818: ConvergenceWarning: lbfgs failed to converge (status=1):\n",
            "STOP: TOTAL NO. of ITERATIONS REACHED LIMIT.\n",
            "\n",
            "Increase the number of iterations (max_iter) or scale the data as shown in:\n",
            "    https://scikit-learn.org/stable/modules/preprocessing.html\n",
            "Please also refer to the documentation for alternative solver options:\n",
            "    https://scikit-learn.org/stable/modules/linear_model.html#logistic-regression\n",
            "  extra_warning_msg=_LOGISTIC_SOLVER_CONVERGENCE_MSG,\n",
            "/usr/local/lib/python3.7/dist-packages/sklearn/linear_model/_logistic.py:818: ConvergenceWarning: lbfgs failed to converge (status=1):\n",
            "STOP: TOTAL NO. of ITERATIONS REACHED LIMIT.\n",
            "\n",
            "Increase the number of iterations (max_iter) or scale the data as shown in:\n",
            "    https://scikit-learn.org/stable/modules/preprocessing.html\n",
            "Please also refer to the documentation for alternative solver options:\n",
            "    https://scikit-learn.org/stable/modules/linear_model.html#logistic-regression\n",
            "  extra_warning_msg=_LOGISTIC_SOLVER_CONVERGENCE_MSG,\n",
            "/usr/local/lib/python3.7/dist-packages/sklearn/linear_model/_logistic.py:818: ConvergenceWarning: lbfgs failed to converge (status=1):\n",
            "STOP: TOTAL NO. of ITERATIONS REACHED LIMIT.\n",
            "\n",
            "Increase the number of iterations (max_iter) or scale the data as shown in:\n",
            "    https://scikit-learn.org/stable/modules/preprocessing.html\n",
            "Please also refer to the documentation for alternative solver options:\n",
            "    https://scikit-learn.org/stable/modules/linear_model.html#logistic-regression\n",
            "  extra_warning_msg=_LOGISTIC_SOLVER_CONVERGENCE_MSG,\n",
            "/usr/local/lib/python3.7/dist-packages/sklearn/linear_model/_logistic.py:818: ConvergenceWarning: lbfgs failed to converge (status=1):\n",
            "STOP: TOTAL NO. of ITERATIONS REACHED LIMIT.\n",
            "\n",
            "Increase the number of iterations (max_iter) or scale the data as shown in:\n",
            "    https://scikit-learn.org/stable/modules/preprocessing.html\n",
            "Please also refer to the documentation for alternative solver options:\n",
            "    https://scikit-learn.org/stable/modules/linear_model.html#logistic-regression\n",
            "  extra_warning_msg=_LOGISTIC_SOLVER_CONVERGENCE_MSG,\n"
          ]
        }
      ]
    },
    {
      "cell_type": "code",
      "source": [
        "y_pred = logreg.predict(X_test)"
      ],
      "metadata": {
        "id": "1B6flF4dYKVh"
      },
      "execution_count": null,
      "outputs": []
    },
    {
      "cell_type": "code",
      "source": [
        "from sklearn import metrics\n",
        "acc_logreg = round( metrics.accuracy_score(y_test, y_pred) * 100, 2 )\n",
        "print( 'Accuracy', acc_logreg )"
      ],
      "metadata": {
        "colab": {
          "base_uri": "https://localhost:8080/"
        },
        "id": "--nUgsQ8YVSc",
        "outputId": "4dca629a-7c53-41ba-9b96-62fb72ad529e"
      },
      "execution_count": null,
      "outputs": [
        {
          "output_type": "stream",
          "name": "stdout",
          "text": [
            "Accuracy 76.26\n"
          ]
        }
      ]
    },
    {
      "cell_type": "code",
      "source": [
        "from sklearn.metrics import confusion_matrix\n",
        "\n",
        "#Get the confusion matrix\n",
        "cf_matrix = confusion_matrix(y_test, y_pred)\n",
        "\n",
        "print(cf_matrix)\n"
      ],
      "metadata": {
        "colab": {
          "base_uri": "https://localhost:8080/"
        },
        "id": "_1RmXJzoZYd8",
        "outputId": "c3072f84-7f24-41c3-ab77-afeec2444d1f"
      },
      "execution_count": null,
      "outputs": [
        {
          "output_type": "stream",
          "name": "stdout",
          "text": [
            "[[10755  3017     0     0]\n",
            " [ 2012  5622     0     0]\n",
            " [   10    57     0     0]\n",
            " [    0     1     0     0]]\n"
          ]
        }
      ]
    },
    {
      "cell_type": "markdown",
      "source": [
        "#**NAIVE BAYES** "
      ],
      "metadata": {
        "id": "2blvTvmiaoGp"
      }
    },
    {
      "cell_type": "code",
      "source": [
        "from sklearn.naive_bayes import GaussianNB\n",
        "\n",
        "# Create a Gaussian Classifier\n",
        "model = GaussianNB()\n",
        "\n",
        "# Train the model using the training sets \n",
        "model.fit(X_train,y_train)"
      ],
      "metadata": {
        "colab": {
          "base_uri": "https://localhost:8080/"
        },
        "id": "d0ep3zz_ZbmT",
        "outputId": "539cdc54-2dc3-41cc-fa97-831e9c890b26"
      },
      "execution_count": null,
      "outputs": [
        {
          "output_type": "execute_result",
          "data": {
            "text/plain": [
              "GaussianNB()"
            ]
          },
          "metadata": {},
          "execution_count": 106
        }
      ]
    },
    {
      "cell_type": "code",
      "source": [
        "y_pred = model.predict(X_test)"
      ],
      "metadata": {
        "id": "xghi_mu3aJyh"
      },
      "execution_count": null,
      "outputs": []
    },
    {
      "cell_type": "code",
      "source": [
        "acc_nb = round( metrics.accuracy_score(y_test, y_pred) * 100, 2 )\n",
        "print( 'Total Accuracy : ', acc_nb )"
      ],
      "metadata": {
        "colab": {
          "base_uri": "https://localhost:8080/"
        },
        "id": "ZtpiH9-maxnk",
        "outputId": "9113c0a9-46bd-40de-cf80-d68504b510c9"
      },
      "execution_count": null,
      "outputs": [
        {
          "output_type": "stream",
          "name": "stdout",
          "text": [
            "Total Accuracy :  60.13\n"
          ]
        }
      ]
    },
    {
      "cell_type": "code",
      "source": [
        "cf_matrix = confusion_matrix(y_test, y_pred)\n",
        "\n",
        "print(cf_matrix)\n"
      ],
      "metadata": {
        "colab": {
          "base_uri": "https://localhost:8080/"
        },
        "id": "w6c85by1azhU",
        "outputId": "52b2030e-7cbc-48ce-a29f-8982924998cc"
      },
      "execution_count": null,
      "outputs": [
        {
          "output_type": "stream",
          "name": "stdout",
          "text": [
            "[[11527   840  1386    19]\n",
            " [ 1282  1322  4974    56]\n",
            " [    0     2    64     1]\n",
            " [    0     0     1     0]]\n"
          ]
        }
      ]
    },
    {
      "cell_type": "markdown",
      "source": [
        "#**Decision Tree**"
      ],
      "metadata": {
        "id": "4WNDCGxzbeB6"
      }
    },
    {
      "cell_type": "code",
      "source": [
        "from sklearn.tree import DecisionTreeClassifier\n",
        "from sklearn.model_selection import GridSearchCV\n",
        "\n",
        "# Create a Decision tree classifier model\n",
        "clf = DecisionTreeClassifier()\n",
        "\n",
        "# Hyperparameter Optimization\n",
        "parameters={'max_features': ['log2', 'sqrt','auto'], \n",
        "              'criterion': ['entropy', 'gini'],\n",
        "              'max_depth': [2, 3, 5, 10, 50], \n",
        "              'min_samples_split': [2, 3, 50, 100],\n",
        "              'min_samples_leaf': [1, 5, 8, 10]\n",
        "             }\n",
        "# Run the grid search \n",
        "\n",
        "grid_S=GridSearchCV(DecisionTreeClassifier(), parameters)\n",
        "grid_S=grid_S.fit(X_train, y_train)\n",
        "\n",
        "# Set the clf to the best combination of parameters\n",
        "clf = grid_S.best_estimator_\n",
        "\n",
        "# Train the model using the training sets \n",
        "clf.fit(X_train, y_train)"
      ],
      "metadata": {
        "colab": {
          "base_uri": "https://localhost:8080/"
        },
        "id": "35hs3Caka70H",
        "outputId": "c2bca8fd-9e3b-44e3-dd1a-c3623a541843"
      },
      "execution_count": null,
      "outputs": [
        {
          "output_type": "stream",
          "name": "stderr",
          "text": [
            "/usr/local/lib/python3.7/dist-packages/sklearn/model_selection/_split.py:680: UserWarning: The least populated class in y has only 2 members, which is less than n_splits=5.\n",
            "  UserWarning,\n"
          ]
        },
        {
          "output_type": "execute_result",
          "data": {
            "text/plain": [
              "DecisionTreeClassifier(criterion='entropy', max_depth=10, max_features='log2',\n",
              "                       min_samples_split=3)"
            ]
          },
          "metadata": {},
          "execution_count": 155
        }
      ]
    },
    {
      "cell_type": "code",
      "source": [
        "y_pred = clf.predict(X_test)"
      ],
      "metadata": {
        "id": "AFtlPnW1doky"
      },
      "execution_count": null,
      "outputs": []
    },
    {
      "cell_type": "code",
      "source": [
        "cf_matrix = confusion_matrix(y_test, y_pred)\n",
        "\n",
        "print(cf_matrix)\n"
      ],
      "metadata": {
        "colab": {
          "base_uri": "https://localhost:8080/"
        },
        "id": "hrUVSpexdqW1",
        "outputId": "9f5f6155-8766-4cd4-92da-a240c2a63af9"
      },
      "execution_count": null,
      "outputs": [
        {
          "output_type": "stream",
          "name": "stdout",
          "text": [
            "[[12928   844     0     0]\n",
            " [  639  6987     8     0]\n",
            " [    1    54    12     0]\n",
            " [    0     1     0     0]]\n"
          ]
        }
      ]
    },
    {
      "cell_type": "code",
      "source": [
        "# Calculating the accuracy, precision and the recall\n",
        "acc_dt = round( metrics.accuracy_score(y_test, y_pred) * 100, 2 )\n",
        "print( 'Total Accuracy : ', acc_dt )\n"
      ],
      "metadata": {
        "colab": {
          "base_uri": "https://localhost:8080/"
        },
        "id": "lGQf2NiFd1ut",
        "outputId": "78e643b8-8b5f-4099-9298-509f2f269485"
      },
      "execution_count": null,
      "outputs": [
        {
          "output_type": "stream",
          "name": "stdout",
          "text": [
            "Total Accuracy :  92.8\n"
          ]
        }
      ]
    },
    {
      "cell_type": "markdown",
      "source": [
        "#**K - Nearest Neighbors**"
      ],
      "metadata": {
        "id": "QLtGgk1Yig4O"
      }
    },
    {
      "cell_type": "code",
      "source": [
        "# Import library of KNeighborsClassifier model\n",
        "from sklearn.neighbors import KNeighborsClassifier\n",
        "from sklearn.model_selection import StratifiedShuffleSplit\n",
        "from sklearn.model_selection import KFold, StratifiedKFold\n",
        "\n",
        "\n",
        "# Create a KNN Classifier\n",
        "knn = KNeighborsClassifier()\n",
        "# Train the model using the training sets \n",
        "knn.fit(X_train,y_train)"
      ],
      "metadata": {
        "colab": {
          "base_uri": "https://localhost:8080/"
        },
        "id": "bA0BeqkJihU0",
        "outputId": "d4072170-723d-4081-e363-4d2b4ecbf3b8"
      },
      "execution_count": null,
      "outputs": [
        {
          "output_type": "execute_result",
          "data": {
            "text/plain": [
              "KNeighborsClassifier()"
            ]
          },
          "metadata": {},
          "execution_count": 127
        }
      ]
    },
    {
      "cell_type": "code",
      "source": [
        "# Prediction on test data\n",
        "y_pred = knn.predict(X_test)"
      ],
      "metadata": {
        "id": "65znUNJTizD-"
      },
      "execution_count": null,
      "outputs": []
    },
    {
      "cell_type": "code",
      "source": [
        "acc_knn = round( metrics.accuracy_score(y_test, y_pred) * 100, 2 )\n",
        "print( 'Total Accuracy : ', acc_knn )"
      ],
      "metadata": {
        "colab": {
          "base_uri": "https://localhost:8080/"
        },
        "id": "eWNxidTHi1Qi",
        "outputId": "4af862e3-7b73-420b-a89b-f830600e9d5c"
      },
      "execution_count": null,
      "outputs": [
        {
          "output_type": "stream",
          "name": "stdout",
          "text": [
            "Total Accuracy :  90.21\n"
          ]
        }
      ]
    },
    {
      "cell_type": "markdown",
      "source": [
        "#**XGBoost**"
      ],
      "metadata": {
        "id": "YeIvXCi8jD9K"
      }
    },
    {
      "cell_type": "code",
      "source": [
        "# Import library of xgboost model\n",
        "from xgboost import XGBClassifier\n",
        "\n",
        "# Create a XGB Classifier\n",
        "# gbm = XGBClassifier(learning_rate = 0.02, n_estimators= 2000, max_depth= 4, min_child_weight= 2, gamma=1, subsample=0.8, \n",
        "#                     colsample_bytree=0.8, objective= 'binary:logistic', nthread= -1, scale_pos_weight=1)\n",
        "gbm = XGBClassifier()\n",
        "\n",
        "# Train the model using the training sets\n",
        "gbm.fit(X_train, y_train)"
      ],
      "metadata": {
        "colab": {
          "base_uri": "https://localhost:8080/"
        },
        "id": "vcdw6FRhi3iT",
        "outputId": "60bb9c03-ffab-4d55-fdbc-aa46772cd823"
      },
      "execution_count": null,
      "outputs": [
        {
          "output_type": "execute_result",
          "data": {
            "text/plain": [
              "XGBClassifier(objective='multi:softprob')"
            ]
          },
          "metadata": {},
          "execution_count": 130
        }
      ]
    },
    {
      "cell_type": "code",
      "source": [
        "y_pred = gbm.predict(X_test)\n"
      ],
      "metadata": {
        "id": "w3XE2VF8jK0c"
      },
      "execution_count": null,
      "outputs": []
    },
    {
      "cell_type": "code",
      "source": [
        "acc_xgb = round( metrics.accuracy_score(y_test, y_pred) * 100 , 2 )\n",
        "print( 'Total Accuracy : ', acc_xgb )"
      ],
      "metadata": {
        "colab": {
          "base_uri": "https://localhost:8080/"
        },
        "id": "038U-GqnjK4e",
        "outputId": "490fde55-dc53-4b06-c259-7e3b2e642047"
      },
      "execution_count": null,
      "outputs": [
        {
          "output_type": "stream",
          "name": "stdout",
          "text": [
            "Total Accuracy :  93.07\n"
          ]
        }
      ]
    },
    {
      "cell_type": "code",
      "source": [
        "cf_matrix = confusion_matrix(y_test, y_pred)\n",
        "\n",
        "print(cf_matrix)\n"
      ],
      "metadata": {
        "colab": {
          "base_uri": "https://localhost:8080/"
        },
        "id": "y6Ied8u2lBPI",
        "outputId": "7284bc0d-a0b1-43ea-b0eb-567aab05a16b"
      },
      "execution_count": null,
      "outputs": [
        {
          "output_type": "stream",
          "name": "stdout",
          "text": [
            "[[12909   863     0     0]\n",
            " [  564  7068     2     0]\n",
            " [    1    58     8     0]\n",
            " [    0     1     0     0]]\n"
          ]
        }
      ]
    },
    {
      "cell_type": "markdown",
      "source": [
        "#**SVM Classifier**"
      ],
      "metadata": {
        "id": "bMwU1PPDlLDr"
      }
    },
    {
      "cell_type": "code",
      "source": [
        "from sklearn.preprocessing import StandardScaler\n",
        "sc = StandardScaler()\n",
        "X_train = sc.fit_transform(X_train)\n",
        "X_test = sc.transform(X_test)\n"
      ],
      "metadata": {
        "id": "7NMFhNUDlJFM"
      },
      "execution_count": null,
      "outputs": []
    },
    {
      "cell_type": "code",
      "source": [
        "from sklearn import svm\n",
        "\n",
        "# Create a Support Vector Classifier\n",
        "svc = svm.SVC()\n",
        "svc.fit(X_train,y_train)"
      ],
      "metadata": {
        "colab": {
          "base_uri": "https://localhost:8080/"
        },
        "id": "9An12LC9lJHB",
        "outputId": "d3f6e3df-6f9c-458a-d367-72c0d130095b"
      },
      "execution_count": null,
      "outputs": [
        {
          "output_type": "execute_result",
          "data": {
            "text/plain": [
              "SVC()"
            ]
          },
          "metadata": {},
          "execution_count": 139
        }
      ]
    },
    {
      "cell_type": "code",
      "source": [
        "# Prediction on test data\n",
        "y_pred = svc.predict(X_test)"
      ],
      "metadata": {
        "id": "7j8pAQizlJJC"
      },
      "execution_count": null,
      "outputs": []
    },
    {
      "cell_type": "code",
      "source": [
        "cf_matrix = confusion_matrix(y_test, y_pred)\n",
        "\n",
        "print(cf_matrix)"
      ],
      "metadata": {
        "colab": {
          "base_uri": "https://localhost:8080/"
        },
        "id": "N0Nkep57lJK2",
        "outputId": "dc1b7e47-1935-4e23-af42-500a619d148e"
      },
      "execution_count": null,
      "outputs": [
        {
          "output_type": "stream",
          "name": "stdout",
          "text": [
            "[[12786   986     0     0]\n",
            " [  851  6783     0     0]\n",
            " [    1    66     0     0]\n",
            " [    0     1     0     0]]\n"
          ]
        }
      ]
    },
    {
      "cell_type": "code",
      "source": [
        "acc_svm = round( metrics.accuracy_score(y_test, y_pred) * 100, 2 )\n",
        "print( 'Total Accuracy : ', acc_svm )"
      ],
      "metadata": {
        "colab": {
          "base_uri": "https://localhost:8080/"
        },
        "id": "QiklU8LTnjRN",
        "outputId": "78049670-8410-4d18-8522-00cf966cb152"
      },
      "execution_count": null,
      "outputs": [
        {
          "output_type": "stream",
          "name": "stdout",
          "text": [
            "Total Accuracy :  91.13\n"
          ]
        }
      ]
    },
    {
      "cell_type": "markdown",
      "source": [
        "#**Random Forest**"
      ],
      "metadata": {
        "id": "9vURJkkpn97A"
      }
    },
    {
      "cell_type": "code",
      "source": [
        "# Import library of RandomForestClassifier model\n",
        "from sklearn.ensemble import RandomForestClassifier\n",
        "\n",
        "# Create a Random Forest Classifier\n",
        "rf = RandomForestClassifier()\n",
        "\n",
        "rf.fit(X_train,y_train)"
      ],
      "metadata": {
        "colab": {
          "base_uri": "https://localhost:8080/"
        },
        "id": "Yj1jdZO_n62F",
        "outputId": "50f06b1e-9705-472f-aecd-2c333b2bf4dc"
      },
      "execution_count": null,
      "outputs": [
        {
          "output_type": "execute_result",
          "data": {
            "text/plain": [
              "RandomForestClassifier()"
            ]
          },
          "metadata": {},
          "execution_count": 141
        }
      ]
    },
    {
      "cell_type": "code",
      "source": [
        "# Prediction on test data\n",
        "y_pred = rf.predict(X_test)"
      ],
      "metadata": {
        "id": "DNrYYhESn694"
      },
      "execution_count": null,
      "outputs": []
    },
    {
      "cell_type": "code",
      "source": [
        "# Calculating the accuracy, precision and the recall\n",
        "acc_rf = round( metrics.accuracy_score(y_test, y_pred) * 100 , 2 )\n",
        "print( 'Total Accuracy : ', acc_rf )\n"
      ],
      "metadata": {
        "colab": {
          "base_uri": "https://localhost:8080/"
        },
        "id": "lRKAj9yen7Ai",
        "outputId": "c80bafc8-44f6-4327-ef8a-6af3a6f2724b"
      },
      "execution_count": null,
      "outputs": [
        {
          "output_type": "stream",
          "name": "stdout",
          "text": [
            "Total Accuracy :  93.45\n"
          ]
        }
      ]
    },
    {
      "cell_type": "markdown",
      "source": [
        "#Evaluation and comparision of all the models\n",
        "\n"
      ],
      "metadata": {
        "id": "O0HqaL7ilqfY"
      }
    },
    {
      "cell_type": "code",
      "source": [
        "models = pd.DataFrame({\n",
        "    'Model':['Logistic Regression', 'Naive Bayes', 'Decision Tree', 'K - Nearest Neighbors', 'Random Forest', 'XGBoost','Support Vector Machines' ],\n",
        "    'Score':[acc_logreg, acc_nb, acc_dt, acc_knn, acc_rf, acc_xgb,acc_svm]})\n",
        "models.sort_values(by='Score', ascending=False)"
      ],
      "metadata": {
        "colab": {
          "base_uri": "https://localhost:8080/",
          "height": 269
        },
        "id": "Z8M7_4b-lBmf",
        "outputId": "290286d8-65dd-4cf4-af3c-e7b5c383e760"
      },
      "execution_count": null,
      "outputs": [
        {
          "output_type": "execute_result",
          "data": {
            "text/plain": [
              "                     Model  Score\n",
              "4            Random Forest  93.45\n",
              "5                  XGBoost  93.07\n",
              "2            Decision Tree  92.80\n",
              "6  Support Vector Machines  91.13\n",
              "3    K - Nearest Neighbors  90.21\n",
              "0      Logistic Regression  76.26\n",
              "1              Naive Bayes  60.13"
            ],
            "text/html": [
              "\n",
              "  <div id=\"df-7e3eb366-40d1-4db3-81bb-6fcd27c5a616\">\n",
              "    <div class=\"colab-df-container\">\n",
              "      <div>\n",
              "<style scoped>\n",
              "    .dataframe tbody tr th:only-of-type {\n",
              "        vertical-align: middle;\n",
              "    }\n",
              "\n",
              "    .dataframe tbody tr th {\n",
              "        vertical-align: top;\n",
              "    }\n",
              "\n",
              "    .dataframe thead th {\n",
              "        text-align: right;\n",
              "    }\n",
              "</style>\n",
              "<table border=\"1\" class=\"dataframe\">\n",
              "  <thead>\n",
              "    <tr style=\"text-align: right;\">\n",
              "      <th></th>\n",
              "      <th>Model</th>\n",
              "      <th>Score</th>\n",
              "    </tr>\n",
              "  </thead>\n",
              "  <tbody>\n",
              "    <tr>\n",
              "      <th>4</th>\n",
              "      <td>Random Forest</td>\n",
              "      <td>93.45</td>\n",
              "    </tr>\n",
              "    <tr>\n",
              "      <th>5</th>\n",
              "      <td>XGBoost</td>\n",
              "      <td>93.07</td>\n",
              "    </tr>\n",
              "    <tr>\n",
              "      <th>2</th>\n",
              "      <td>Decision Tree</td>\n",
              "      <td>92.80</td>\n",
              "    </tr>\n",
              "    <tr>\n",
              "      <th>6</th>\n",
              "      <td>Support Vector Machines</td>\n",
              "      <td>91.13</td>\n",
              "    </tr>\n",
              "    <tr>\n",
              "      <th>3</th>\n",
              "      <td>K - Nearest Neighbors</td>\n",
              "      <td>90.21</td>\n",
              "    </tr>\n",
              "    <tr>\n",
              "      <th>0</th>\n",
              "      <td>Logistic Regression</td>\n",
              "      <td>76.26</td>\n",
              "    </tr>\n",
              "    <tr>\n",
              "      <th>1</th>\n",
              "      <td>Naive Bayes</td>\n",
              "      <td>60.13</td>\n",
              "    </tr>\n",
              "  </tbody>\n",
              "</table>\n",
              "</div>\n",
              "      <button class=\"colab-df-convert\" onclick=\"convertToInteractive('df-7e3eb366-40d1-4db3-81bb-6fcd27c5a616')\"\n",
              "              title=\"Convert this dataframe to an interactive table.\"\n",
              "              style=\"display:none;\">\n",
              "        \n",
              "  <svg xmlns=\"http://www.w3.org/2000/svg\" height=\"24px\"viewBox=\"0 0 24 24\"\n",
              "       width=\"24px\">\n",
              "    <path d=\"M0 0h24v24H0V0z\" fill=\"none\"/>\n",
              "    <path d=\"M18.56 5.44l.94 2.06.94-2.06 2.06-.94-2.06-.94-.94-2.06-.94 2.06-2.06.94zm-11 1L8.5 8.5l.94-2.06 2.06-.94-2.06-.94L8.5 2.5l-.94 2.06-2.06.94zm10 10l.94 2.06.94-2.06 2.06-.94-2.06-.94-.94-2.06-.94 2.06-2.06.94z\"/><path d=\"M17.41 7.96l-1.37-1.37c-.4-.4-.92-.59-1.43-.59-.52 0-1.04.2-1.43.59L10.3 9.45l-7.72 7.72c-.78.78-.78 2.05 0 2.83L4 21.41c.39.39.9.59 1.41.59.51 0 1.02-.2 1.41-.59l7.78-7.78 2.81-2.81c.8-.78.8-2.07 0-2.86zM5.41 20L4 18.59l7.72-7.72 1.47 1.35L5.41 20z\"/>\n",
              "  </svg>\n",
              "      </button>\n",
              "      \n",
              "  <style>\n",
              "    .colab-df-container {\n",
              "      display:flex;\n",
              "      flex-wrap:wrap;\n",
              "      gap: 12px;\n",
              "    }\n",
              "\n",
              "    .colab-df-convert {\n",
              "      background-color: #E8F0FE;\n",
              "      border: none;\n",
              "      border-radius: 50%;\n",
              "      cursor: pointer;\n",
              "      display: none;\n",
              "      fill: #1967D2;\n",
              "      height: 32px;\n",
              "      padding: 0 0 0 0;\n",
              "      width: 32px;\n",
              "    }\n",
              "\n",
              "    .colab-df-convert:hover {\n",
              "      background-color: #E2EBFA;\n",
              "      box-shadow: 0px 1px 2px rgba(60, 64, 67, 0.3), 0px 1px 3px 1px rgba(60, 64, 67, 0.15);\n",
              "      fill: #174EA6;\n",
              "    }\n",
              "\n",
              "    [theme=dark] .colab-df-convert {\n",
              "      background-color: #3B4455;\n",
              "      fill: #D2E3FC;\n",
              "    }\n",
              "\n",
              "    [theme=dark] .colab-df-convert:hover {\n",
              "      background-color: #434B5C;\n",
              "      box-shadow: 0px 1px 3px 1px rgba(0, 0, 0, 0.15);\n",
              "      filter: drop-shadow(0px 1px 2px rgba(0, 0, 0, 0.3));\n",
              "      fill: #FFFFFF;\n",
              "    }\n",
              "  </style>\n",
              "\n",
              "      <script>\n",
              "        const buttonEl =\n",
              "          document.querySelector('#df-7e3eb366-40d1-4db3-81bb-6fcd27c5a616 button.colab-df-convert');\n",
              "        buttonEl.style.display =\n",
              "          google.colab.kernel.accessAllowed ? 'block' : 'none';\n",
              "\n",
              "        async function convertToInteractive(key) {\n",
              "          const element = document.querySelector('#df-7e3eb366-40d1-4db3-81bb-6fcd27c5a616');\n",
              "          const dataTable =\n",
              "            await google.colab.kernel.invokeFunction('convertToInteractive',\n",
              "                                                     [key], {});\n",
              "          if (!dataTable) return;\n",
              "\n",
              "          const docLinkHtml = 'Like what you see? Visit the ' +\n",
              "            '<a target=\"_blank\" href=https://colab.research.google.com/notebooks/data_table.ipynb>data table notebook</a>'\n",
              "            + ' to learn more about interactive tables.';\n",
              "          element.innerHTML = '';\n",
              "          dataTable['output_type'] = 'display_data';\n",
              "          await google.colab.output.renderOutput(dataTable, element);\n",
              "          const docLink = document.createElement('div');\n",
              "          docLink.innerHTML = docLinkHtml;\n",
              "          element.appendChild(docLink);\n",
              "        }\n",
              "      </script>\n",
              "    </div>\n",
              "  </div>\n",
              "  "
            ]
          },
          "metadata": {},
          "execution_count": 168
        }
      ]
    },
    {
      "cell_type": "markdown",
      "source": [
        "#PRediction"
      ],
      "metadata": {
        "id": "6COE7NzVsGhL"
      }
    },
    {
      "cell_type": "code",
      "source": [
        "# Predicting on the test dataset\n",
        "my_pred = rf.predict(test.values)"
      ],
      "metadata": {
        "id": "Bk_EZXXrspci"
      },
      "execution_count": null,
      "outputs": []
    },
    {
      "cell_type": "code",
      "source": [
        "my_submission.shape"
      ],
      "metadata": {
        "colab": {
          "base_uri": "https://localhost:8080/"
        },
        "id": "ZglIs4yAtmcf",
        "outputId": "a261ade8-609e-4716-8f7c-9f7884c375f1"
      },
      "execution_count": null,
      "outputs": [
        {
          "output_type": "execute_result",
          "data": {
            "text/plain": [
              "(57239, 1)"
            ]
          },
          "metadata": {},
          "execution_count": 274
        }
      ]
    },
    {
      "cell_type": "code",
      "source": [
        "my_submission['LICENSE STATUS'] = my_pred"
      ],
      "metadata": {
        "id": "h7vaJWnZu045"
      },
      "execution_count": null,
      "outputs": []
    },
    {
      "cell_type": "code",
      "source": [
        "my_submission['LICENSE STATUS'] = my_submission['LICENSE STATUS'].replace(0, 'AAI')\n",
        "my_submission['LICENSE STATUS'] = my_submission['LICENSE STATUS'].replace(1, 'AAC')\n",
        "my_submission['LICENSE STATUS'] = my_submission['LICENSE STATUS'].replace(2, 'REV')\n",
        "my_submission['LICENSE STATUS'] = my_submission['LICENSE STATUS'].replace(3, 'REA')\n",
        "my_submission['LICENSE STATUS'] = my_submission['LICENSE STATUS'].replace(4, 'INQ')"
      ],
      "metadata": {
        "id": "YBqTnbCbushT"
      },
      "execution_count": null,
      "outputs": []
    },
    {
      "cell_type": "code",
      "source": [
        "# Saving predictions to file\n",
        "my_submission.to_csv('submission.csv', index=False)"
      ],
      "metadata": {
        "id": "Iq53KENQuvAb"
      },
      "execution_count": null,
      "outputs": []
    },
    {
      "cell_type": "code",
      "source": [
        ""
      ],
      "metadata": {
        "id": "Ik8K5QW4u5W1"
      },
      "execution_count": null,
      "outputs": []
    }
  ]
}